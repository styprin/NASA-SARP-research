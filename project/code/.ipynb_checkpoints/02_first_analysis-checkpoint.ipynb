{
 "cells": [
  {
   "cell_type": "markdown",
   "id": "8de12579-7238-4c26-a34f-0b4e40d9e95a",
   "metadata": {},
   "source": [
    "# First Analysis\n",
    "\n",
    "Description ..."
   ]
  },
  {
   "cell_type": "code",
   "execution_count": 1,
   "id": "cf6b52a0-7732-4adc-93dc-c92bf5b85be2",
   "metadata": {},
   "outputs": [
    {
     "name": "stdout",
     "output_type": "stream",
     "text": [
      "my analysis!\n"
     ]
    }
   ],
   "source": [
    "print('my analysis!')"
   ]
  },
  {
   "cell_type": "code",
   "execution_count": null,
   "id": "2f6787e8-ebb0-42ed-a6d3-57cb972586a7",
   "metadata": {},
   "outputs": [],
   "source": []
  }
 ],
 "metadata": {
  "kernelspec": {
   "display_name": "Python 3 (ipykernel)",
   "language": "python",
   "name": "python3"
  },
  "language_info": {
   "codemirror_mode": {
    "name": "ipython",
    "version": 3
   },
   "file_extension": ".py",
   "mimetype": "text/x-python",
   "name": "python",
   "nbconvert_exporter": "python",
   "pygments_lexer": "ipython3",
   "version": "3.11.9"
  }
 },
 "nbformat": 4,
 "nbformat_minor": 5
}
