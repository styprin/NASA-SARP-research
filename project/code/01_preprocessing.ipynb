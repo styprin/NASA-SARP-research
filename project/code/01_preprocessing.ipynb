{
 "cells": [
  {
   "cell_type": "markdown",
   "id": "7c0f3fa0-0723-42fd-bfb3-ec947f018045",
   "metadata": {},
   "source": [
    "# Preprocessing"
   ]
  },
  {
   "cell_type": "markdown",
   "id": "aabd8176-18fe-4f4a-86bc-bd3e87cf4fbd",
   "metadata": {},
   "source": [
    "At the top of each notebook write 1-2 paragraphs describing what is accomplished in this notebook. This might describe at a high level what data is being used and what the end state of that data is."
   ]
  },
  {
   "cell_type": "code",
   "execution_count": 3,
   "id": "80c6b610-5e76-44b1-8635-f691d300d018",
   "metadata": {},
   "outputs": [
    {
     "name": "stdin",
     "output_type": "stream",
     "text": [
      "name: rachel\n"
     ]
    },
    {
     "name": "stdout",
     "output_type": "stream",
     "text": [
      "hello, rachel !\n"
     ]
    }
   ],
   "source": [
    "name = input('name:')\n",
    "print('hello,', name, '!')"
   ]
  },
  {
   "cell_type": "code",
   "execution_count": null,
   "id": "e399ef01-5d32-4fee-a6b0-34ba5eec6b19",
   "metadata": {},
   "outputs": [],
   "source": []
  }
 ],
 "metadata": {
  "kernelspec": {
   "display_name": "Python 3 (ipykernel)",
   "language": "python",
   "name": "python3"
  },
  "language_info": {
   "codemirror_mode": {
    "name": "ipython",
    "version": 3
   },
   "file_extension": ".py",
   "mimetype": "text/x-python",
   "name": "python",
   "nbconvert_exporter": "python",
   "pygments_lexer": "ipython3",
   "version": "3.11.9"
  }
 },
 "nbformat": 4,
 "nbformat_minor": 5
}
