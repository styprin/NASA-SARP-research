{
 "cells": [
  {
   "cell_type": "markdown",
   "id": "f6228a71-e08f-4a8e-bb63-b89e4385ff56",
   "metadata": {},
   "source": [
    "# Readme"
   ]
  },
  {
   "cell_type": "markdown",
   "id": "a50bc42d-388c-47d2-86fc-2fcc394abf13",
   "metadata": {},
   "source": [
    "1. Upload NDVI image files from each year.\n",
    "2. Make Upland Forest coordinate dataframe\n",
    "3. Make single NDVI image into NDVI coordinate dataframe and plot\n",
    "4. Make all NDVI images and compile into time progression GIF\n",
    "5. Extract NDVI time series values for single coordinates\n",
    "6. Calculate standard deviation across 5 years for each coordinate"
   ]
  },
  {
   "cell_type": "markdown",
   "id": "881e4d61-88a3-4962-b66b-5677b48d1dc9",
   "metadata": {},
   "source": [
    "# Importing libraries"
   ]
  },
  {
   "cell_type": "code",
   "execution_count": 2,
   "id": "a800c517-d017-42d2-8079-f9c58a94900f",
   "metadata": {},
   "outputs": [],
   "source": [
    "import xarray as xr \n",
    "import pandas as pd\n",
    "import numpy as np\n",
    "from shapely import wkt\n",
    "import geopandas as gpd\n",
    "import rasterio\n",
    "import matplotlib.pyplot as plt\n",
    "import rioxarray as rxr\n",
    "import rasterio as rio\n",
    "from shapely import wkt\n",
    "from shapely.geometry import Point\n",
    "import imageio.v2 as imageio  # For gif creation\n",
    "import os\n",
    "from IPython.display import display, Image\n",
    "from statistics import stdev, pstdev\n",
    "from scipy.stats import kendalltau\n",
    "import seaborn as sns"
   ]
  },
  {
   "cell_type": "code",
   "execution_count": 3,
   "id": "4e79ca8f-91e3-47a7-b2a9-81f3e295808c",
   "metadata": {},
   "outputs": [
    {
     "name": "stdout",
     "output_type": "stream",
     "text": [
      "Filenames:  ['/home/jovyan/sara_typrin/ndvi_landsat/data/ndvi_landsat/ndvi_landsat_2014.tif', '/home/jovyan/sara_typrin/ndvi_landsat/data/ndvi_landsat/ndvi_landsat_2015.tif', '/home/jovyan/sara_typrin/ndvi_landsat/data/ndvi_landsat/ndvi_landsat_2016.tif', '/home/jovyan/sara_typrin/ndvi_landsat/data/ndvi_landsat/ndvi_landsat_2017.tif', '/home/jovyan/sara_typrin/ndvi_landsat/data/ndvi_landsat/ndvi_landsat_2018.tif', '/home/jovyan/sara_typrin/ndvi_landsat/data/ndvi_landsat/ndvi_landsat_2020.tif', '/home/jovyan/sara_typrin/ndvi_landsat/data/ndvi_landsat/ndvi_landsat_2021.tif', '/home/jovyan/sara_typrin/ndvi_landsat/data/ndvi_landsat/ndvi_landsat_2022.tif', '/home/jovyan/sara_typrin/ndvi_landsat/data/ndvi_landsat/ndvi_landsat_2023.tif', '/home/jovyan/sara_typrin/ndvi_landsat/data/ndvi_landsat/ndvi_landsat_2024.tif']\n",
      "10\n",
      "['2014', '2015', '2016', '2017', '2018', '2020', '2021', '2022', '2023', '2024']\n"
     ]
    }
   ],
   "source": [
    "#load file \n",
    "num_files1 = 5\n",
    "num_files2 = 5\n",
    "file_name_list = []\n",
    "image_years = []\n",
    "file_path = '/home/jovyan/sara_typrin/ndvi_landsat/data/ndvi_landsat/ndvi_landsat_'\n",
    "\n",
    "for i in range(num_files1):\n",
    "    n = i + 4\n",
    "    file_name_list.append(file_path + '201' + str(n) + '.tif')\n",
    "    image_years.append('201' + str(n))\n",
    "\n",
    "for j in range(num_files2):\n",
    "    file_name_list.append(file_path + '202' + str(j) + '.tif')\n",
    "    image_years.append('202' + str(j))\n",
    "\n",
    "print('Filenames: ', file_name_list)\n",
    "\n",
    "ndvi_landsat = [xr.open_dataset(fn) for fn in file_name_list]\n",
    "\n",
    "print(len(ndvi_landsat))\n",
    "print(image_years)\n",
    "#new_file = xr.open_dataset('/home/jovyan/sara_typrin/ndvi_landsat/data/ndvi_landsat/ndvi_landsat_2024.tif')"
   ]
  },
  {
   "cell_type": "markdown",
   "id": "f4fb231a-e221-4bfd-aa51-f0908df17397",
   "metadata": {},
   "source": [
    "# Making Upland Forest Coordinate Dataframe"
   ]
  },
  {
   "cell_type": "markdown",
   "id": "5f9abc8b-67fd-4f71-85b5-a4c6d23f19ba",
   "metadata": {},
   "source": [
    "### Upload upland_forest_list_subset file"
   ]
  },
  {
   "cell_type": "code",
   "execution_count": 5,
   "id": "2144288f-f422-4bd6-83a2-a2ab4594eb80",
   "metadata": {},
   "outputs": [
    {
     "name": "stdout",
     "output_type": "stream",
     "text": [
      "583995\n"
     ]
    }
   ],
   "source": [
    "file_name = '/home/jovyan/sara_typrin/landcover/data/upland_forest_list_subset.csv'\n",
    "# Read each CSV into a list of DataFrames\n",
    "upland_forest_dfs = pd.read_csv(file_name) \n",
    "\n",
    "print(len(upland_forest_dfs))"
   ]
  },
  {
   "cell_type": "code",
   "execution_count": 6,
   "id": "4ee7ee50-bc1d-4779-a2a3-c37dd699c407",
   "metadata": {},
   "outputs": [
    {
     "data": {
      "text/plain": [
       "0          POINT (-76.34073656944743 38.6739655179992)\n",
       "1         POINT (-76.34038674669645 38.67369918873219)\n",
       "2         POINT (-76.34003188678642 38.67316257660434)\n",
       "3         POINT (-76.20211555033754 38.67466160674739)\n",
       "4          POINT (-76.2017707468719 38.67466515058795)\n",
       "                              ...                     \n",
       "583990     POINT (-75.6906159919293 38.19944852691961)\n",
       "583991    POINT (-75.68958818839741 38.19945456839031)\n",
       "583992    POINT (-75.68856038455816 38.19946060086436)\n",
       "583993     POINT (-75.68821778321019 38.1994626096898)\n",
       "583994    POINT (-75.68444916613683 38.19948464079413)\n",
       "Name: point, Length: 583995, dtype: object"
      ]
     },
     "execution_count": 6,
     "metadata": {},
     "output_type": "execute_result"
    }
   ],
   "source": [
    "upland_forest_dfs['point']"
   ]
  },
  {
   "cell_type": "markdown",
   "id": "6e2844e5-5700-4e2d-ab6a-16e3ebae206c",
   "metadata": {},
   "source": [
    "### Convert point string to point object."
   ]
  },
  {
   "cell_type": "code",
   "execution_count": 7,
   "id": "2b03f202-2d07-400e-af6d-968969b78f50",
   "metadata": {},
   "outputs": [],
   "source": [
    "upland_forest_dfs['point'] = upland_forest_dfs['point'].apply(wkt.loads)"
   ]
  },
  {
   "cell_type": "markdown",
   "id": "875d9e90-10f5-4d61-aaf5-081d58d5f139",
   "metadata": {},
   "source": [
    "## Extracting latitude-longitude information"
   ]
  },
  {
   "cell_type": "code",
   "execution_count": 8,
   "id": "67204ccd-45c9-483e-8c17-324333861e46",
   "metadata": {},
   "outputs": [],
   "source": [
    "lat = [None] * len( upland_forest_dfs['point'])\n",
    "lon = [None] * len( upland_forest_dfs['point'])"
   ]
  },
  {
   "cell_type": "markdown",
   "id": "24826195-cad4-4092-80d8-c07dafa4218e",
   "metadata": {},
   "source": [
    "Extracting latitude-longitude information from a Point in a geodataframe"
   ]
  },
  {
   "cell_type": "code",
   "execution_count": 9,
   "id": "496bc2ab-b3c1-4625-8c4d-56fe73b751fc",
   "metadata": {
    "scrolled": true
   },
   "outputs": [],
   "source": [
    "lat = [None] * len( upland_forest_dfs['point'])\n",
    "lon = [None] * len( upland_forest_dfs['point'])\n",
    "\n",
    "for i in range (0, len( upland_forest_dfs['point'])):\n",
    "    lon[i] = upland_forest_dfs['point'][i].x\n",
    "    lat[i] = upland_forest_dfs['point'][i].y"
   ]
  },
  {
   "cell_type": "code",
   "execution_count": 10,
   "id": "a63840b2-0cf0-4e7a-acd0-484bf294d5ff",
   "metadata": {},
   "outputs": [],
   "source": [
    "coords_df = pd.DataFrame({\n",
    "    'lat': lat,\n",
    "    'lon': lon\n",
    "})"
   ]
  },
  {
   "cell_type": "code",
   "execution_count": 11,
   "id": "daca8afd-1adc-425a-b929-9c3afbc799ce",
   "metadata": {},
   "outputs": [
    {
     "data": {
      "text/html": [
       "<div>\n",
       "<style scoped>\n",
       "    .dataframe tbody tr th:only-of-type {\n",
       "        vertical-align: middle;\n",
       "    }\n",
       "\n",
       "    .dataframe tbody tr th {\n",
       "        vertical-align: top;\n",
       "    }\n",
       "\n",
       "    .dataframe thead th {\n",
       "        text-align: right;\n",
       "    }\n",
       "</style>\n",
       "<table border=\"1\" class=\"dataframe\">\n",
       "  <thead>\n",
       "    <tr style=\"text-align: right;\">\n",
       "      <th></th>\n",
       "      <th>lat</th>\n",
       "      <th>lon</th>\n",
       "    </tr>\n",
       "  </thead>\n",
       "  <tbody>\n",
       "    <tr>\n",
       "      <th>0</th>\n",
       "      <td>38.673966</td>\n",
       "      <td>-76.340737</td>\n",
       "    </tr>\n",
       "    <tr>\n",
       "      <th>1</th>\n",
       "      <td>38.673699</td>\n",
       "      <td>-76.340387</td>\n",
       "    </tr>\n",
       "    <tr>\n",
       "      <th>2</th>\n",
       "      <td>38.673163</td>\n",
       "      <td>-76.340032</td>\n",
       "    </tr>\n",
       "    <tr>\n",
       "      <th>3</th>\n",
       "      <td>38.674662</td>\n",
       "      <td>-76.202116</td>\n",
       "    </tr>\n",
       "    <tr>\n",
       "      <th>4</th>\n",
       "      <td>38.674665</td>\n",
       "      <td>-76.201771</td>\n",
       "    </tr>\n",
       "    <tr>\n",
       "      <th>...</th>\n",
       "      <td>...</td>\n",
       "      <td>...</td>\n",
       "    </tr>\n",
       "    <tr>\n",
       "      <th>583990</th>\n",
       "      <td>38.199449</td>\n",
       "      <td>-75.690616</td>\n",
       "    </tr>\n",
       "    <tr>\n",
       "      <th>583991</th>\n",
       "      <td>38.199455</td>\n",
       "      <td>-75.689588</td>\n",
       "    </tr>\n",
       "    <tr>\n",
       "      <th>583992</th>\n",
       "      <td>38.199461</td>\n",
       "      <td>-75.688560</td>\n",
       "    </tr>\n",
       "    <tr>\n",
       "      <th>583993</th>\n",
       "      <td>38.199463</td>\n",
       "      <td>-75.688218</td>\n",
       "    </tr>\n",
       "    <tr>\n",
       "      <th>583994</th>\n",
       "      <td>38.199485</td>\n",
       "      <td>-75.684449</td>\n",
       "    </tr>\n",
       "  </tbody>\n",
       "</table>\n",
       "<p>583995 rows × 2 columns</p>\n",
       "</div>"
      ],
      "text/plain": [
       "              lat        lon\n",
       "0       38.673966 -76.340737\n",
       "1       38.673699 -76.340387\n",
       "2       38.673163 -76.340032\n",
       "3       38.674662 -76.202116\n",
       "4       38.674665 -76.201771\n",
       "...           ...        ...\n",
       "583990  38.199449 -75.690616\n",
       "583991  38.199455 -75.689588\n",
       "583992  38.199461 -75.688560\n",
       "583993  38.199463 -75.688218\n",
       "583994  38.199485 -75.684449\n",
       "\n",
       "[583995 rows x 2 columns]"
      ]
     },
     "execution_count": 11,
     "metadata": {},
     "output_type": "execute_result"
    }
   ],
   "source": [
    "coords_df"
   ]
  },
  {
   "cell_type": "markdown",
   "id": "31577285-a1ac-48aa-a684-96fd288bb19d",
   "metadata": {},
   "source": [
    "## Making NDVI images into NDVI and coordinate dataframe and making GIF"
   ]
  },
  {
   "cell_type": "markdown",
   "id": "c046604f-5f6f-4dad-a8e0-482ecccc0926",
   "metadata": {},
   "source": [
    "## Procedure for one image:"
   ]
  },
  {
   "cell_type": "code",
   "execution_count": 11,
   "id": "a024ff88-22d3-43cd-acca-0d38c9df7653",
   "metadata": {},
   "outputs": [],
   "source": [
    "# ndvi_landsat[0]"
   ]
  },
  {
   "cell_type": "code",
   "execution_count": 12,
   "id": "fc6fcb8a-439b-4fd2-8fe0-f13da1435978",
   "metadata": {},
   "outputs": [],
   "source": [
    "# data = ndvi_landsat[0].band_data.values\n",
    "\n",
    "# data"
   ]
  },
  {
   "cell_type": "code",
   "execution_count": 13,
   "id": "d369e5f6-ca19-48c1-88c3-cb2f8396ed00",
   "metadata": {},
   "outputs": [],
   "source": [
    "# mask = np.isfinite(data)   # True for non-NaN values\n",
    "# #mask"
   ]
  },
  {
   "cell_type": "code",
   "execution_count": 14,
   "id": "55c448e3-8312-49c4-8327-34873148805f",
   "metadata": {},
   "outputs": [],
   "source": [
    "# points = np.argwhere(mask)  # Find the indices of array elements that are non-zero, grouped by element. \n",
    "# #points"
   ]
  },
  {
   "cell_type": "code",
   "execution_count": 15,
   "id": "41f3bf1c-f677-4c6f-97f7-7e0a5b75dae2",
   "metadata": {},
   "outputs": [],
   "source": [
    "# points = np.transpose(np.nonzero(mask)) #shape (N, 3): [d_index, x_index, y_index]\n",
    "# #points"
   ]
  },
  {
   "cell_type": "code",
   "execution_count": 16,
   "id": "84a0d024-75ad-4567-bd34-e837bfb81831",
   "metadata": {},
   "outputs": [],
   "source": [
    "# da_ndvi = ndvi_landsat[0].rio.reproject(\"EPSG:4326\")\n",
    "# lon, lat = np.meshgrid(da_ndvi.x, da_ndvi.y)\n",
    "# # da_ndvi.band_datalon, lat = np.meshgrid(da_ndvi.x, da_ndvi.y)\n",
    "# lon = lon.flatten()\n",
    "# lat = lat.flatten()\n"
   ]
  },
  {
   "cell_type": "code",
   "execution_count": 17,
   "id": "be6d0f0a-2336-4ce9-a35e-dc11039656ed",
   "metadata": {},
   "outputs": [],
   "source": [
    "# d_inds, lat, lon = points.T "
   ]
  },
  {
   "cell_type": "code",
   "execution_count": 18,
   "id": "e5e23446-5ec5-46d3-a34e-82bc7ecab5ab",
   "metadata": {},
   "outputs": [],
   "source": [
    "# values = data[mask]  #ndvi values (mask = True)   \n",
    "# #values"
   ]
  },
  {
   "cell_type": "code",
   "execution_count": 19,
   "id": "028444a5-176c-485b-b193-e67dc1ed2e51",
   "metadata": {},
   "outputs": [],
   "source": [
    "# plt.figure(figsize=(8, 6))\n",
    "# fig = plt.scatter(lat, lon, c=values, cmap='viridis', s=10)\n",
    "# plt.colorbar(label='NDVI')\n",
    "# plt.xlabel('Latitude')\n",
    "# plt.ylabel('Longitude')\n",
    "# plt.title('2014 NDVI in Blackwater Wildlige Refuge')\n",
    "# plt.gca().invert_yaxis()\n",
    "# plt.show() \n",
    "# plt.savefig('/home/jovyan/sara_typrin/ndvi_landsat/figures/ndvi_image_plot.png')  # Save with filename"
   ]
  },
  {
   "cell_type": "markdown",
   "id": "2bd752c6-496a-471f-8773-45fbf34dfc32",
   "metadata": {},
   "source": [
    "## Procedure for all images:"
   ]
  },
  {
   "cell_type": "markdown",
   "id": "15e8da86-9fd2-49d0-b157-a16c2d7fe4e2",
   "metadata": {},
   "source": [
    "### Set uniform color axis across all frames"
   ]
  },
  {
   "cell_type": "code",
   "execution_count": 9,
   "id": "95b6607a-3de7-41a4-83f2-82c51d7563de",
   "metadata": {},
   "outputs": [
    {
     "name": "stdout",
     "output_type": "stream",
     "text": [
      "Global NDVI range: -0.999 to 0.996\n"
     ]
    }
   ],
   "source": [
    "# Step 1: Compute global NDVI min/max\n",
    "ndvi_min = float('inf')\n",
    "ndvi_max = float('-inf')\n",
    "\n",
    "for i in range(len(ndvi_landsat[9])):\n",
    "    try:\n",
    "        data = ndvi_landsat[i].band_data.values\n",
    "        mask = np.isfinite(data)\n",
    "        values = data[mask]\n",
    "        ndvi_min = min(ndvi_min, values.min())\n",
    "        ndvi_max = max(ndvi_max, values.max())\n",
    "    except Exception as e:\n",
    "        print(f\"Skipping index {i} during min/max calc: {e}\")\n",
    "        continue\n",
    "\n",
    "print(f\"Global NDVI range: {ndvi_min:.3f} to {ndvi_max:.3f}\")"
   ]
  },
  {
   "cell_type": "code",
   "execution_count": 13,
   "id": "918d23fe-ce70-4d3d-a800-dd8817743938",
   "metadata": {},
   "outputs": [
    {
     "ename": "NameError",
     "evalue": "name 'image' is not defined",
     "output_type": "error",
     "traceback": [
      "\u001b[0;31m---------------------------------------------------------------------------\u001b[0m",
      "\u001b[0;31mNameError\u001b[0m                                 Traceback (most recent call last)",
      "Cell \u001b[0;32mIn[13], line 34\u001b[0m\n\u001b[1;32m     31\u001b[0m plt\u001b[38;5;241m.\u001b[39msavefig(img_path)\n\u001b[1;32m     32\u001b[0m plt\u001b[38;5;241m.\u001b[39mclose()\n\u001b[0;32m---> 34\u001b[0m \u001b[43mimage\u001b[49m\u001b[38;5;241m.\u001b[39mappend(img_path)\n",
      "\u001b[0;31mNameError\u001b[0m: name 'image' is not defined"
     ]
    }
   ],
   "source": [
    "# image_paths = []\n",
    "\n",
    "for i in range(len(ndvi_landsat)):\n",
    "    i=9\n",
    "    data = ndvi_landsat[i].band_data.values\n",
    "    mask = np.isfinite(data)   \n",
    "    points = np.argwhere(mask)\n",
    "    points = np.transpose(np.nonzero(mask))\n",
    "    \n",
    "    da_ndvi = ndvi_landsat[i].rio.reproject(\"EPSG:4326\")\n",
    "    lon, lat = np.meshgrid(da_ndvi.x, da_ndvi.y)\n",
    "    # da_ndvi.band_datalon, lat = np.meshgrid(da_ndvi.x, da_ndvi.y)\n",
    "    lon = lon.flatten()\n",
    "    lat = lat.flatten()\n",
    "    d_inds, lat, lon = points.T  \n",
    "\n",
    "    values = data[mask]\n",
    "    \n",
    "    # Plot\n",
    "    plt.figure(figsize=(8, 6))\n",
    "    fig = plt.scatter(lon, lat, c=values, cmap='viridis', s=10,\n",
    "                            vmin=ndvi_min, vmax=ndvi_max)  # Fixed color scale    plt.colorbar(label='NDVI')\n",
    "    plt.colorbar(fig, label='NDVI', )\n",
    "    plt.xlabel('Latitude',  fontsize=16)\n",
    "    plt.ylabel('Longitude',  fontsize=16)\n",
    "    plt.title(image_years[i] + ' NDVI in Blackwater Wildlife Refuge',  fontsize=20)\n",
    "    plt.gca().invert_yaxis()\n",
    "    #plt.show() \n",
    "    # Save frame\n",
    "    img_path = f'/home/jovyan/sara_typrin/ndvi_landsat/figures/ndvi_frame_{i}.png'\n",
    "    plt.savefig(img_path)\n",
    "    plt.close()\n",
    "\n",
    "    # image.append(img_path)"
   ]
  },
  {
   "cell_type": "code",
   "execution_count": 28,
   "id": "6731c162-a4ef-4794-b765-e7e03cc96add",
   "metadata": {},
   "outputs": [
    {
     "name": "stdout",
     "output_type": "stream",
     "text": [
      "Frames used: 10\n",
      "['/home/jovyan/sara_typrin/ndvi_landsat/figures/ndvi_frame_0.png', '/home/jovyan/sara_typrin/ndvi_landsat/figures/ndvi_frame_1.png', '/home/jovyan/sara_typrin/ndvi_landsat/figures/ndvi_frame_2.png', '/home/jovyan/sara_typrin/ndvi_landsat/figures/ndvi_frame_3.png', '/home/jovyan/sara_typrin/ndvi_landsat/figures/ndvi_frame_4.png', '/home/jovyan/sara_typrin/ndvi_landsat/figures/ndvi_frame_5.png', '/home/jovyan/sara_typrin/ndvi_landsat/figures/ndvi_frame_6.png', '/home/jovyan/sara_typrin/ndvi_landsat/figures/ndvi_frame_7.png', '/home/jovyan/sara_typrin/ndvi_landsat/figures/ndvi_frame_8.png', '/home/jovyan/sara_typrin/ndvi_landsat/figures/ndvi_frame_9.png']\n"
     ]
    }
   ],
   "source": [
    "image_paths = []\n",
    "\n",
    "for i in range(len(ndvi_landsat)):\n",
    "    image_paths.append(f'/home/jovyan/sara_typrin/ndvi_landsat/figures/ndvi_frame_{i}.png')\n",
    "\n",
    "print(\"Frames used:\", len(image_paths))\n",
    "print(image_paths)"
   ]
  },
  {
   "cell_type": "code",
   "execution_count": 32,
   "id": "37fb8b84-b7ce-4e06-b61f-ca2cd7f0b448",
   "metadata": {},
   "outputs": [
    {
     "name": "stdout",
     "output_type": "stream",
     "text": [
      "/home/jovyan/sara_typrin/ndvi_landsat/figures/ndvi_frame_0.png\n",
      "/home/jovyan/sara_typrin/ndvi_landsat/figures/ndvi_frame_1.png\n",
      "/home/jovyan/sara_typrin/ndvi_landsat/figures/ndvi_frame_2.png\n",
      "/home/jovyan/sara_typrin/ndvi_landsat/figures/ndvi_frame_3.png\n",
      "/home/jovyan/sara_typrin/ndvi_landsat/figures/ndvi_frame_4.png\n",
      "/home/jovyan/sara_typrin/ndvi_landsat/figures/ndvi_frame_5.png\n",
      "/home/jovyan/sara_typrin/ndvi_landsat/figures/ndvi_frame_6.png\n",
      "/home/jovyan/sara_typrin/ndvi_landsat/figures/ndvi_frame_7.png\n",
      "/home/jovyan/sara_typrin/ndvi_landsat/figures/ndvi_frame_8.png\n",
      "/home/jovyan/sara_typrin/ndvi_landsat/figures/ndvi_frame_9.png\n"
     ]
    },
    {
     "name": "stderr",
     "output_type": "stream",
     "text": [
      "/tmp/ipykernel_259/1012967667.py:11: DeprecationWarning: Starting with ImageIO v3 the behavior of this function will switch to that of iio.v3.imread. To keep the current behavior (and make this warning disappear) use `import imageio.v2 as imageio` or call `imageio.v2.imread` directly.\n",
      "  frames.append(imageio.imread(filename))\n"
     ]
    }
   ],
   "source": [
    "image_paths\n",
    "\n",
    "frames = []\n",
    "\n",
    "# Load each file into a list\n",
    "filenames = image_paths\n",
    "\n",
    "for filename in filenames:\n",
    "    if filename.endswith(\".png\"):\n",
    "        print(filename)\n",
    "        frames.append(imageio.imread(filename))\n",
    "\n",
    "\n",
    "# # Save them as frames into a gif \n",
    "# exportname = \"figures/output.gif\"\n",
    "# kargs = { 'duration': 10000 }\n",
    "# kargs = { 'loop': 1 }\n",
    "# imageio.mimsave(exportname, frames, loop = 1000)\n",
    "# #, **kargs)\n",
    "\n",
    "import imageio\n",
    "\n",
    "# Define the export name and parameters\n",
    "export_name = \"figures/output.gif\"\n",
    "kargs = {\n",
    "    'duration': 5.0,  # Duration in seconds for each frame\n",
    "    'loop': 0         # Loop indefinitely\n",
    "}\n",
    "\n",
    "# Save the frames as a GIF\n",
    "imageio.mimsave(export_name, frames, **kargs)"
   ]
  },
  {
   "cell_type": "code",
   "execution_count": 31,
   "id": "833549f7-c2da-4da7-a439-6d13dee08547",
   "metadata": {},
   "outputs": [
    {
     "name": "stdout",
     "output_type": "stream",
     "text": [
      "/home/jovyan/sara_typrin/ndvi_landsat/figures/ndvi_frame_0.png\n",
      "/home/jovyan/sara_typrin/ndvi_landsat/figures/ndvi_frame_1.png\n",
      "/home/jovyan/sara_typrin/ndvi_landsat/figures/ndvi_frame_2.png\n",
      "/home/jovyan/sara_typrin/ndvi_landsat/figures/ndvi_frame_3.png\n",
      "/home/jovyan/sara_typrin/ndvi_landsat/figures/ndvi_frame_4.png\n",
      "/home/jovyan/sara_typrin/ndvi_landsat/figures/ndvi_frame_5.png\n",
      "/home/jovyan/sara_typrin/ndvi_landsat/figures/ndvi_frame_6.png\n",
      "/home/jovyan/sara_typrin/ndvi_landsat/figures/ndvi_frame_7.png\n",
      "/home/jovyan/sara_typrin/ndvi_landsat/figures/ndvi_frame_8.png\n",
      "/home/jovyan/sara_typrin/ndvi_landsat/figures/ndvi_frame_9.png\n"
     ]
    },
    {
     "name": "stderr",
     "output_type": "stream",
     "text": [
      "/tmp/ipykernel_259/138106481.py:7: DeprecationWarning: Starting with ImageIO v3 the behavior of this function will switch to that of iio.v3.imread. To keep the current behavior (and make this warning disappear) use `import imageio.v2 as imageio` or call `imageio.v2.imread` directly.\n",
      "  frames.append(imageio.imread(fn))\n"
     ]
    }
   ],
   "source": [
    "import imageio\n",
    "\n",
    "frames = []\n",
    "for fn in image_paths:\n",
    "    if fn.lower().endswith(\".png\"):\n",
    "        print(fn)\n",
    "        frames.append(imageio.imread(fn))\n",
    "\n",
    "exportname = \"figures/output2.gif\"\n",
    "\n",
    "# Speed control options:\n",
    "duration = 10            # display each frame for 0.1 seconds\n",
    "# fps = 10                # alternate: show 10 frames per second\n",
    "\n",
    "imageio.mimsave(\n",
    "    exportname,\n",
    "    frames,\n",
    "    loop=0,               # 0 = infinite loop, adjust as needed\n",
    "    duration=duration,   # use duration OR fps, not both\n",
    "    format=\"GIF\"\n",
    ")"
   ]
  },
  {
   "cell_type": "markdown",
   "id": "1817c91b-d381-451f-a680-08efd700fe97",
   "metadata": {},
   "source": [
    "## Extracting coordinate values from images"
   ]
  },
  {
   "cell_type": "markdown",
   "id": "f39c3de6-d2d6-4f31-9995-295842c41442",
   "metadata": {},
   "source": [
    "### Procedure for one image: "
   ]
  },
  {
   "cell_type": "markdown",
   "id": "96771a14-2293-4388-b1a8-83fe9182c6bf",
   "metadata": {},
   "source": [
    "#### Reproject the first image (2024) to have lat-lon coordinates."
   ]
  },
  {
   "cell_type": "code",
   "execution_count": 12,
   "id": "2466b8f2-94e4-4a67-88fb-6b7d383b5099",
   "metadata": {},
   "outputs": [],
   "source": [
    "da_ndvi = ndvi_landsat[0].rio.reproject(\"EPSG:4326\")\n",
    "# da_ndvi.band_data"
   ]
  },
  {
   "cell_type": "markdown",
   "id": "85cf6708-12df-4d28-b295-28d03928e6f9",
   "metadata": {},
   "source": [
    "#### Define x and y values of image as lon and lat."
   ]
  },
  {
   "cell_type": "code",
   "execution_count": 13,
   "id": "3d3ba42d-abf8-4c4a-8613-0c524d2c3af8",
   "metadata": {},
   "outputs": [],
   "source": [
    "lon, lat = np.meshgrid(da_ndvi.x, da_ndvi.y)\n",
    "lon = lon.flatten()\n",
    "lat = lat.flatten()\n",
    "#lon, lat\n",
    "ndvi = da_ndvi.band_data.values.flatten()"
   ]
  },
  {
   "cell_type": "markdown",
   "id": "da5e9862-5532-4036-bdb9-197653d0028c",
   "metadata": {},
   "source": [
    "#### Create dataframe for each pixel's lat, lon, and ndvi value."
   ]
  },
  {
   "cell_type": "code",
   "execution_count": 14,
   "id": "cb7d4546-3df5-42d7-817a-bcc23c347825",
   "metadata": {},
   "outputs": [],
   "source": [
    "# Create dataframe and drop NaNs\n",
    "ndvi_df = pd.DataFrame({\n",
    "    'lon': lon,\n",
    "    'lat': lat,\n",
    "    'ndvi': ndvi}).dropna()"
   ]
  },
  {
   "cell_type": "markdown",
   "id": "204f444c-7200-4444-8877-e0cf64cecb04",
   "metadata": {},
   "source": [
    "#### Round lat and on values to the 4th decimal place to enable matching "
   ]
  },
  {
   "cell_type": "code",
   "execution_count": 15,
   "id": "1df1e194-f169-4098-891f-ad6efac334ab",
   "metadata": {},
   "outputs": [],
   "source": [
    "coords_df[\"lat\"] = coords_df[\"lat\"].round(4)\n",
    "coords_df[\"lon\"] = coords_df[\"lon\"].round(4)\n",
    "\n",
    "ndvi_df[\"lat\"] = ndvi_df[\"lat\"].round(4)\n",
    "ndvi_df[\"lon\"] = ndvi_df[\"lon\"].round(4)"
   ]
  },
  {
   "cell_type": "markdown",
   "id": "9348f9da-c439-4a5b-989e-c4e556dee76d",
   "metadata": {},
   "source": [
    "#### Produce a dataframe that has lat, lon and ndvi only for the lat-lon values in coords_df (upland forest coordinates). There are 79222 upland forest coordinates for each image "
   ]
  },
  {
   "cell_type": "code",
   "execution_count": 16,
   "id": "38096cfc-f2b9-4b49-9aec-6c2557f7b86f",
   "metadata": {},
   "outputs": [
    {
     "name": "stdout",
     "output_type": "stream",
     "text": [
      "75119\n"
     ]
    }
   ],
   "source": [
    "matched = pd.merge(coords_df, ndvi_df, on=[\"lat\", \"lon\"], how=\"inner\")    \n",
    "#matched\n",
    "print(len(matched))"
   ]
  },
  {
   "cell_type": "markdown",
   "id": "e30bc84f-8f8c-48e0-8ecb-c6c7b3d71995",
   "metadata": {},
   "source": [
    "### Procedure for one image looped over all images: "
   ]
  },
  {
   "cell_type": "code",
   "execution_count": 17,
   "id": "a7ba69af-353d-4ffe-ade0-23fa9a53bc31",
   "metadata": {},
   "outputs": [],
   "source": [
    "matched_coords = []\n",
    "for i in range(len(image_years)):\n",
    "    da_ndvi = ndvi_landsat[i].rio.reproject(\"EPSG:4326\")\n",
    "    # da_ndvi.band_data\n",
    "    lon, lat = np.meshgrid(da_ndvi.x, da_ndvi.y)\n",
    "    lon = lon.flatten()\n",
    "    lat = lat.flatten()\n",
    "    #lon, lat\n",
    "    ndvi = da_ndvi.band_data.values.flatten()\n",
    "    # Create dataframe and drop NaNs\n",
    "    ndvi_df = pd.DataFrame({\n",
    "    'lon': lon,\n",
    "    'lat': lat,\n",
    "    'ndvi': ndvi,\n",
    "    'date': image_years[i]}).dropna()\n",
    "\n",
    "    coords_df[\"lat\"] = coords_df[\"lat\"].round(4)\n",
    "    coords_df[\"lon\"] = coords_df[\"lon\"].round(4)\n",
    "    ndvi_df[\"lat\"] = ndvi_df[\"lat\"].round(4)\n",
    "    ndvi_df[\"lon\"] = ndvi_df[\"lon\"].round(4)\n",
    "\n",
    "    matched = pd.merge(coords_df, ndvi_df, on=[\"lat\", \"lon\"])\n",
    "    matched_coords.append(matched)\n",
    "    #print(\"the coordinates for image\", [i], \"is\", matched)"
   ]
  },
  {
   "cell_type": "code",
   "execution_count": 18,
   "id": "98993670-3d66-4033-be5e-80d29c87789d",
   "metadata": {},
   "outputs": [
    {
     "name": "stdout",
     "output_type": "stream",
     "text": [
      "75119\n"
     ]
    }
   ],
   "source": [
    "print(len(matched_coords[0]))"
   ]
  },
  {
   "cell_type": "code",
   "execution_count": 19,
   "id": "7fb037d2-64d6-42d0-b70b-1e22cebd08f5",
   "metadata": {},
   "outputs": [
    {
     "data": {
      "text/plain": [
       "10"
      ]
     },
     "execution_count": 19,
     "metadata": {},
     "output_type": "execute_result"
    }
   ],
   "source": [
    "len(matched_coords)"
   ]
  },
  {
   "cell_type": "code",
   "execution_count": 20,
   "id": "5e42ee8a-5e25-498b-9616-6fb3064dd6df",
   "metadata": {},
   "outputs": [
    {
     "name": "stdout",
     "output_type": "stream",
     "text": [
      "75119\n",
      "79222\n",
      "79222\n",
      "79198\n",
      "78983\n",
      "79146\n",
      "79222\n",
      "79222\n",
      "79222\n"
     ]
    }
   ],
   "source": [
    "for i in range(9):\n",
    "    print(len(matched_coords[i]))"
   ]
  },
  {
   "cell_type": "code",
   "execution_count": 21,
   "id": "b2b19c21-5373-49e3-8729-9d6d0a026101",
   "metadata": {},
   "outputs": [
    {
     "name": "stdout",
     "output_type": "stream",
     "text": [
      "749419\n"
     ]
    }
   ],
   "source": [
    "#len(matched_coords)\n",
    "#combined_matched_coords = []\n",
    "combined_matched_coords = pd.concat(matched_coords)\n",
    "#for i in matched_coords:\n",
    "    #combined_matched_coords.merge(matched_coords[i])\n",
    "#This is the sum of all the coordinates in every image\n",
    "print(len(combined_matched_coords))"
   ]
  },
  {
   "cell_type": "code",
   "execution_count": null,
   "id": "582bfdde-ef0f-4a78-9cf0-3023b3ca0b93",
   "metadata": {},
   "outputs": [],
   "source": []
  },
  {
   "cell_type": "code",
   "execution_count": 22,
   "id": "25e7aee8-5ffa-47d3-ba09-e4403373db90",
   "metadata": {
    "scrolled": true
   },
   "outputs": [],
   "source": [
    "# Group dataframe by lon & lat and create a list of dicts or tuples\n",
    "for i in range(len(image_years)):\n",
    "    records = ({\n",
    "        'lon': lon,\n",
    "        'lat': lat,\n",
    "        'ndvi': ndvi,\n",
    "        'date': image_years[i]})"
   ]
  },
  {
   "cell_type": "code",
   "execution_count": 20,
   "id": "2b194f98-9566-40f7-95bb-5bbb06869bd1",
   "metadata": {},
   "outputs": [
    {
     "data": {
      "text/plain": [
       "4"
      ]
     },
     "execution_count": 20,
     "metadata": {},
     "output_type": "execute_result"
    }
   ],
   "source": [
    "len(records)"
   ]
  },
  {
   "cell_type": "code",
   "execution_count": 37,
   "id": "d934728d-bb3b-44d2-be5c-4dd7608f3b89",
   "metadata": {},
   "outputs": [],
   "source": [
    "#combined_matched_coords['year'] = combined_matched_coords['date'].dt.year"
   ]
  },
  {
   "cell_type": "code",
   "execution_count": 23,
   "id": "5e312bec-75c6-4765-86dc-2d969a86bfb5",
   "metadata": {},
   "outputs": [
    {
     "name": "stderr",
     "output_type": "stream",
     "text": [
      "/tmp/ipykernel_150/1904451229.py:2: DeprecationWarning: DataFrameGroupBy.apply operated on the grouping columns. This behavior is deprecated, and in a future version of pandas the grouping columns will be excluded from the operation. Either pass `include_groups=False` to exclude the groupings or explicitly select the grouping columns after groupby to silence this warning.\n",
      "  coordinate_groups = combined_matched_coords.groupby(['lon', 'lat']).apply(\n"
     ]
    }
   ],
   "source": [
    "# Group by coordinates and collect all NDVI samples (with date)\n",
    "coordinate_groups = combined_matched_coords.groupby(['lon', 'lat']).apply(\n",
    "    lambda g: g[['date', 'ndvi']].sort_values('date').to_dict('records')\n",
    ").reset_index(name='samples')"
   ]
  },
  {
   "cell_type": "code",
   "execution_count": 24,
   "id": "565ce797-8283-41f5-a733-2acafd1a7e79",
   "metadata": {},
   "outputs": [
    {
     "data": {
      "text/plain": [
       "79222"
      ]
     },
     "execution_count": 24,
     "metadata": {},
     "output_type": "execute_result"
    }
   ],
   "source": [
    "len(coordinate_groups)"
   ]
  },
  {
   "cell_type": "code",
   "execution_count": 25,
   "id": "2b4dfaf1-def7-41c6-9098-0a0d303f8ff9",
   "metadata": {},
   "outputs": [
    {
     "data": {
      "text/html": [
       "<div>\n",
       "<style scoped>\n",
       "    .dataframe tbody tr th:only-of-type {\n",
       "        vertical-align: middle;\n",
       "    }\n",
       "\n",
       "    .dataframe tbody tr th {\n",
       "        vertical-align: top;\n",
       "    }\n",
       "\n",
       "    .dataframe thead th {\n",
       "        text-align: right;\n",
       "    }\n",
       "</style>\n",
       "<table border=\"1\" class=\"dataframe\">\n",
       "  <thead>\n",
       "    <tr style=\"text-align: right;\">\n",
       "      <th></th>\n",
       "      <th>lon</th>\n",
       "      <th>lat</th>\n",
       "      <th>samples</th>\n",
       "    </tr>\n",
       "  </thead>\n",
       "  <tbody>\n",
       "    <tr>\n",
       "      <th>0</th>\n",
       "      <td>-76.3407</td>\n",
       "      <td>38.6740</td>\n",
       "      <td>[{'date': '2015', 'ndvi': 0.8236755728721619},...</td>\n",
       "    </tr>\n",
       "    <tr>\n",
       "      <th>1</th>\n",
       "      <td>-76.3404</td>\n",
       "      <td>38.6737</td>\n",
       "      <td>[{'date': '2015', 'ndvi': 0.849772036075592}, ...</td>\n",
       "    </tr>\n",
       "    <tr>\n",
       "      <th>2</th>\n",
       "      <td>-76.3312</td>\n",
       "      <td>38.4748</td>\n",
       "      <td>[{'date': '2014', 'ndvi': 0.7130529284477234},...</td>\n",
       "    </tr>\n",
       "    <tr>\n",
       "      <th>3</th>\n",
       "      <td>-76.3312</td>\n",
       "      <td>38.4751</td>\n",
       "      <td>[{'date': '2014', 'ndvi': 0.7085577249526978},...</td>\n",
       "    </tr>\n",
       "    <tr>\n",
       "      <th>4</th>\n",
       "      <td>-76.3310</td>\n",
       "      <td>38.4813</td>\n",
       "      <td>[{'date': '2014', 'ndvi': 0.6805872321128845},...</td>\n",
       "    </tr>\n",
       "    <tr>\n",
       "      <th>...</th>\n",
       "      <td>...</td>\n",
       "      <td>...</td>\n",
       "      <td>...</td>\n",
       "    </tr>\n",
       "    <tr>\n",
       "      <th>79217</th>\n",
       "      <td>-75.6842</td>\n",
       "      <td>38.2495</td>\n",
       "      <td>[{'date': '2014', 'ndvi': 0.8726248145103455},...</td>\n",
       "    </tr>\n",
       "    <tr>\n",
       "      <th>79218</th>\n",
       "      <td>-75.6842</td>\n",
       "      <td>38.5691</td>\n",
       "      <td>[{'date': '2014', 'ndvi': 0.8857778906822205},...</td>\n",
       "    </tr>\n",
       "    <tr>\n",
       "      <th>79219</th>\n",
       "      <td>-75.6842</td>\n",
       "      <td>38.5699</td>\n",
       "      <td>[{'date': '2014', 'ndvi': 0.8815193176269531},...</td>\n",
       "    </tr>\n",
       "    <tr>\n",
       "      <th>79220</th>\n",
       "      <td>-75.6842</td>\n",
       "      <td>38.5702</td>\n",
       "      <td>[{'date': '2014', 'ndvi': 0.8779897689819336},...</td>\n",
       "    </tr>\n",
       "    <tr>\n",
       "      <th>79221</th>\n",
       "      <td>-75.6842</td>\n",
       "      <td>38.5707</td>\n",
       "      <td>[{'date': '2014', 'ndvi': 0.8849513530731201},...</td>\n",
       "    </tr>\n",
       "  </tbody>\n",
       "</table>\n",
       "<p>79222 rows × 3 columns</p>\n",
       "</div>"
      ],
      "text/plain": [
       "           lon      lat                                            samples\n",
       "0     -76.3407  38.6740  [{'date': '2015', 'ndvi': 0.8236755728721619},...\n",
       "1     -76.3404  38.6737  [{'date': '2015', 'ndvi': 0.849772036075592}, ...\n",
       "2     -76.3312  38.4748  [{'date': '2014', 'ndvi': 0.7130529284477234},...\n",
       "3     -76.3312  38.4751  [{'date': '2014', 'ndvi': 0.7085577249526978},...\n",
       "4     -76.3310  38.4813  [{'date': '2014', 'ndvi': 0.6805872321128845},...\n",
       "...        ...      ...                                                ...\n",
       "79217 -75.6842  38.2495  [{'date': '2014', 'ndvi': 0.8726248145103455},...\n",
       "79218 -75.6842  38.5691  [{'date': '2014', 'ndvi': 0.8857778906822205},...\n",
       "79219 -75.6842  38.5699  [{'date': '2014', 'ndvi': 0.8815193176269531},...\n",
       "79220 -75.6842  38.5702  [{'date': '2014', 'ndvi': 0.8779897689819336},...\n",
       "79221 -75.6842  38.5707  [{'date': '2014', 'ndvi': 0.8849513530731201},...\n",
       "\n",
       "[79222 rows x 3 columns]"
      ]
     },
     "execution_count": 25,
     "metadata": {},
     "output_type": "execute_result"
    }
   ],
   "source": [
    "coordinate_groups"
   ]
  },
  {
   "cell_type": "code",
   "execution_count": 26,
   "id": "b11325ba-1ce1-4791-8b0f-6b83d3e1f129",
   "metadata": {},
   "outputs": [],
   "source": [
    "samples = coordinate_groups.loc[9].samples\n",
    "\n",
    "date = [sample['date'] for sample in samples]\n",
    "ndvi_values = [sample['ndvi'] for sample in samples]\n",
    "\n",
    "samples_df = pd.DataFrame({\n",
    "    'date': date,\n",
    "    'ndvi': ndvi_values\n",
    "})"
   ]
  },
  {
   "cell_type": "code",
   "execution_count": 33,
   "id": "5a7e1879-1cf4-4441-833c-77f69fc66c33",
   "metadata": {},
   "outputs": [
    {
     "data": {
      "text/plain": [
       "10"
      ]
     },
     "execution_count": 33,
     "metadata": {},
     "output_type": "execute_result"
    }
   ],
   "source": [
    "len(ndvi_values)"
   ]
  },
  {
   "cell_type": "code",
   "execution_count": 27,
   "id": "f9315517-9235-4a5b-99ab-a449fd8b4fca",
   "metadata": {},
   "outputs": [
    {
     "name": "stdout",
     "output_type": "stream",
     "text": [
      "Kendall Rank correlation: -0.68889\n"
     ]
    }
   ],
   "source": [
    "# Calculating Kendall Rank correlation\n",
    "corr, _ = kendalltau(samples_df.date, samples_df.ndvi)\n",
    "print('Kendall Rank correlation: %.5f' % corr)"
   ]
  },
  {
   "cell_type": "code",
   "execution_count": null,
   "id": "443597f7-e139-45c6-99d0-ce8a3d52e2e0",
   "metadata": {},
   "outputs": [],
   "source": []
  },
  {
   "cell_type": "code",
   "execution_count": 29,
   "id": "2afda932-e6a6-4051-8300-45671eaa0b76",
   "metadata": {},
   "outputs": [
    {
     "name": "stdout",
     "output_type": "stream",
     "text": [
      "[0.022135019302368164, 0.01454097032546997, 0.04131436347961426, 0.01731574535369873, 0.046398162841796875, 0.02320992946624756, 0.03587067127227783, 0.07015424966812134, 0.03183645009994507]\n",
      "Kendall Rank correlation: 0.38889\n"
     ]
    },
    {
     "data": {
      "image/png": "[encoded data removed]",
      "text/plain": [
       "<Figure size 640x480 with 1 Axes>"
      ]
     },
     "metadata": {},
     "output_type": "display_data"
    }
   ],
   "source": [
    "difference_list = []\n",
    "for i in range(len(samples_df.ndvi)-1):\n",
    "    j=i+1\n",
    "    difference = abs(samples_df.ndvi[j] - samples_df.ndvi[i])\n",
    "    difference_list.append(difference)\n",
    "\n",
    "print(difference_list)\n",
    "\n",
    "# Calculating Kendall Rank correlation for std \n",
    "corr, _ = kendalltau(samples_df.date[:len(difference_list)], difference_list)\n",
    "print('Kendall Rank correlation: %.5f' % corr)\n",
    "\n",
    "plt.xlabel('Year', fontsize = 18)\n",
    "plt.ylabel('Variation (in NDVI)', fontsize = 18)\n",
    "plt.title(f\"NDVI Variation at lat: {coordinate_groups.loc[9].lat}, lon: {coordinate_groups.loc[9].lon}\", fontsize = 20)\n",
    "plt.plot(samples_df.date[:len(difference_list)],difference_list)\n",
    "plt.savefig('/home/jovyan/sara_typrin/ndvi_landsat/figures/variation_year.png')"
   ]
  },
  {
   "cell_type": "code",
   "execution_count": 46,
   "id": "2d96557d-51c0-479b-8092-60d6a42d0e57",
   "metadata": {},
   "outputs": [],
   "source": [
    "# data1 = samples_df.ndvi[:3]\n",
    "# data2 = samples_df.ndvi[3:7]\n",
    "\n",
    "# #sample_stddev = stdev(data1)  # Sample standard deviation\n",
    "# population_stddev1 = pstdev(data1)  # Population standard deviation\n",
    "# print(pstdev(data1))\n",
    "# population_stddev2 = pstdev(data2)  # Population standard deviation\n",
    "# print(pstdev(data2))\n",
    "\n",
    "# std = [population_stddev1, population_stddev2]\n",
    "# date = [2014, 2024]"
   ]
  },
  {
   "cell_type": "code",
   "execution_count": 47,
   "id": "817dac6c-2517-4463-a970-cdbef7689684",
   "metadata": {},
   "outputs": [
    {
     "data": {
      "text/plain": [
       "38.474"
      ]
     },
     "execution_count": 47,
     "metadata": {},
     "output_type": "execute_result"
    }
   ],
   "source": [
    "coordinate_groups.loc[12].lat"
   ]
  },
  {
   "cell_type": "code",
   "execution_count": 36,
   "id": "9cfd994c-7945-4549-b278-1107ba9a1a87",
   "metadata": {},
   "outputs": [
    {
     "data": {
      "image/png": "[encoded data removed]",
      "text/plain": [
       "<Figure size 640x480 with 1 Axes>"
      ]
     },
     "metadata": {},
     "output_type": "display_data"
    }
   ],
   "source": [
    "samples_df.plot(x = 'date', y='ndvi')\n",
    "plt.xlabel('Year', fontsize = 18)\n",
    "plt.ylabel('NDVI', fontsize = 18)\n",
    "plt.title(f\"NDVI at lat: {coordinate_groups.loc[9].lat}, lon: {coordinate_groups.loc[9].lon}\", fontsize=20)\n",
    "plt.savefig('/home/jovyan/sara_typrin/ndvi_landsat/figures/ndvi_plot_year.png')"
   ]
  },
  {
   "cell_type": "markdown",
   "id": "45e555a5-3569-486d-82f3-5e583442aaa7",
   "metadata": {},
   "source": [
    "## Make a dataframe for all coordinates"
   ]
  },
  {
   "cell_type": "code",
   "execution_count": 49,
   "id": "537a33af-c596-44db-a89b-31c328ea6ed7",
   "metadata": {},
   "outputs": [
    {
     "name": "stdout",
     "output_type": "stream",
     "text": [
      "           lat      lon  ndvi trend  variation trend\n",
      "0      38.6740 -76.3407    0.055556        -0.285714\n",
      "1      38.6737 -76.3404   -0.555556         0.071429\n",
      "2      38.4748 -76.3312    0.200000         0.055556\n",
      "3      38.4751 -76.3312    0.333333         0.222222\n",
      "4      38.4813 -76.3310   -0.333333        -0.111111\n",
      "...        ...      ...         ...              ...\n",
      "79217  38.2495 -75.6842    0.111111        -0.571429\n",
      "79218  38.5691 -75.6842    0.000000         0.071429\n",
      "79219  38.5699 -75.6842    0.222222         0.071429\n",
      "79220  38.5702 -75.6842    0.166667         0.357143\n",
      "79221  38.5707 -75.6842    0.277778         0.214286\n",
      "\n",
      "[79222 rows x 4 columns]\n"
     ]
    }
   ],
   "source": [
    "all_metrics_df = []\n",
    "for i in range(len(coordinate_groups)):\n",
    "    \n",
    "    samples = coordinate_groups.loc[i].samples\n",
    "    lat = coordinate_groups.loc[i].lat\n",
    "    lon = coordinate_groups.loc[i].lon\n",
    "\n",
    "    date = [sample['date'] for sample in samples]\n",
    "    ndvi_values = [sample['ndvi'] for sample in samples]\n",
    "\n",
    "    samples_df = pd.DataFrame({\n",
    "        'date': date,\n",
    "        'ndvi': ndvi_values\n",
    "    })\n",
    "\n",
    "    # Calculating Kendall Rank correlation for NDVI trend \n",
    "    ndvi_corr, _ = kendalltau(samples_df.date, samples_df.ndvi)\n",
    "    #print('NDVI Kendall Rank correlation: %.5f' % ndvi_corr)\n",
    "\n",
    "    difference_list = []\n",
    "    for j in range(len(samples_df.ndvi)-1):\n",
    "        difference = abs(samples_df.ndvi[j+1] - samples_df.ndvi[j])\n",
    "        difference_list.append(difference)\n",
    "        \n",
    "    # Calculating Kendall Rank correlation for std \n",
    "    var_corr, _ = kendalltau(samples_df.date[:len(difference_list)], difference_list)\n",
    "    #print('Variation Kendall Rank correlation: %.5f' % var_corr)\n",
    "\n",
    "    # Append row as a dictionary\n",
    "    all_metrics_df.append({\n",
    "        'lat': lat,\n",
    "        'lon': lon,\n",
    "        'ndvi trend': ndvi_corr,\n",
    "        'variation trend': var_corr\n",
    "    })\n",
    "\n",
    "# Final DataFrame\n",
    "all_metrics_df = pd.DataFrame(all_metrics_df)\n",
    "print(all_metrics_df)"
   ]
  },
  {
   "cell_type": "code",
   "execution_count": 51,
   "id": "59d43183-69ef-41ff-a6f4-03c8d7faa837",
   "metadata": {},
   "outputs": [
    {
     "data": {
      "text/html": [
       "<div>\n",
       "<style scoped>\n",
       "    .dataframe tbody tr th:only-of-type {\n",
       "        vertical-align: middle;\n",
       "    }\n",
       "\n",
       "    .dataframe tbody tr th {\n",
       "        vertical-align: top;\n",
       "    }\n",
       "\n",
       "    .dataframe thead th {\n",
       "        text-align: right;\n",
       "    }\n",
       "</style>\n",
       "<table border=\"1\" class=\"dataframe\">\n",
       "  <thead>\n",
       "    <tr style=\"text-align: right;\">\n",
       "      <th></th>\n",
       "      <th>lat</th>\n",
       "      <th>lon</th>\n",
       "      <th>ndvi trend</th>\n",
       "      <th>variation trend</th>\n",
       "    </tr>\n",
       "  </thead>\n",
       "  <tbody>\n",
       "    <tr>\n",
       "      <th>0</th>\n",
       "      <td>38.6740</td>\n",
       "      <td>-76.3407</td>\n",
       "      <td>0.055556</td>\n",
       "      <td>-0.285714</td>\n",
       "    </tr>\n",
       "    <tr>\n",
       "      <th>1</th>\n",
       "      <td>38.6737</td>\n",
       "      <td>-76.3404</td>\n",
       "      <td>-0.555556</td>\n",
       "      <td>0.071429</td>\n",
       "    </tr>\n",
       "    <tr>\n",
       "      <th>2</th>\n",
       "      <td>38.4748</td>\n",
       "      <td>-76.3312</td>\n",
       "      <td>0.200000</td>\n",
       "      <td>0.055556</td>\n",
       "    </tr>\n",
       "    <tr>\n",
       "      <th>3</th>\n",
       "      <td>38.4751</td>\n",
       "      <td>-76.3312</td>\n",
       "      <td>0.333333</td>\n",
       "      <td>0.222222</td>\n",
       "    </tr>\n",
       "    <tr>\n",
       "      <th>4</th>\n",
       "      <td>38.4813</td>\n",
       "      <td>-76.3310</td>\n",
       "      <td>-0.333333</td>\n",
       "      <td>-0.111111</td>\n",
       "    </tr>\n",
       "    <tr>\n",
       "      <th>...</th>\n",
       "      <td>...</td>\n",
       "      <td>...</td>\n",
       "      <td>...</td>\n",
       "      <td>...</td>\n",
       "    </tr>\n",
       "    <tr>\n",
       "      <th>79217</th>\n",
       "      <td>38.2495</td>\n",
       "      <td>-75.6842</td>\n",
       "      <td>0.111111</td>\n",
       "      <td>-0.571429</td>\n",
       "    </tr>\n",
       "    <tr>\n",
       "      <th>79218</th>\n",
       "      <td>38.5691</td>\n",
       "      <td>-75.6842</td>\n",
       "      <td>0.000000</td>\n",
       "      <td>0.071429</td>\n",
       "    </tr>\n",
       "    <tr>\n",
       "      <th>79219</th>\n",
       "      <td>38.5699</td>\n",
       "      <td>-75.6842</td>\n",
       "      <td>0.222222</td>\n",
       "      <td>0.071429</td>\n",
       "    </tr>\n",
       "    <tr>\n",
       "      <th>79220</th>\n",
       "      <td>38.5702</td>\n",
       "      <td>-75.6842</td>\n",
       "      <td>0.166667</td>\n",
       "      <td>0.357143</td>\n",
       "    </tr>\n",
       "    <tr>\n",
       "      <th>79221</th>\n",
       "      <td>38.5707</td>\n",
       "      <td>-75.6842</td>\n",
       "      <td>0.277778</td>\n",
       "      <td>0.214286</td>\n",
       "    </tr>\n",
       "  </tbody>\n",
       "</table>\n",
       "<p>79222 rows × 4 columns</p>\n",
       "</div>"
      ],
      "text/plain": [
       "           lat      lon  ndvi trend  variation trend\n",
       "0      38.6740 -76.3407    0.055556        -0.285714\n",
       "1      38.6737 -76.3404   -0.555556         0.071429\n",
       "2      38.4748 -76.3312    0.200000         0.055556\n",
       "3      38.4751 -76.3312    0.333333         0.222222\n",
       "4      38.4813 -76.3310   -0.333333        -0.111111\n",
       "...        ...      ...         ...              ...\n",
       "79217  38.2495 -75.6842    0.111111        -0.571429\n",
       "79218  38.5691 -75.6842    0.000000         0.071429\n",
       "79219  38.5699 -75.6842    0.222222         0.071429\n",
       "79220  38.5702 -75.6842    0.166667         0.357143\n",
       "79221  38.5707 -75.6842    0.277778         0.214286\n",
       "\n",
       "[79222 rows x 4 columns]"
      ]
     },
     "execution_count": 51,
     "metadata": {},
     "output_type": "execute_result"
    }
   ],
   "source": [
    "all_metrics_df"
   ]
  },
  {
   "cell_type": "code",
   "execution_count": 52,
   "id": "6a734d60-9d9c-4a8c-b1a5-729c688c8a7a",
   "metadata": {},
   "outputs": [
    {
     "data": {
      "text/plain": [
       "-0.5555555555555556"
      ]
     },
     "execution_count": 52,
     "metadata": {},
     "output_type": "execute_result"
    }
   ],
   "source": [
    "all_metrics_df['ndvi trend'][1]"
   ]
  },
  {
   "cell_type": "markdown",
   "id": "99ffa321-d839-4cf8-8105-456b90f3f949",
   "metadata": {},
   "source": [
    "### Sort coordinates into scenarios"
   ]
  },
  {
   "cell_type": "code",
   "execution_count": 53,
   "id": "4b515104-7283-4fe0-97e7-1409bcee7db6",
   "metadata": {},
   "outputs": [
    {
     "name": "stdout",
     "output_type": "stream",
     "text": [
      "        lat      lon  ndvi trend  variation trend\n",
      "2   38.4748 -76.3312    0.200000         0.055556\n",
      "3   38.4751 -76.3312    0.333333         0.222222\n",
      "7   38.4751 -76.3302    0.244444         0.055556\n",
      "8   38.4759 -76.3302    0.066667         0.444444\n",
      "32  38.4716 -76.3256    0.022222         0.166667\n"
     ]
    }
   ],
   "source": [
    "m_recovery = (all_metrics_df['ndvi trend'] > 0) & (all_metrics_df['variation trend'] > 0)\n",
    "m_stable   = (all_metrics_df['ndvi trend'] > 0) & (all_metrics_df['variation trend'] < 0)\n",
    "m_abrupt   = (all_metrics_df['ndvi trend'] < 0) & (all_metrics_df['variation trend'] > 0)\n",
    "m_gradual  = (all_metrics_df['ndvi trend'] < 0) & (all_metrics_df['variation trend'] < 0)\n",
    "\n",
    "recovery = all_metrics_df[m_recovery]\n",
    "stable   = all_metrics_df[m_stable]\n",
    "abrupt   = all_metrics_df[m_abrupt]\n",
    "gradual  = all_metrics_df[m_gradual]\n",
    "\n",
    "print(recovery.head())"
   ]
  },
  {
   "cell_type": "code",
   "execution_count": 54,
   "id": "42ffffed-5619-4179-b79c-8867467001c0",
   "metadata": {},
   "outputs": [],
   "source": [
    "recovery_df = pd.DataFrame({\n",
    "    'lat': recovery.lat,\n",
    "    'lon': recovery.lon\n",
    "})\n",
    "\n",
    "stable_df = pd.DataFrame({\n",
    "    'lat': stable.lat,\n",
    "    'lon': stable.lon\n",
    "})\n",
    "\n",
    "gradual_df = pd.DataFrame({\n",
    "    'lat': gradual.lat,\n",
    "    'lon': gradual.lon\n",
    "})\n",
    "\n",
    "abrupt_df = pd.DataFrame({\n",
    "    'lat': abrupt.lat,\n",
    "    'lon': abrupt.lon\n",
    "})\n",
    "\n"
   ]
  },
  {
   "cell_type": "code",
   "execution_count": 55,
   "id": "8f73a39e-117e-46a9-92b5-bc696468c21e",
   "metadata": {},
   "outputs": [],
   "source": [
    "recovery_df.to_csv('recovery_df.csv', index=False)\n",
    "stable_df.to_csv('stable_df.csv', index=False)\n",
    "gradual_df.to_csv('gradual_df.csv', index=False)\n",
    "abrupt_df.to_csv('abrupt_df.csv', index=False)"
   ]
  },
  {
   "cell_type": "code",
   "execution_count": 56,
   "id": "a46a4c46-41cf-415d-bbf0-f77e1fbd4c8a",
   "metadata": {},
   "outputs": [],
   "source": [
    "abrupt_gdf = gpd.GeoDataFrame(\n",
    "    abrupt,\n",
    "    geometry=gpd.points_from_xy(abrupt.lon, abrupt.lat),\n",
    "    crs=\"EPSG:4326\"\n",
    ")\n",
    "\n",
    "abrupt_points = abrupt_gdf.geometry\n",
    "\n",
    "recovery_gdf = gpd.GeoDataFrame(\n",
    "    recovery,\n",
    "    geometry=gpd.points_from_xy(recovery.lon, recovery.lat),\n",
    "    crs=\"EPSG:4326\"\n",
    ")\n",
    "\n",
    "recovery_points = recovery_gdf.geometry\n",
    "\n",
    "stable_gdf = gpd.GeoDataFrame(\n",
    "    stable,\n",
    "    geometry=gpd.points_from_xy(stable.lon, stable.lat),\n",
    "    crs=\"EPSG:4326\"\n",
    ")\n",
    "\n",
    "stable_points = stable_gdf.geometry\n",
    "\n",
    "gradual_gdf = gpd.GeoDataFrame(\n",
    "    gradual,\n",
    "    geometry=gpd.points_from_xy(gradual.lon, gradual.lat),\n",
    "    crs=\"EPSG:4326\"\n",
    ")\n",
    "\n",
    "gradual_points = gradual_gdf.geometry"
   ]
  },
  {
   "cell_type": "code",
   "execution_count": 57,
   "id": "00d5d34f-abd4-43ec-ab58-03d8acfd7808",
   "metadata": {},
   "outputs": [
    {
     "data": {
      "text/plain": [
       "4         POINT (-76.331 38.4813)\n",
       "6        POINT (-76.3302 38.4748)\n",
       "12        POINT (-76.3291 38.474)\n",
       "13       POINT (-76.3291 38.4743)\n",
       "14       POINT (-76.3291 38.4751)\n",
       "                   ...           \n",
       "79162    POINT (-75.6858 38.3436)\n",
       "79166    POINT (-75.6858 38.5664)\n",
       "79172    POINT (-75.6855 38.5664)\n",
       "79188    POINT (-75.6847 38.2646)\n",
       "79207    POINT (-75.6845 38.5656)\n",
       "Name: geometry, Length: 19523, dtype: geometry"
      ]
     },
     "execution_count": 57,
     "metadata": {},
     "output_type": "execute_result"
    }
   ],
   "source": [
    "gradual_points"
   ]
  },
  {
   "cell_type": "markdown",
   "id": "93c08424-baa3-4b73-8bf6-26455757745d",
   "metadata": {},
   "source": [
    "### Save forest pathway lists as csv files\n",
    "This step is not recessasary if you already have them saved"
   ]
  },
  {
   "cell_type": "code",
   "execution_count": 58,
   "id": "669e52a8-f050-4cca-b15b-8714f6d9bbcb",
   "metadata": {},
   "outputs": [],
   "source": [
    "# recovery_points.to_csv('recovery.csv', index=False)\n",
    "# stable_points.to_csv('stable.csv', index=False)\n",
    "# gradual_points.to_csv('gradual.csv', index=False)\n",
    "# abrupt_points.to_csv('abrupt.csv', index=False)"
   ]
  },
  {
   "cell_type": "markdown",
   "id": "231434af-901e-4e6c-8c99-1be2f7eaef3a",
   "metadata": {},
   "source": [
    "# Pie Chart Distribution"
   ]
  },
  {
   "cell_type": "code",
   "execution_count": 3,
   "id": "c067d48f-ae5d-4ca0-a7f5-a8ab0ca8eafb",
   "metadata": {},
   "outputs": [
    {
     "ename": "NameError",
     "evalue": "name 'plt' is not defined",
     "output_type": "error",
     "traceback": [
      "\u001b[0;31m---------------------------------------------------------------------------\u001b[0m",
      "\u001b[0;31mNameError\u001b[0m                                 Traceback (most recent call last)",
      "Cell \u001b[0;32mIn[3], line 10\u001b[0m\n\u001b[1;32m      8\u001b[0m colors \u001b[38;5;241m=\u001b[39m [sns\u001b[38;5;241m.\u001b[39mcolor_palette(\u001b[38;5;124m\"\u001b[39m\u001b[38;5;124mpastel\u001b[39m\u001b[38;5;124m\"\u001b[39m)[\u001b[38;5;241m0\u001b[39m], sns\u001b[38;5;241m.\u001b[39mcolor_palette(\u001b[38;5;124m\"\u001b[39m\u001b[38;5;124mpastel\u001b[39m\u001b[38;5;124m\"\u001b[39m)[\u001b[38;5;241m2\u001b[39m], sns\u001b[38;5;241m.\u001b[39mcolor_palette(\u001b[38;5;124m\"\u001b[39m\u001b[38;5;124mpastel\u001b[39m\u001b[38;5;124m\"\u001b[39m)[\u001b[38;5;241m1\u001b[39m], sns\u001b[38;5;241m.\u001b[39mcolor_palette(\u001b[38;5;124m\"\u001b[39m\u001b[38;5;124mpastel\u001b[39m\u001b[38;5;124m\"\u001b[39m)[\u001b[38;5;241m3\u001b[39m]]\n\u001b[1;32m      9\u001b[0m \u001b[38;5;66;03m# Creating plot\u001b[39;00m\n\u001b[0;32m---> 10\u001b[0m fig \u001b[38;5;241m=\u001b[39m \u001b[43mplt\u001b[49m\u001b[38;5;241m.\u001b[39mfigure(figsize\u001b[38;5;241m=\u001b[39m(\u001b[38;5;241m10\u001b[39m, \u001b[38;5;241m7\u001b[39m))\n\u001b[1;32m     11\u001b[0m plt\u001b[38;5;241m.\u001b[39mpie(data, labels\u001b[38;5;241m=\u001b[39mpathways,  colors \u001b[38;5;241m=\u001b[39m colors, textprops\u001b[38;5;241m=\u001b[39m{\u001b[38;5;124m'\u001b[39m\u001b[38;5;124mfontsize\u001b[39m\u001b[38;5;124m'\u001b[39m: \u001b[38;5;241m18\u001b[39m}, autopct\u001b[38;5;241m=\u001b[39m\u001b[38;5;124m'\u001b[39m\u001b[38;5;132;01m%.1f\u001b[39;00m\u001b[38;5;132;01m%%\u001b[39;00m\u001b[38;5;124m'\u001b[39m);\n\u001b[1;32m     12\u001b[0m values \u001b[38;5;241m=\u001b[39m pd\u001b[38;5;241m.\u001b[39mSeries([\u001b[38;5;28;01mFalse\u001b[39;00m, \u001b[38;5;28;01mFalse\u001b[39;00m, \u001b[38;5;28;01mTrue\u001b[39;00m, \u001b[38;5;28;01mTrue\u001b[39;00m])\n",
      "\u001b[0;31mNameError\u001b[0m: name 'plt' is not defined"
     ]
    }
   ],
   "source": [
    "pathways = ['Stable', 'Recovery', 'Gradual',\n",
    "        'Abrupt']\n",
    "\n",
    "data = [len(stable), len(recovery), len(gradual), len(abrupt)]\n",
    "\n",
    "colors = [sns.color_palette(\"pastel\")[0], sns.color_palette(\"pastel\")[2], sns.color_palette(\"pastel\")[1], sns.color_palette(\"pastel\")[3]]\n",
    "# Creating plot\n",
    "fig = plt.figure(figsize=(10, 7))\n",
    "plt.pie(data, labels=pathways,  colors = colors, textprops={'fontsize': 18}, autopct='%.1f%%');\n",
    "values = pd.Series([False, False, True, True])\n",
    "v_counts = values.value_counts()\n",
    "fig = plt.figure()\n",
    "# show plot\n",
    "plt.show()\n",
    "plt.savefig('/home/jovyan/sara_typrin/ndvi_landsat/figures/pie_chart.png')"
   ]
  }
 ],
 "metadata": {
  "kernelspec": {
   "display_name": "Python 3 (ipykernel)",
   "language": "python",
   "name": "python3"
  },
  "language_info": {
   "codemirror_mode": {
    "name": "ipython",
    "version": 3
   },
   "file_extension": ".py",
   "mimetype": "text/x-python",
   "name": "python",
   "nbconvert_exporter": "python",
   "pygments_lexer": "ipython3",
   "version": "3.11.11"
  }
 },
 "nbformat": 4,
 "nbformat_minor": 5
}
