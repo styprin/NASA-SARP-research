{
 "cells": [
  {
   "cell_type": "markdown",
   "id": "7618f4cc-8d90-41ce-a9a2-1af5437106d9",
   "metadata": {},
   "source": [
    "# Readme\n",
    "1. Import Libraries and upload files, including elevation dataset: https://www.fisheries.noaa.gov/inport/item/73908\n",
    "2. Subset dataset\n",
    "3. Convert coordinates into lat and lon system (EPSG:4326)\n",
    "4. Filter for region of interest\n",
    "5. Match elevation data to upland forest coordinates\n",
    "6. Make pie chart to show category distribution\n",
    "7. Calculate average elevations\n",
    "8. ANOVA statistical analysis with Tukey test\n",
    "9. Make Box plot with showing means "
   ]
  },
  {
   "cell_type": "markdown",
   "id": "4fd3a797-d084-45aa-ab53-92e8c82c183c",
   "metadata": {},
   "source": [
    "## 1. Import Libraries"
   ]
  },
  {
   "cell_type": "code",
   "execution_count": 1,
   "id": "bd9be8e9-a959-4656-8a77-84b6636a0352",
   "metadata": {},
   "outputs": [],
   "source": [
    "import zipfile\n",
    "import rasterio\n",
    "from rasterio.plot import show as rioshow\n",
    "import matplotlib.pyplot as plt\n",
    "import xarray as xr\n",
    "from pyproj import Transformer\n",
    "from shapely.ops import transform\n",
    "from shapely.geometry import Point\n",
    "import numpy as np\n",
    "from geopandas import GeoSeries\n",
    "import geopandas as gpd\n",
    "import numpy as np\n",
    "import matplotlib.pyplot as plt\n",
    "from shapely.geometry import Point\n",
    "from pyproj import Transformer\n",
    "from shapely.ops import transform\n",
    "import csv \n",
    "import pandas as pd\n",
    "import os\n",
    "import seaborn as sns\n",
    "import geopandas\n",
    "import numpy as np\n",
    "from scipy import stats\n",
    "from matplotlib.lines import Line2D\n",
    "import rioxarray"
   ]
  },
  {
   "cell_type": "markdown",
   "id": "a8e9c33c-d32a-47c4-9b39-105a99aebfe5",
   "metadata": {},
   "source": [
    "### Upload files by category"
   ]
  },
  {
   "cell_type": "code",
   "execution_count": 2,
   "id": "0bbac26f-db54-4ff1-88c9-ea98a7fc9729",
   "metadata": {},
   "outputs": [],
   "source": [
    "abrupt = '/home/jovyan/sara_typrin/ndvi_landsat/data/forest_pathway_df/abrupt_df.csv'\n",
    "gradual = '/home/jovyan/sara_typrin/ndvi_landsat/data/forest_pathway_df/gradual_df.csv'\n",
    "recovery = '/home/jovyan/sara_typrin/ndvi_landsat/data/forest_pathway_df/recovery_df.csv'\n",
    "stable = '/home/jovyan/sara_typrin/ndvi_landsat/data/forest_pathway_df/stable_df.csv'\n",
    "\n",
    "# Read each CSV into a list of DataFrames\n",
    "abrupt = pd.read_csv(abrupt) \n",
    "gradual = pd.read_csv(gradual) \n",
    "recovery = pd.read_csv(recovery)\n",
    "stable = pd.read_csv(stable)"
   ]
  },
  {
   "cell_type": "markdown",
   "id": "2c24ed0d-2cfc-4f0b-8f43-b10916aa38fe",
   "metadata": {},
   "source": [
    "### Open elevation tif file as xarray:"
   ]
  },
  {
   "cell_type": "code",
   "execution_count": 3,
   "id": "51bda34b-a371-4e2a-abee-d4555e18b33e",
   "metadata": {},
   "outputs": [
    {
     "name": "stdout",
     "output_type": "stream",
     "text": [
      "coordinate system is EPSG:6488\n"
     ]
    }
   ],
   "source": [
    "da = rioxarray.open_rasterio('/home/jovyan/sara_typrin/elevation/2022_ngs_ches_bay_topobathy_DEM_J1221339tR0_C0.tif', masked=True)\n",
    "print(\"coordinate system is\" , da.rio.crs)"
   ]
  },
  {
   "cell_type": "markdown",
   "id": "fb4a7d53-0e62-4103-9b34-e65a2e76d4d6",
   "metadata": {},
   "source": [
    "## 2. Subsetting"
   ]
  },
  {
   "cell_type": "markdown",
   "id": "28a089bb-d501-4c02-8b6d-8a4025987e0d",
   "metadata": {},
   "source": [
    "Note: Due to the high vlume of datapoints, can only subset around 12000 points at a time. The commented out subset_da are other possibilities for where to subset"
   ]
  },
  {
   "cell_type": "code",
   "execution_count": 4,
   "id": "aabaa602-f57a-441a-9075-5799ca645e71",
   "metadata": {},
   "outputs": [],
   "source": [
    "# subset_da = da.isel(y=slice(18000, 20000), x=slice(18000, 20000))\n",
    "# subset_da = da.isel(y=slice(12000, 18000), x=slice(12000, 18000))\n",
    "# subset_da = da.isel(y=slice(10000, 20000), x=slice(10000, 20000))\n",
    "subset_da = da.isel(y=slice(0, 12000), x=slice(0, 12000))\n",
    "# subset.values\n",
    "# subset_da"
   ]
  },
  {
   "cell_type": "markdown",
   "id": "e6b58343-ce9b-43f6-96ae-a1599e12c2f9",
   "metadata": {},
   "source": [
    "We do not want Nan values. dropna() only works on a one dimensional list so we need to stack subset+da into one dimension, called 'points'"
   ]
  },
  {
   "cell_type": "code",
   "execution_count": 5,
   "id": "34601efe-9089-4f93-9140-6ec62d886af5",
   "metadata": {},
   "outputs": [],
   "source": [
    "stacked = subset_da.stack(points = ('x', 'y', 'band'))\n",
    "non_nan_stacked = stacked.dropna(dim='points')"
   ]
  },
  {
   "cell_type": "code",
   "execution_count": 6,
   "id": "dbc30205-2d4e-41ae-99fb-b13f3520e798",
   "metadata": {},
   "outputs": [
    {
     "name": "stdout",
     "output_type": "stream",
     "text": [
      "elevation values are [-16.586046  -16.614954  -16.450016  ...   2.359286    2.3797374\n",
      "   2.2698572]\n"
     ]
    }
   ],
   "source": [
    "da = non_nan_stacked\n",
    "print(\"elevation values are\", da.values)"
   ]
  },
  {
   "cell_type": "markdown",
   "id": "370a6fbb-599d-4067-ae5d-8be3ce8c7a13",
   "metadata": {},
   "source": [
    "# 3. Coordinate Transformation"
   ]
  },
  {
   "cell_type": "markdown",
   "id": "c7082955-ac12-4777-9f7a-4e14d94f22f9",
   "metadata": {},
   "source": [
    "### Convert coordinates from ESPG 6488 to ESPG 4326"
   ]
  },
  {
   "cell_type": "code",
   "execution_count": 8,
   "id": "c8ba0e96-1334-4873-90fb-f52ecfe12805",
   "metadata": {},
   "outputs": [
    {
     "name": "stdout",
     "output_type": "stream",
     "text": [
      "Latitude range: 38.319151370982325 38.42603209397434\n",
      "Longitude range: -76.28486248987502 -76.1475519757736\n"
     ]
    }
   ],
   "source": [
    "# x and y coordinates from the DataArray\n",
    "x = da['x'].values  # shape (nx,)\n",
    "y = da['y'].values  # shape (ny,)\n",
    "\n",
    "# Create transformer: from EPSG:6488 (UTM w/ height) to EPSG:4326 (lat/lon)\n",
    "transformer = Transformer.from_crs(\"EPSG:6488\", \"EPSG:4326\", always_xy=True)\n",
    "\n",
    "# Transform 1D x to longitude using mean y\n",
    "y_dummy = np.full_like(x, y.mean())\n",
    "lon_x, _ = transformer.transform(x, y_dummy)\n",
    "\n",
    "# Transform 1D y to latitude using mean x\n",
    "x_dummy = np.full_like(y, x.mean())\n",
    "_, lat_y = transformer.transform(x_dummy, y)\n",
    "\n",
    "# Check results\n",
    "print(\"Latitude range:\", lat_y.min(), lat_y.max())\n",
    "print(\"Longitude range:\", lon_x.min(), lon_x.max())"
   ]
  },
  {
   "cell_type": "markdown",
   "id": "d9091166-1144-4ce1-bfa4-ed4844527228",
   "metadata": {},
   "source": [
    "### Put converted coordinates into xarray"
   ]
  },
  {
   "cell_type": "code",
   "execution_count": 9,
   "id": "ed2d5c93-7cec-4143-8e94-78bbf265cf19",
   "metadata": {},
   "outputs": [
    {
     "data": {
      "text/html": [
       "<div><svg style=\"position: absolute; width: 0; height: 0; overflow: hidden\">\n",
       "<defs>\n",
       "<symbol id=\"icon-database\" viewBox=\"0 0 32 32\">\n",
       "<path d=\"M16 0c-8.837 0-16 2.239-16 5v4c0 2.761 7.163 5 16 5s16-2.239 16-5v-4c0-2.761-7.163-5-16-5z\"></path>\n",
       "<path d=\"M16 17c-8.837 0-16-2.239-16-5v6c0 2.761 7.163 5 16 5s16-2.239 16-5v-6c0 2.761-7.163 5-16 5z\"></path>\n",
       "<path d=\"M16 26c-8.837 0-16-2.239-16-5v6c0 2.761 7.163 5 16 5s16-2.239 16-5v-6c0 2.761-7.163 5-16 5z\"></path>\n",
       "</symbol>\n",
       "<symbol id=\"icon-file-text2\" viewBox=\"0 0 32 32\">\n",
       "<path d=\"M28.681 7.159c-0.694-0.947-1.662-2.053-2.724-3.116s-2.169-2.030-3.116-2.724c-1.612-1.182-2.393-1.319-2.841-1.319h-15.5c-1.378 0-2.5 1.121-2.5 2.5v27c0 1.378 1.122 2.5 2.5 2.5h23c1.378 0 2.5-1.122 2.5-2.5v-19.5c0-0.448-0.137-1.23-1.319-2.841zM24.543 5.457c0.959 0.959 1.712 1.825 2.268 2.543h-4.811v-4.811c0.718 0.556 1.584 1.309 2.543 2.268zM28 29.5c0 0.271-0.229 0.5-0.5 0.5h-23c-0.271 0-0.5-0.229-0.5-0.5v-27c0-0.271 0.229-0.5 0.5-0.5 0 0 15.499-0 15.5 0v7c0 0.552 0.448 1 1 1h7v19.5z\"></path>\n",
       "<path d=\"M23 26h-14c-0.552 0-1-0.448-1-1s0.448-1 1-1h14c0.552 0 1 0.448 1 1s-0.448 1-1 1z\"></path>\n",
       "<path d=\"M23 22h-14c-0.552 0-1-0.448-1-1s0.448-1 1-1h14c0.552 0 1 0.448 1 1s-0.448 1-1 1z\"></path>\n",
       "<path d=\"M23 18h-14c-0.552 0-1-0.448-1-1s0.448-1 1-1h14c0.552 0 1 0.448 1 1s-0.448 1-1 1z\"></path>\n",
       "</symbol>\n",
       "</defs>\n",
       "</svg>\n",
       "<style>/* CSS stylesheet for displaying xarray objects in jupyterlab.\n",
       " *\n",
       " */\n",
       "\n",
       ":root {\n",
       "  --xr-font-color0: var(--jp-content-font-color0, rgba(0, 0, 0, 1));\n",
       "  --xr-font-color2: var(--jp-content-font-color2, rgba(0, 0, 0, 0.54));\n",
       "  --xr-font-color3: var(--jp-content-font-color3, rgba(0, 0, 0, 0.38));\n",
       "  --xr-border-color: var(--jp-border-color2, #e0e0e0);\n",
       "  --xr-disabled-color: var(--jp-layout-color3, #bdbdbd);\n",
       "  --xr-background-color: var(--jp-layout-color0, white);\n",
       "  --xr-background-color-row-even: var(--jp-layout-color1, white);\n",
       "  --xr-background-color-row-odd: var(--jp-layout-color2, #eeeeee);\n",
       "}\n",
       "\n",
       "html[theme=\"dark\"],\n",
       "html[data-theme=\"dark\"],\n",
       "body[data-theme=\"dark\"],\n",
       "body.vscode-dark {\n",
       "  --xr-font-color0: rgba(255, 255, 255, 1);\n",
       "  --xr-font-color2: rgba(255, 255, 255, 0.54);\n",
       "  --xr-font-color3: rgba(255, 255, 255, 0.38);\n",
       "  --xr-border-color: #1f1f1f;\n",
       "  --xr-disabled-color: #515151;\n",
       "  --xr-background-color: #111111;\n",
       "  --xr-background-color-row-even: #111111;\n",
       "  --xr-background-color-row-odd: #313131;\n",
       "}\n",
       "\n",
       ".xr-wrap {\n",
       "  display: block !important;\n",
       "  min-width: 300px;\n",
       "  max-width: 700px;\n",
       "}\n",
       "\n",
       ".xr-text-repr-fallback {\n",
       "  /* fallback to plain text repr when CSS is not injected (untrusted notebook) */\n",
       "  display: none;\n",
       "}\n",
       "\n",
       ".xr-header {\n",
       "  padding-top: 6px;\n",
       "  padding-bottom: 6px;\n",
       "  margin-bottom: 4px;\n",
       "  border-bottom: solid 1px var(--xr-border-color);\n",
       "}\n",
       "\n",
       ".xr-header > div,\n",
       ".xr-header > ul {\n",
       "  display: inline;\n",
       "  margin-top: 0;\n",
       "  margin-bottom: 0;\n",
       "}\n",
       "\n",
       ".xr-obj-type,\n",
       ".xr-array-name {\n",
       "  margin-left: 2px;\n",
       "  margin-right: 10px;\n",
       "}\n",
       "\n",
       ".xr-obj-type {\n",
       "  color: var(--xr-font-color2);\n",
       "}\n",
       "\n",
       ".xr-sections {\n",
       "  padding-left: 0 !important;\n",
       "  display: grid;\n",
       "  grid-template-columns: 150px auto auto 1fr 0 20px 0 20px;\n",
       "}\n",
       "\n",
       ".xr-section-item {\n",
       "  display: contents;\n",
       "}\n",
       "\n",
       ".xr-section-item input {\n",
       "  display: inline-block;\n",
       "  opacity: 0;\n",
       "  height: 0;\n",
       "}\n",
       "\n",
       ".xr-section-item input + label {\n",
       "  color: var(--xr-disabled-color);\n",
       "}\n",
       "\n",
       ".xr-section-item input:enabled + label {\n",
       "  cursor: pointer;\n",
       "  color: var(--xr-font-color2);\n",
       "}\n",
       "\n",
       ".xr-section-item input:focus + label {\n",
       "  border: 2px solid var(--xr-font-color0);\n",
       "}\n",
       "\n",
       ".xr-section-item input:enabled + label:hover {\n",
       "  color: var(--xr-font-color0);\n",
       "}\n",
       "\n",
       ".xr-section-summary {\n",
       "  grid-column: 1;\n",
       "  color: var(--xr-font-color2);\n",
       "  font-weight: 500;\n",
       "}\n",
       "\n",
       ".xr-section-summary > span {\n",
       "  display: inline-block;\n",
       "  padding-left: 0.5em;\n",
       "}\n",
       "\n",
       ".xr-section-summary-in:disabled + label {\n",
       "  color: var(--xr-font-color2);\n",
       "}\n",
       "\n",
       ".xr-section-summary-in + label:before {\n",
       "  display: inline-block;\n",
       "  content: \"►\";\n",
       "  font-size: 11px;\n",
       "  width: 15px;\n",
       "  text-align: center;\n",
       "}\n",
       "\n",
       ".xr-section-summary-in:disabled + label:before {\n",
       "  color: var(--xr-disabled-color);\n",
       "}\n",
       "\n",
       ".xr-section-summary-in:checked + label:before {\n",
       "  content: \"▼\";\n",
       "}\n",
       "\n",
       ".xr-section-summary-in:checked + label > span {\n",
       "  display: none;\n",
       "}\n",
       "\n",
       ".xr-section-summary,\n",
       ".xr-section-inline-details {\n",
       "  padding-top: 4px;\n",
       "  padding-bottom: 4px;\n",
       "}\n",
       "\n",
       ".xr-section-inline-details {\n",
       "  grid-column: 2 / -1;\n",
       "}\n",
       "\n",
       ".xr-section-details {\n",
       "  display: none;\n",
       "  grid-column: 1 / -1;\n",
       "  margin-bottom: 5px;\n",
       "}\n",
       "\n",
       ".xr-section-summary-in:checked ~ .xr-section-details {\n",
       "  display: contents;\n",
       "}\n",
       "\n",
       ".xr-array-wrap {\n",
       "  grid-column: 1 / -1;\n",
       "  display: grid;\n",
       "  grid-template-columns: 20px auto;\n",
       "}\n",
       "\n",
       ".xr-array-wrap > label {\n",
       "  grid-column: 1;\n",
       "  vertical-align: top;\n",
       "}\n",
       "\n",
       ".xr-preview {\n",
       "  color: var(--xr-font-color3);\n",
       "}\n",
       "\n",
       ".xr-array-preview,\n",
       ".xr-array-data {\n",
       "  padding: 0 5px !important;\n",
       "  grid-column: 2;\n",
       "}\n",
       "\n",
       ".xr-array-data,\n",
       ".xr-array-in:checked ~ .xr-array-preview {\n",
       "  display: none;\n",
       "}\n",
       "\n",
       ".xr-array-in:checked ~ .xr-array-data,\n",
       ".xr-array-preview {\n",
       "  display: inline-block;\n",
       "}\n",
       "\n",
       ".xr-dim-list {\n",
       "  display: inline-block !important;\n",
       "  list-style: none;\n",
       "  padding: 0 !important;\n",
       "  margin: 0;\n",
       "}\n",
       "\n",
       ".xr-dim-list li {\n",
       "  display: inline-block;\n",
       "  padding: 0;\n",
       "  margin: 0;\n",
       "}\n",
       "\n",
       ".xr-dim-list:before {\n",
       "  content: \"(\";\n",
       "}\n",
       "\n",
       ".xr-dim-list:after {\n",
       "  content: \")\";\n",
       "}\n",
       "\n",
       ".xr-dim-list li:not(:last-child):after {\n",
       "  content: \",\";\n",
       "  padding-right: 5px;\n",
       "}\n",
       "\n",
       ".xr-has-index {\n",
       "  font-weight: bold;\n",
       "}\n",
       "\n",
       ".xr-var-list,\n",
       ".xr-var-item {\n",
       "  display: contents;\n",
       "}\n",
       "\n",
       ".xr-var-item > div,\n",
       ".xr-var-item label,\n",
       ".xr-var-item > .xr-var-name span {\n",
       "  background-color: var(--xr-background-color-row-even);\n",
       "  margin-bottom: 0;\n",
       "}\n",
       "\n",
       ".xr-var-item > .xr-var-name:hover span {\n",
       "  padding-right: 5px;\n",
       "}\n",
       "\n",
       ".xr-var-list > li:nth-child(odd) > div,\n",
       ".xr-var-list > li:nth-child(odd) > label,\n",
       ".xr-var-list > li:nth-child(odd) > .xr-var-name span {\n",
       "  background-color: var(--xr-background-color-row-odd);\n",
       "}\n",
       "\n",
       ".xr-var-name {\n",
       "  grid-column: 1;\n",
       "}\n",
       "\n",
       ".xr-var-dims {\n",
       "  grid-column: 2;\n",
       "}\n",
       "\n",
       ".xr-var-dtype {\n",
       "  grid-column: 3;\n",
       "  text-align: right;\n",
       "  color: var(--xr-font-color2);\n",
       "}\n",
       "\n",
       ".xr-var-preview {\n",
       "  grid-column: 4;\n",
       "}\n",
       "\n",
       ".xr-index-preview {\n",
       "  grid-column: 2 / 5;\n",
       "  color: var(--xr-font-color2);\n",
       "}\n",
       "\n",
       ".xr-var-name,\n",
       ".xr-var-dims,\n",
       ".xr-var-dtype,\n",
       ".xr-preview,\n",
       ".xr-attrs dt {\n",
       "  white-space: nowrap;\n",
       "  overflow: hidden;\n",
       "  text-overflow: ellipsis;\n",
       "  padding-right: 10px;\n",
       "}\n",
       "\n",
       ".xr-var-name:hover,\n",
       ".xr-var-dims:hover,\n",
       ".xr-var-dtype:hover,\n",
       ".xr-attrs dt:hover {\n",
       "  overflow: visible;\n",
       "  width: auto;\n",
       "  z-index: 1;\n",
       "}\n",
       "\n",
       ".xr-var-attrs,\n",
       ".xr-var-data,\n",
       ".xr-index-data {\n",
       "  display: none;\n",
       "  background-color: var(--xr-background-color) !important;\n",
       "  padding-bottom: 5px !important;\n",
       "}\n",
       "\n",
       ".xr-var-attrs-in:checked ~ .xr-var-attrs,\n",
       ".xr-var-data-in:checked ~ .xr-var-data,\n",
       ".xr-index-data-in:checked ~ .xr-index-data {\n",
       "  display: block;\n",
       "}\n",
       "\n",
       ".xr-var-data > table {\n",
       "  float: right;\n",
       "}\n",
       "\n",
       ".xr-var-name span,\n",
       ".xr-var-data,\n",
       ".xr-index-name div,\n",
       ".xr-index-data,\n",
       ".xr-attrs {\n",
       "  padding-left: 25px !important;\n",
       "}\n",
       "\n",
       ".xr-attrs,\n",
       ".xr-var-attrs,\n",
       ".xr-var-data,\n",
       ".xr-index-data {\n",
       "  grid-column: 1 / -1;\n",
       "}\n",
       "\n",
       "dl.xr-attrs {\n",
       "  padding: 0;\n",
       "  margin: 0;\n",
       "  display: grid;\n",
       "  grid-template-columns: 125px auto;\n",
       "}\n",
       "\n",
       ".xr-attrs dt,\n",
       ".xr-attrs dd {\n",
       "  padding: 0;\n",
       "  margin: 0;\n",
       "  float: left;\n",
       "  padding-right: 10px;\n",
       "  width: auto;\n",
       "}\n",
       "\n",
       ".xr-attrs dt {\n",
       "  font-weight: normal;\n",
       "  grid-column: 1;\n",
       "}\n",
       "\n",
       ".xr-attrs dt:hover span {\n",
       "  display: inline-block;\n",
       "  background: var(--xr-background-color);\n",
       "  padding-right: 10px;\n",
       "}\n",
       "\n",
       ".xr-attrs dd {\n",
       "  grid-column: 2;\n",
       "  white-space: pre-wrap;\n",
       "  word-break: break-all;\n",
       "}\n",
       "\n",
       ".xr-icon-database,\n",
       ".xr-icon-file-text2,\n",
       ".xr-no-icon {\n",
       "  display: inline-block;\n",
       "  vertical-align: middle;\n",
       "  width: 1em;\n",
       "  height: 1.5em !important;\n",
       "  stroke-width: 0;\n",
       "  stroke: currentColor;\n",
       "  fill: currentColor;\n",
       "}\n",
       "</style><pre class='xr-text-repr-fallback'>&lt;xarray.DataArray &#x27;elevation&#x27; (points: 70052781)&gt; Size: 280MB\n",
       "array([-16.586046 , -16.614954 , -16.450016 , ...,   2.359286 ,\n",
       "         2.3797374,   2.2698572], dtype=float32)\n",
       "Coordinates:\n",
       "    lon      (points) float64 560MB -76.28 -76.28 -76.28 ... -76.15 -76.15\n",
       "    lat      (points) float64 560MB 38.33 38.33 38.33 ... 38.32 38.32 38.32\n",
       "Dimensions without coordinates: points</pre><div class='xr-wrap' style='display:none'><div class='xr-header'><div class='xr-obj-type'>xarray.DataArray</div><div class='xr-array-name'>'elevation'</div><ul class='xr-dim-list'><li><span>points</span>: 70052781</li></ul></div><ul class='xr-sections'><li class='xr-section-item'><div class='xr-array-wrap'><input id='section-67364e4a-6611-4407-8554-3577940d5945' class='xr-array-in' type='checkbox' checked><label for='section-67364e4a-6611-4407-8554-3577940d5945' title='Show/hide data repr'><svg class='icon xr-icon-database'><use xlink:href='#icon-database'></use></svg></label><div class='xr-array-preview xr-preview'><span>-16.59 -16.61 -16.45 -16.54 -16.44 ... 2.367 2.337 2.359 2.38 2.27</span></div><div class='xr-array-data'><pre>array([-16.586046 , -16.614954 , -16.450016 , ...,   2.359286 ,\n",
       "         2.3797374,   2.2698572], dtype=float32)</pre></div></div></li><li class='xr-section-item'><input id='section-28afe4b7-1c89-4632-820a-9cfcfcda8e0f' class='xr-section-summary-in' type='checkbox'  checked><label for='section-28afe4b7-1c89-4632-820a-9cfcfcda8e0f' class='xr-section-summary' >Coordinates: <span>(2)</span></label><div class='xr-section-inline-details'></div><div class='xr-section-details'><ul class='xr-var-list'><li class='xr-var-item'><div class='xr-var-name'><span>lon</span></div><div class='xr-var-dims'>(points)</div><div class='xr-var-dtype'>float64</div><div class='xr-var-preview xr-preview'>-76.28 -76.28 ... -76.15 -76.15</div><input id='attrs-b9f67099-cace-47ca-a2f0-ba37b6760fbf' class='xr-var-attrs-in' type='checkbox' disabled><label for='attrs-b9f67099-cace-47ca-a2f0-ba37b6760fbf' title='Show/Hide attributes'><svg class='icon xr-icon-file-text2'><use xlink:href='#icon-file-text2'></use></svg></label><input id='data-16242e11-d7f3-40a7-8a12-368fbf117798' class='xr-var-data-in' type='checkbox'><label for='data-16242e11-d7f3-40a7-8a12-368fbf117798' title='Show/Hide data repr'><svg class='icon xr-icon-database'><use xlink:href='#icon-database'></use></svg></label><div class='xr-var-attrs'><dl class='xr-attrs'></dl></div><div class='xr-var-data'><pre>array([-76.28486249, -76.28486249, -76.28486249, ..., -76.14755198,\n",
       "       -76.14755198, -76.14755198])</pre></div></li><li class='xr-var-item'><div class='xr-var-name'><span>lat</span></div><div class='xr-var-dims'>(points)</div><div class='xr-var-dtype'>float64</div><div class='xr-var-preview xr-preview'>38.33 38.33 38.33 ... 38.32 38.32</div><input id='attrs-e7a70f4a-6679-49b9-9b90-95b34877ae22' class='xr-var-attrs-in' type='checkbox' disabled><label for='attrs-e7a70f4a-6679-49b9-9b90-95b34877ae22' title='Show/Hide attributes'><svg class='icon xr-icon-file-text2'><use xlink:href='#icon-file-text2'></use></svg></label><input id='data-5dda4c49-6fe2-4d5a-981a-9abed68d8081' class='xr-var-data-in' type='checkbox'><label for='data-5dda4c49-6fe2-4d5a-981a-9abed68d8081' title='Show/Hide data repr'><svg class='icon xr-icon-database'><use xlink:href='#icon-database'></use></svg></label><div class='xr-var-attrs'><dl class='xr-attrs'></dl></div><div class='xr-var-data'><pre>array([38.33170385, 38.33169484, 38.33168583, ..., 38.31916939,\n",
       "       38.31916038, 38.31915137])</pre></div></li></ul></div></li><li class='xr-section-item'><input id='section-9e58748a-e902-46f9-86e4-238aa20eda3f' class='xr-section-summary-in' type='checkbox' disabled ><label for='section-9e58748a-e902-46f9-86e4-238aa20eda3f' class='xr-section-summary'  title='Expand/collapse section'>Indexes: <span>(0)</span></label><div class='xr-section-inline-details'></div><div class='xr-section-details'><ul class='xr-var-list'></ul></div></li><li class='xr-section-item'><input id='section-73c198e5-2008-479c-a52e-7c3812854e2d' class='xr-section-summary-in' type='checkbox' disabled ><label for='section-73c198e5-2008-479c-a52e-7c3812854e2d' class='xr-section-summary'  title='Expand/collapse section'>Attributes: <span>(0)</span></label><div class='xr-section-inline-details'></div><div class='xr-section-details'><dl class='xr-attrs'></dl></div></li></ul></div></div>"
      ],
      "text/plain": [
       "<xarray.DataArray 'elevation' (points: 70052781)> Size: 280MB\n",
       "array([-16.586046 , -16.614954 , -16.450016 , ...,   2.359286 ,\n",
       "         2.3797374,   2.2698572], dtype=float32)\n",
       "Coordinates:\n",
       "    lon      (points) float64 560MB -76.28 -76.28 -76.28 ... -76.15 -76.15\n",
       "    lat      (points) float64 560MB 38.33 38.33 38.33 ... 38.32 38.32 38.32\n",
       "Dimensions without coordinates: points"
      ]
     },
     "execution_count": 9,
     "metadata": {},
     "output_type": "execute_result"
    }
   ],
   "source": [
    "da_latlon = xr.DataArray(\n",
    "    data=da.values,\n",
    "    dims=[\"points\"],\n",
    "    coords={\n",
    "        \"lon\": (\"points\", lon_x),\n",
    "        \"lat\": (\"points\", lat_y)\n",
    "    },\n",
    "    name=\"elevation\"\n",
    ")\n",
    "da_latlon"
   ]
  },
  {
   "cell_type": "markdown",
   "id": "4841b474-38fe-47e5-9f31-ffcafa51fee6",
   "metadata": {},
   "source": [
    "# 4. Filtering for Region of Interest"
   ]
  },
  {
   "cell_type": "markdown",
   "id": "f324eafd-9871-497d-b9f6-86c0f2d5246e",
   "metadata": {},
   "source": [
    "Note: This part is necessary when parts of the subset are not in region of interest"
   ]
  },
  {
   "cell_type": "markdown",
   "id": "272d47b2-5a1b-469d-8be2-0b441f0eedb6",
   "metadata": {},
   "source": [
    "#### Check whether latitude is ascending or descending "
   ]
  },
  {
   "cell_type": "code",
   "execution_count": 22,
   "id": "be66cf94-23b5-4d7e-98ec-f3ee138a2bc1",
   "metadata": {},
   "outputs": [
    {
     "name": "stdout",
     "output_type": "stream",
     "text": [
      "Is latitude ascending? False\n"
     ]
    }
   ],
   "source": [
    "# print(\"Latitude first 5 values:\", da_latlon.lat.values[:5])\n",
    "# print(\"Latitude last 5 values:\", da_latlon.lat.values[-5:])\n",
    "print(\"Is latitude ascending?\", np.all(np.diff(da_latlon.lat.values) > 0))"
   ]
  },
  {
   "cell_type": "markdown",
   "id": "d908cab9-99f8-4fdb-84ff-a751a2aff432",
   "metadata": {},
   "source": [
    "#### Apply mask for region of interest bounds"
   ]
  },
  {
   "cell_type": "code",
   "execution_count": 10,
   "id": "708d9ee4-00c7-4c04-a38a-0ae4414d893c",
   "metadata": {},
   "outputs": [],
   "source": [
    "lon_mask = (da_latlon.lon >= -76.35157) & (da_latlon.lon <= -75.68480)\n",
    "lat_mask = (da_latlon.lat >= 38.19935) & (da_latlon.lat <= 38.67480)  # note: lat order (min <= lat <= max)\n",
    "\n",
    "combined_mask = lon_mask & lat_mask\n",
    "\n",
    "elevation_subset = da_latlon.where(combined_mask, drop=True)\n",
    "#print(elevation_subset))"
   ]
  },
  {
   "cell_type": "markdown",
   "id": "793e2594-4187-433e-9349-0d2ecd3afd28",
   "metadata": {},
   "source": [
    "# 5. Coordinate matching "
   ]
  },
  {
   "cell_type": "markdown",
   "id": "557c1422-00cc-4268-a685-3fb965723579",
   "metadata": {},
   "source": [
    "### Round all lat and on values to 4 decimal places to enable coordinate matching"
   ]
  },
  {
   "cell_type": "code",
   "execution_count": 20,
   "id": "08629e44-4d17-4a35-8682-aad970828395",
   "metadata": {
    "scrolled": true
   },
   "outputs": [],
   "source": [
    "abrupt[\"lat\"] = abrupt[\"lat\"].round(4)\n",
    "abrupt[\"lon\"] = abrupt[\"lon\"].round(4)\n",
    "\n",
    "recovery[\"lat\"] = recovery[\"lat\"].round(4)\n",
    "recovery[\"lon\"] = recovery[\"lon\"].round(4)\n",
    "\n",
    "gradual[\"lat\"] = gradual[\"lat\"].round(4)\n",
    "gradual[\"lon\"] = gradual[\"lon\"].round(4)\n",
    "\n",
    "stable[\"lat\"] = stable[\"lat\"].round(4)\n",
    "stable[\"lon\"] = stable[\"lon\"].round(4)"
   ]
  },
  {
   "cell_type": "code",
   "execution_count": 21,
   "id": "fbb16f23-6948-4c15-a549-e1ae54e2d57f",
   "metadata": {},
   "outputs": [],
   "source": [
    "elevation_subset[\"lat\"] = elevation_subset[\"lat\"].round(4) #latitude\n",
    "elevation_subset[\"lon\"] = elevation_subset[\"lon\"].round(4) #longitude"
   ]
  },
  {
   "cell_type": "code",
   "execution_count": 22,
   "id": "5108977c-8867-49d4-986e-2f72764aaea2",
   "metadata": {},
   "outputs": [],
   "source": [
    "df = elevation_subset.to_dataframe(name='elevation').reset_index()\n",
    "#df"
   ]
  },
  {
   "cell_type": "markdown",
   "id": "bf94b794-670f-4210-a0d9-4afcffc284df",
   "metadata": {},
   "source": [
    "### Filter out negative elevations of df because that would mean the forest is underwater, which doesn't make sense"
   ]
  },
  {
   "cell_type": "code",
   "execution_count": 24,
   "id": "515f0510-5dd7-4269-93d1-f058e3c64f50",
   "metadata": {},
   "outputs": [],
   "source": [
    "df_positive = df[df[\"elevation\"] > 0].copy()\n",
    "#df_positive"
   ]
  },
  {
   "cell_type": "markdown",
   "id": "8678ad14-6e82-410a-8ea6-38d2319deca9",
   "metadata": {},
   "source": [
    "### Coordinates repeat after rounding, so combine those coordinates and take their average elevations:"
   ]
  },
  {
   "cell_type": "code",
   "execution_count": 25,
   "id": "79432457-37a3-4c96-b80a-b81731443b0e",
   "metadata": {},
   "outputs": [
    {
     "name": "stdout",
     "output_type": "stream",
     "text": [
      "       lat      lon  elevation\n",
      "0  38.3192 -76.2293   0.577499\n",
      "1  38.3192 -76.2292   2.654254\n",
      "2  38.3192 -76.2291   3.133291\n",
      "3  38.3192 -76.2290   3.292044\n",
      "4  38.3192 -76.2289   3.491620\n"
     ]
    }
   ],
   "source": [
    "df_unique = df_positive.groupby(['lat', 'lon'], as_index=False)['elevation'].mean()\n",
    "# df_unique = df.groupby(['lat', 'lon'], as_index=False)['elevation'].mean()\n",
    "\n",
    "\n",
    "print(df_unique.head())"
   ]
  },
  {
   "cell_type": "code",
   "execution_count": 35,
   "id": "834a61a1-13a4-4f1f-8c6e-c0aa4cc09e95",
   "metadata": {},
   "outputs": [],
   "source": [
    "# print(len(df_unique))\n",
    "# print(len(df_positive))"
   ]
  },
  {
   "cell_type": "markdown",
   "id": "299bab3d-07c7-491e-b5a1-28f573deb865",
   "metadata": {},
   "source": [
    "### Convert elevation subset from a data array to dataframe"
   ]
  },
  {
   "cell_type": "code",
   "execution_count": 26,
   "id": "a10f6e2b-bacd-43bf-b23c-659a709e7de3",
   "metadata": {},
   "outputs": [],
   "source": [
    "df_coords = pd.DataFrame({\n",
    "    \"lat\" : df_unique.lat,\n",
    "    \"lon\" : df_unique.lon,\n",
    "    \"elevation\": df_unique.elevation\n",
    "}).dropna()\n",
    "#df_coords\n"
   ]
  },
  {
   "cell_type": "code",
   "execution_count": 35,
   "id": "24f589eb-f0a7-4619-bc1c-d21be6a7783e",
   "metadata": {},
   "outputs": [
    {
     "name": "stdout",
     "output_type": "stream",
     "text": [
      "38.3192\n",
      "38.426\n",
      "-76.2656\n",
      "-76.1476\n"
     ]
    }
   ],
   "source": [
    "#Confirm bounds of dataframe\n",
    "# print(df_coords.lat.min())\n",
    "# print(df_coords.lat.max())\n",
    "# print(df_coords.lon.min())\n",
    "# print(df_coords.lon.max())"
   ]
  },
  {
   "cell_type": "markdown",
   "id": "6c037801-6950-47f6-bb54-2fe9763955e9",
   "metadata": {},
   "source": [
    "## Match category to elevation coords individually:"
   ]
  },
  {
   "cell_type": "code",
   "execution_count": 27,
   "id": "82dd0a0f-e408-4601-bcc5-b7b27c5bcf4c",
   "metadata": {},
   "outputs": [],
   "source": [
    "matched_abrupt = pd.merge(abrupt, df_coords, on=[\"lat\", \"lon\"], how=\"inner\")    \n",
    "matched_recovery = pd.merge(recovery, df_coords, on=[\"lat\", \"lon\"], how=\"inner\")    \n",
    "matched_gradual = pd.merge(gradual, df_coords, on=[\"lat\", \"lon\"], how=\"inner\")    \n",
    "matched_stable = pd.merge(stable, df_coords, on=[\"lat\", \"lon\"], how=\"inner\")    "
   ]
  },
  {
   "cell_type": "markdown",
   "id": "9821ae8c-adbd-4d11-bbf1-dacfa87da74a",
   "metadata": {},
   "source": [
    "### Remove outlier (recovery point has an elevation of 17ft, which throws off data)"
   ]
  },
  {
   "cell_type": "code",
   "execution_count": 30,
   "id": "7ed8792e-b247-4555-848e-b177a54bf902",
   "metadata": {},
   "outputs": [
    {
     "data": {
      "text/plain": [
       "array([2.2154934, 2.5930367, 2.8820648, 2.5778873, 2.2633035, 2.7685146,\n",
       "       5.8557653, 3.3989382, 4.4662886, 4.1445866, 2.7141802, 9.567449 ,\n",
       "       4.0903344, 3.273003 , 1.6327834, 5.5803056, 1.8227564, 2.584442 ,\n",
       "       2.0839446, 2.1693163, 2.0563185, 2.2074878, 2.1266487, 2.0515454,\n",
       "       3.3663466, 1.4109988, 2.3600636, 1.9917697, 2.4810386, 2.322847 ,\n",
       "       2.2227848, 2.3630664, 1.9732562, 2.2116733, 2.353441 , 3.1509044,\n",
       "       3.6334488, 2.4314127, 2.163055 , 2.3178778, 2.0791564, 2.2945192,\n",
       "       2.0722382, 2.8845286, 2.6179066], dtype=float32)"
      ]
     },
     "execution_count": 30,
     "metadata": {},
     "output_type": "execute_result"
    }
   ],
   "source": [
    "matched_recovery.elevation\n",
    "np.delete(matched_recovery.elevation, 27)\n",
    "recovery_list = np.delete(matched_recovery.elevation, 27)\n",
    "recovery_list"
   ]
  },
  {
   "cell_type": "markdown",
   "id": "8cc18e40-46d1-4d5a-b849-655d15be07f6",
   "metadata": {},
   "source": [
    "# 6. Pie Chart Distribution "
   ]
  },
  {
   "cell_type": "code",
   "execution_count": 36,
   "id": "f5501593-4ac8-4f5d-a016-da4ebab89490",
   "metadata": {},
   "outputs": [
    {
     "data": {
      "image/png": "[encoded data removed]",
      "text/plain": [
       "<Figure size 1000x700 with 1 Axes>"
      ]
     },
     "metadata": {},
     "output_type": "display_data"
    },
    {
     "data": {
      "text/plain": [
       "<Figure size 640x480 with 0 Axes>"
      ]
     },
     "metadata": {},
     "output_type": "display_data"
    },
    {
     "data": {
      "text/plain": [
       "<Figure size 640x480 with 0 Axes>"
      ]
     },
     "metadata": {},
     "output_type": "display_data"
    }
   ],
   "source": [
    "# Creating dataset\n",
    "pathways = ['Stable', 'Recovery', 'Gradual',\n",
    "        'Abrupt']\n",
    "\n",
    "data = [len(matched_stable), len(matched_recovery), len(matched_gradual), len(matched_abrupt)]\n",
    "\n",
    "# colors = [sns.color_palette(\"pastel\")[0], sns.color_palette(\"pastel\")[2], sns.color_palette(\"pastel\")[1], sns.color_palette(\"pastel\")[3]]\n",
    "colors = [\"blue\", \"green\", \"orange\", \"red\"]\n",
    "# Creating plot\n",
    "fig = plt.figure(figsize=(10, 7))\n",
    "plt.pie(data, colors = colors, textprops={'fontsize': 20,'color': 'white'}, autopct='%.1f%%');\n",
    "# labels=pathways,\n",
    "values = pd.Series([False, False, True, True])\n",
    "v_counts = values.value_counts()\n",
    "fig = plt.figure()\n",
    "# show plot\n",
    "plt.show()\n",
    "plt.savefig('/home/jovyan/sara_typrin/ndvi_landsat/figures/pie_chart.png')"
   ]
  },
  {
   "cell_type": "markdown",
   "id": "7f745132-1ac1-4c46-ac91-0d052a458c80",
   "metadata": {},
   "source": [
    "## Compile four category dfs into one df: "
   ]
  },
  {
   "cell_type": "code",
   "execution_count": 37,
   "id": "a831e0a8-5b26-4aa5-9bf5-0111cdffbfb2",
   "metadata": {},
   "outputs": [],
   "source": [
    "data = [\n",
    "    ('abrupt', matched_abrupt.elevation),\n",
    "    ('gradual', matched_gradual.elevation),\n",
    "    ('recovery', recovery_list),\n",
    "    ('stable', matched_stable.elevation),\n",
    "]\n",
    "#data"
   ]
  },
  {
   "cell_type": "markdown",
   "id": "08d7b0ef-8cbe-4aeb-a82d-1f0eab54a19b",
   "metadata": {},
   "source": [
    "## Convert to long-format DataFrame"
   ]
  },
  {
   "cell_type": "code",
   "execution_count": 38,
   "id": "86312c37-3385-4f9a-a4a4-af8c583462de",
   "metadata": {},
   "outputs": [
    {
     "data": {
      "text/html": [
       "<div>\n",
       "<style scoped>\n",
       "    .dataframe tbody tr th:only-of-type {\n",
       "        vertical-align: middle;\n",
       "    }\n",
       "\n",
       "    .dataframe tbody tr th {\n",
       "        vertical-align: top;\n",
       "    }\n",
       "\n",
       "    .dataframe thead th {\n",
       "        text-align: right;\n",
       "    }\n",
       "</style>\n",
       "<table border=\"1\" class=\"dataframe\">\n",
       "  <thead>\n",
       "    <tr style=\"text-align: right;\">\n",
       "      <th></th>\n",
       "      <th>Category</th>\n",
       "      <th>elevation</th>\n",
       "    </tr>\n",
       "  </thead>\n",
       "  <tbody>\n",
       "    <tr>\n",
       "      <th>0</th>\n",
       "      <td>abrupt</td>\n",
       "      <td>2.722750</td>\n",
       "    </tr>\n",
       "    <tr>\n",
       "      <th>1</th>\n",
       "      <td>abrupt</td>\n",
       "      <td>2.253136</td>\n",
       "    </tr>\n",
       "    <tr>\n",
       "      <th>2</th>\n",
       "      <td>abrupt</td>\n",
       "      <td>2.918356</td>\n",
       "    </tr>\n",
       "    <tr>\n",
       "      <th>3</th>\n",
       "      <td>abrupt</td>\n",
       "      <td>4.085401</td>\n",
       "    </tr>\n",
       "    <tr>\n",
       "      <th>4</th>\n",
       "      <td>abrupt</td>\n",
       "      <td>2.294834</td>\n",
       "    </tr>\n",
       "    <tr>\n",
       "      <th>...</th>\n",
       "      <td>...</td>\n",
       "      <td>...</td>\n",
       "    </tr>\n",
       "    <tr>\n",
       "      <th>129</th>\n",
       "      <td>stable</td>\n",
       "      <td>3.021718</td>\n",
       "    </tr>\n",
       "    <tr>\n",
       "      <th>130</th>\n",
       "      <td>stable</td>\n",
       "      <td>2.160134</td>\n",
       "    </tr>\n",
       "    <tr>\n",
       "      <th>131</th>\n",
       "      <td>stable</td>\n",
       "      <td>1.762089</td>\n",
       "    </tr>\n",
       "    <tr>\n",
       "      <th>132</th>\n",
       "      <td>stable</td>\n",
       "      <td>2.630260</td>\n",
       "    </tr>\n",
       "    <tr>\n",
       "      <th>133</th>\n",
       "      <td>stable</td>\n",
       "      <td>2.598020</td>\n",
       "    </tr>\n",
       "  </tbody>\n",
       "</table>\n",
       "<p>1261 rows × 2 columns</p>\n",
       "</div>"
      ],
      "text/plain": [
       "    Category  elevation\n",
       "0     abrupt   2.722750\n",
       "1     abrupt   2.253136\n",
       "2     abrupt   2.918356\n",
       "3     abrupt   4.085401\n",
       "4     abrupt   2.294834\n",
       "..       ...        ...\n",
       "129   stable   3.021718\n",
       "130   stable   2.160134\n",
       "131   stable   1.762089\n",
       "132   stable   2.630260\n",
       "133   stable   2.598020\n",
       "\n",
       "[1261 rows x 2 columns]"
      ]
     },
     "execution_count": 38,
     "metadata": {},
     "output_type": "execute_result"
    }
   ],
   "source": [
    "df_final = pd.concat([\n",
    "    pd.DataFrame({\n",
    "        'Category': label, \n",
    "        'elevation': values})\n",
    "    for label, values in data\n",
    "])\n",
    "df_final"
   ]
  },
  {
   "cell_type": "markdown",
   "id": "9702fd1d-678a-4942-8cd6-ffda8fa6a25a",
   "metadata": {},
   "source": [
    "# 7. Average Elevation "
   ]
  },
  {
   "cell_type": "code",
   "execution_count": 39,
   "id": "5cec17ae-8299-4f84-a6aa-fd367deaa50b",
   "metadata": {},
   "outputs": [
    {
     "name": "stdout",
     "output_type": "stream",
     "text": [
      "Average Elevation per Category:\n",
      "    Category  elevation\n",
      "0    abrupt       1.95\n",
      "1   gradual       1.90\n",
      "2  recovery       2.84\n",
      "3    stable       2.26\n"
     ]
    },
    {
     "data": {
      "text/plain": [
       "0    1.95\n",
       "1    1.90\n",
       "2    2.84\n",
       "3    2.26\n",
       "Name: elevation, dtype: float32"
      ]
     },
     "execution_count": 39,
     "metadata": {},
     "output_type": "execute_result"
    }
   ],
   "source": [
    "# Calculate the average elevation per category\n",
    "avg_elevation = df_final.groupby('Category')['elevation'].mean().reset_index().round(2)\n",
    "print(\"Average Elevation per Category:\\n\", avg_elevation)\n",
    "avg_elevation.elevation"
   ]
  },
  {
   "cell_type": "markdown",
   "id": "f3210f89-fa5d-4ced-b083-c62d9550f67c",
   "metadata": {},
   "source": [
    "### Calculate standard deviation of the mean:"
   ]
  },
  {
   "cell_type": "code",
   "execution_count": 40,
   "id": "8169d32c-1676-4d27-bc40-b32d1fe91efa",
   "metadata": {},
   "outputs": [],
   "source": [
    "abrupt_std = np.std(matched_abrupt.elevation)\n",
    "recovery_std = np.std(matched_recovery.elevation)\n",
    "gradual_std = np.std(matched_gradual.elevation)\n",
    "stable_std = np.std(matched_stable.elevation)\n",
    "\n",
    "abrupt_avg_uncertainty = abrupt_std / np.sqrt(avg_elevation.elevation[0])\n",
    "recovery_avg_uncertainty =  recovery_std / np.sqrt(avg_elevation.elevation[2])\n",
    "gradual_avg_uncertainty =  gradual_std / np.sqrt(avg_elevation.elevation[1])\n",
    "stable_avg_uncertainty =  stable_std / np.sqrt(avg_elevation.elevation[3])"
   ]
  },
  {
   "cell_type": "code",
   "execution_count": 41,
   "id": "4917bfaa-3c24-4a73-b16e-a41143ff5561",
   "metadata": {},
   "outputs": [
    {
     "data": {
      "text/plain": [
       "0.6540818"
      ]
     },
     "execution_count": 41,
     "metadata": {},
     "output_type": "execute_result"
    }
   ],
   "source": [
    "stable_avg_uncertainty"
   ]
  },
  {
   "cell_type": "markdown",
   "id": "bff7c4cc-fadc-4f17-b860-01ff9c4c4c22",
   "metadata": {},
   "source": [
    "### Plot averages with error bars"
   ]
  },
  {
   "cell_type": "code",
   "execution_count": 42,
   "id": "45641749-e1e0-4cc5-8488-84e0b4f98dea",
   "metadata": {},
   "outputs": [
    {
     "data": {
      "image/png": "[encoded data removed]",
      "text/plain": [
       "<Figure size 800x600 with 1 Axes>"
      ]
     },
     "metadata": {},
     "output_type": "display_data"
    }
   ],
   "source": [
    "categories = avg_elevation['Category']\n",
    "elev = avg_elevation['elevation']\n",
    "errors = [abrupt_avg_uncertainty, gradual_avg_uncertainty, recovery_avg_uncertainty, stable_avg_uncertainty]\n",
    "colors = [\"red\", \"orange\", \"green\", \"blue\"]\n",
    "\n",
    "plt.figure(figsize=(8, 6))\n",
    "plt.title('Average Elevation by Forest Response Pathway')\n",
    "plt.xlabel('Pathway')\n",
    "plt.ylabel('Elevation (m)')\n",
    "\n",
    "for cat, el, err, col in zip(categories, elev, errors, colors):\n",
    "    plt.errorbar(cat, el, yerr=err, fmt='o', color=col, ecolor=col, capsize=5)\n",
    "\n",
    "plt.tight_layout()\n",
    "plt.savefig('/home/jovyan/sara_typrin/ndvi_landsat/figures/avg_elevation')\n",
    "plt.show()"
   ]
  },
  {
   "cell_type": "markdown",
   "id": "203a5861-3b5a-4733-bad3-4d7a125d1231",
   "metadata": {},
   "source": [
    "# 8. ANOVA statisical analysis"
   ]
  },
  {
   "cell_type": "code",
   "execution_count": 43,
   "id": "c50d0480-05ca-4e1d-8e83-f5cba0b06acb",
   "metadata": {},
   "outputs": [],
   "source": [
    "F = stats.f_oneway(matched_gradual.elevation, matched_abrupt.elevation, matched_stable.elevation, matched_recovery.elevation, \n",
    "                   axis=0, \n",
    "                   nan_policy='propagate', \n",
    "                   keepdims=False)\n",
    "F\n",
    "F.statistic"
   ]
  },
  {
   "cell_type": "markdown",
   "id": "d1ff1224-461a-402e-bdf1-af667123f761",
   "metadata": {},
   "source": [
    "## Tukey Test"
   ]
  },
  {
   "cell_type": "code",
   "execution_count": 43,
   "id": "ac51e403-f7e3-43c4-b806-b98014ecb1b3",
   "metadata": {},
   "outputs": [
    {
     "name": "stdout",
     "output_type": "stream",
     "text": [
      "  Multiple Comparison of Means - Tukey HSD, FWER=0.05   \n",
      "========================================================\n",
      " group1   group2  meandiff p-adj   lower   upper  reject\n",
      "--------------------------------------------------------\n",
      "  abrupt  gradual  -0.0455 0.7087 -0.1549   0.064  False\n",
      "  abrupt recovery   0.8939    0.0  0.6289  1.1589   True\n",
      "  abrupt   stable   0.3107    0.0  0.1403  0.4811   True\n",
      " gradual recovery   0.9394    0.0   0.683  1.1958   True\n",
      " gradual   stable   0.3562    0.0  0.1994  0.5129   True\n",
      "recovery   stable  -0.5832    0.0 -0.8709 -0.2954   True\n",
      "--------------------------------------------------------\n"
     ]
    },
    {
     "data": {
      "image/png": "[encoded data removed]",
      "text/plain": [
       "<Figure size 1000x600 with 1 Axes>"
      ]
     },
     "execution_count": 43,
     "metadata": {},
     "output_type": "execute_result"
    },
    {
     "data": {
      "image/png": "[encoded data removed]",
      "text/plain": [
       "<Figure size 1000x600 with 1 Axes>"
      ]
     },
     "metadata": {},
     "output_type": "display_data"
    }
   ],
   "source": [
    "from statsmodels.stats.multicomp import pairwise_tukeyhsd\n",
    "\n",
    "# Create a DataFrame with sample data\n",
    "\n",
    "# Perform Tukey's HSD test\n",
    "tukey_results = pairwise_tukeyhsd(\n",
    "    endog=df_final['elevation'],\n",
    "    groups=df_final['Category'],\n",
    "    alpha=0.05\n",
    ")\n",
    "\n",
    "# Display the results\n",
    "print(tukey_results)\n",
    "tukey_results.plot_simultaneous()"
   ]
  },
  {
   "cell_type": "markdown",
   "id": "6df2746a-a5af-4aa8-85b7-39a6313fce11",
   "metadata": {},
   "source": [
    "### T-test example"
   ]
  },
  {
   "cell_type": "code",
   "execution_count": 57,
   "id": "de38f632-e719-4a8e-b8aa-d767c22ac39b",
   "metadata": {},
   "outputs": [
    {
     "name": "stdout",
     "output_type": "stream",
     "text": [
      "Gradual & Abrupt P-value: 0.20031453811287284\n"
     ]
    }
   ],
   "source": [
    "\n",
    "# group1 = matched_abrupt.elevation\n",
    "# group2 = matched_gradual.elevation\n",
    "\n",
    "# # Perform the t-test\n",
    "# t_stat, p_value = stats.ttest_ind(group1, group2)\n",
    "\n",
    "# # print(\"T-statistic:\", t_stat)\n",
    "# print(\"Gradual & Abrupt P-value:\", p_value)"
   ]
  },
  {
   "cell_type": "markdown",
   "id": "a4a2078f-20ef-479d-b325-a40431e6ade5",
   "metadata": {},
   "source": [
    "# 9. Box Plot with Means"
   ]
  },
  {
   "cell_type": "code",
   "execution_count": 50,
   "id": "b95b3f14-1343-4bd5-895b-ef42d6087150",
   "metadata": {},
   "outputs": [
    {
     "name": "stderr",
     "output_type": "stream",
     "text": [
      "/tmp/ipykernel_118/2766738962.py:17: MatplotlibDeprecationWarning: The 'labels' parameter of boxplot() has been renamed 'tick_labels' since Matplotlib 3.9; support for the old name will be dropped in 3.11.\n",
      "  bp = plt.boxplot(\n"
     ]
    },
    {
     "data": {
      "image/png": "[encoded data removed]",
      "text/plain": [
       "<Figure size 800x600 with 1 Axes>"
      ]
     },
     "metadata": {},
     "output_type": "display_data"
    }
   ],
   "source": [
    "colors = [sns.color_palette(\"pastel\")[3],\n",
    "          sns.color_palette(\"pastel\")[1],\n",
    "          sns.color_palette(\"pastel\")[2],\n",
    "          sns.color_palette(\"pastel\")[0]]\n",
    "\n",
    "plt.figure(figsize=(8, 6))\n",
    "plt.title('Elevation by Forest Response Pathway', fontsize=18)\n",
    "plt.xlabel('Forest Response Pathway', fontsize=16)\n",
    "plt.ylabel('Elevation (ft)', fontsize=16)\n",
    "plt.xticks(fontsize=14)\n",
    "\n",
    "# Prepare data\n",
    "categories = df_final['Category'].unique()\n",
    "data = [df_final.loc[df_final['Category'] == cat, 'elevation'] for cat in categories]\n",
    "\n",
    "# Plot boxplot without median line or mean marker\n",
    "bp = plt.boxplot(\n",
    "    data,\n",
    "    labels=categories,\n",
    "    notch=False,\n",
    "    patch_artist=True, \n",
    "    medianprops=dict(linestyle=''),  # Remove median line\n",
    "    showfliers=False,\n",
    "    showmeans=False,                 # We'll add custom mean lines\n",
    ")\n",
    "\n",
    "# Color each box\n",
    "for patch, color in zip(bp['boxes'], colors):\n",
    "    patch.set_facecolor(color)\n",
    "    patch.set_edgecolor('black')\n",
    "\n",
    "# Add bold mean lines manually\n",
    "for i, group_data in enumerate(data, start=1):\n",
    "    mean_val = group_data.mean()\n",
    "    plt.hlines(mean_val, i - 0.25, i + 0.25, colors='black', linewidth=3)  # Bold horizontal mean line\n",
    "\n",
    "plt.tight_layout()\n",
    "plt.show()"
   ]
  }
 ],
 "metadata": {
  "kernelspec": {
   "display_name": "Python 3 (ipykernel)",
   "language": "python",
   "name": "python3"
  },
  "language_info": {
   "codemirror_mode": {
    "name": "ipython",
    "version": 3
   },
   "file_extension": ".py",
   "mimetype": "text/x-python",
   "name": "python",
   "nbconvert_exporter": "python",
   "pygments_lexer": "ipython3",
   "version": "3.11.11"
  }
 },
 "nbformat": 4,
 "nbformat_minor": 5
}
