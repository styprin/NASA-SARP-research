{
 "cells": [
  {
   "cell_type": "markdown",
   "id": "79860a16-691c-4457-8eae-931759470844",
   "metadata": {},
   "source": [
    "# Readme"
   ]
  },
  {
   "cell_type": "markdown",
   "id": "323853d8-2171-40b8-b969-66c2f25997ab",
   "metadata": {
    "tags": [],
    "user_expressions": []
   },
   "source": [
    "1. Upload dataset file: Landcover Classification in Chesapeake 2020: https://portal.edirepository.org/nis/metadataviewer?packageid=knb-lter-vcr.379.1 \n",
    "2. Transformations: Convert x and y coordinates to Laitude and Longitude\n",
    "3. Subsetting data based nan values\n",
    "4. Organize data based on classification (making upland forest file)\n",
    "5. Subsetting data based on lat-lon box\n",
    "6. Downloading data as csv\n",
    "\n",
    "The final output is upland forest coordinates file (in specific region)."
   ]
  },
  {
   "cell_type": "code",
   "execution_count": 1,
   "id": "87da08d4-aa50-48b1-9c86-d3eeba47d276",
   "metadata": {
    "tags": []
   },
   "outputs": [],
   "source": [
    "import xarray as xr\n",
    "from pyproj import Transformer\n",
    "from shapely.ops import transform\n",
    "from shapely.geometry import Point\n",
    "import numpy as np\n",
    "from geopandas import GeoSeries\n",
    "import geopandas as gpd\n",
    "import numpy as np\n",
    "import matplotlib.pyplot as plt\n",
    "from shapely.geometry import Point\n",
    "from pyproj import Transformer\n",
    "from shapely.ops import transform\n",
    "import csv \n",
    "import pandas as pd\n",
    "import os"
   ]
  },
  {
   "cell_type": "markdown",
   "id": "6c6a65d9-7633-4834-b07d-27e9190be1d4",
   "metadata": {
    "tags": [],
    "user_expressions": []
   },
   "source": [
    "## 1. Upload dataset file"
   ]
  },
  {
   "cell_type": "code",
   "execution_count": 2,
   "id": "497b6907-076f-450b-b704-5f2b6a227828",
   "metadata": {
    "tags": []
   },
   "outputs": [],
   "source": [
    "landcover = xr.open_dataset('/home/jovyan/sara_typrin/landcover/Landcover_year2020.tif')\n",
    "#landcover.info()"
   ]
  },
  {
   "cell_type": "markdown",
   "id": "cd111989-4176-4c56-9cd4-17e3e0eb0bc4",
   "metadata": {},
   "source": [
    "Data is organized as a 3D array. Each x-y corresponds to a classification value between 0 and 6"
   ]
  },
  {
   "cell_type": "code",
   "execution_count": 3,
   "id": "04529f73-2c5b-4146-bc94-74beea30dbd1",
   "metadata": {
    "tags": []
   },
   "outputs": [],
   "source": [
    "#band = landcover['band_data']\n",
    "#band"
   ]
  },
  {
   "cell_type": "code",
   "execution_count": 5,
   "id": "6c9cef2a-8d91-4963-9a00-497c48057132",
   "metadata": {
    "tags": []
   },
   "outputs": [],
   "source": [
    "#data = landcover['band_data']\n",
    "#data.max"
   ]
  },
  {
   "cell_type": "markdown",
   "id": "162bc874-29f8-45ad-b4e7-f8506a0cc103",
   "metadata": {
    "tags": [],
    "user_expressions": []
   },
   "source": [
    "## 2. Coordinate Transformation"
   ]
  },
  {
   "cell_type": "markdown",
   "id": "c4d8b52a-e7f3-42df-8f6a-f3d50826bcc0",
   "metadata": {
    "tags": [],
    "user_expressions": []
   },
   "source": [
    "Defining transformation that converts point to 'epsg:4326', the longitude latitue coordinate system.  "
   ]
  },
  {
   "cell_type": "code",
   "execution_count": 4,
   "id": "209d1ed1-4614-42ee-90b3-80a9b76a1e0d",
   "metadata": {
    "tags": []
   },
   "outputs": [
    {
     "name": "stdout",
     "output_type": "stream",
     "text": [
      "POINT (-79.48943775842608 0.0003386772374478)\n"
     ]
    }
   ],
   "source": [
    "vcu = Point(-77.45, 37.55)\n",
    "t = Transformer.from_crs(crs_from='epsg:32618', crs_to='epsg:4326', always_xy=True).transform\n",
    "vcu_utm = transform(t, vcu)\n",
    "print(vcu_utm.wkt)  # Prints easting, northing"
   ]
  },
  {
   "cell_type": "code",
   "execution_count": 6,
   "id": "42c7d395-83ee-43ed-808e-1edcf0cf25cd",
   "metadata": {
    "tags": []
   },
   "outputs": [],
   "source": [
    "#vcu_utm"
   ]
  },
  {
   "cell_type": "code",
   "execution_count": 5,
   "id": "28700226-e79e-4f7a-85c5-e7fa8dcd426f",
   "metadata": {
    "tags": []
   },
   "outputs": [
    {
     "name": "stdout",
     "output_type": "stream",
     "text": [
      "POINT (-79.48943775842608 0.0003386772374478)\n"
     ]
    }
   ],
   "source": [
    "print(vcu_utm.wkt)  # Prints easting, northing"
   ]
  },
  {
   "cell_type": "markdown",
   "id": "f8008fce-ee5b-42f7-9036-fd38621df4ea",
   "metadata": {
    "tags": [],
    "user_expressions": []
   },
   "source": [
    "Define landcover array variables: x_values, y_values, and data"
   ]
  },
  {
   "cell_type": "code",
   "execution_count": 84,
   "id": "b21b7c89-e4f3-4d66-a6c7-b93f7be78201",
   "metadata": {
    "tags": []
   },
   "outputs": [
    {
     "name": "stdout",
     "output_type": "stream",
     "text": [
      "[[[nan nan nan ... nan nan nan]\n",
      "  [nan nan nan ... nan nan nan]\n",
      "  [nan nan nan ... nan nan nan]\n",
      "  ...\n",
      "  [nan nan nan ... nan nan nan]\n",
      "  [nan nan nan ... nan nan nan]\n",
      "  [nan nan nan ... nan nan nan]]]\n"
     ]
    }
   ],
   "source": [
    "x_values = landcover.x.values\n",
    "y_values = landcover.y.values\n",
    "data=landcover.band_data.values\n",
    "\n",
    "#print(len(x_values))\n",
    "#print(len(y_values))\n",
    "print(data)"
   ]
  },
  {
   "cell_type": "markdown",
   "id": "20094bb3-7310-41f1-a122-6fb9be98c4be",
   "metadata": {},
   "source": [
    "Combine x and y dimensions into 1 dimension containing all classification values"
   ]
  },
  {
   "cell_type": "code",
   "execution_count": 7,
   "id": "a512c2e7-e337-44da-aa99-8e5dd5704285",
   "metadata": {
    "tags": []
   },
   "outputs": [],
   "source": [
    "flattened = data.stack(coords=(\"y\", \"x\"))\n",
    "#print(len(flattened))\n",
    "#print(flattened[:5])"
   ]
  },
  {
   "cell_type": "markdown",
   "id": "424dad3f-f20e-4b4c-8ba6-8cc35b537057",
   "metadata": {
    "tags": [],
    "user_expressions": []
   },
   "source": [
    "## 3. Taking Subset of Data"
   ]
  },
  {
   "cell_type": "markdown",
   "id": "097fffb7-0d21-4708-ad1d-d2f3defede0b",
   "metadata": {},
   "source": [
    "Most values in flattened dataset have no classification (nan). We are only interested in the classified values, so we take a subset of the not nan values. "
   ]
  },
  {
   "cell_type": "code",
   "execution_count": null,
   "id": "96b3bf96-060b-4cb2-8a29-b99594eb691e",
   "metadata": {},
   "outputs": [],
   "source": [
    "print(flattened.values)"
   ]
  },
  {
   "cell_type": "code",
   "execution_count": 92,
   "id": "934dea08-4804-4b75-8893-b56fe8acfe4a",
   "metadata": {},
   "outputs": [
    {
     "data": {
      "text/html": [
       "<div><svg style=\"position: absolute; width: 0; height: 0; overflow: hidden\">\n",
       "<defs>\n",
       "<symbol id=\"icon-database\" viewBox=\"0 0 32 32\">\n",
       "<path d=\"M16 0c-8.837 0-16 2.239-16 5v4c0 2.761 7.163 5 16 5s16-2.239 16-5v-4c0-2.761-7.163-5-16-5z\"></path>\n",
       "<path d=\"M16 17c-8.837 0-16-2.239-16-5v6c0 2.761 7.163 5 16 5s16-2.239 16-5v-6c0 2.761-7.163 5-16 5z\"></path>\n",
       "<path d=\"M16 26c-8.837 0-16-2.239-16-5v6c0 2.761 7.163 5 16 5s16-2.239 16-5v-6c0 2.761-7.163 5-16 5z\"></path>\n",
       "</symbol>\n",
       "<symbol id=\"icon-file-text2\" viewBox=\"0 0 32 32\">\n",
       "<path d=\"M28.681 7.159c-0.694-0.947-1.662-2.053-2.724-3.116s-2.169-2.030-3.116-2.724c-1.612-1.182-2.393-1.319-2.841-1.319h-15.5c-1.378 0-2.5 1.121-2.5 2.5v27c0 1.378 1.122 2.5 2.5 2.5h23c1.378 0 2.5-1.122 2.5-2.5v-19.5c0-0.448-0.137-1.23-1.319-2.841zM24.543 5.457c0.959 0.959 1.712 1.825 2.268 2.543h-4.811v-4.811c0.718 0.556 1.584 1.309 2.543 2.268zM28 29.5c0 0.271-0.229 0.5-0.5 0.5h-23c-0.271 0-0.5-0.229-0.5-0.5v-27c0-0.271 0.229-0.5 0.5-0.5 0 0 15.499-0 15.5 0v7c0 0.552 0.448 1 1 1h7v19.5z\"></path>\n",
       "<path d=\"M23 26h-14c-0.552 0-1-0.448-1-1s0.448-1 1-1h14c0.552 0 1 0.448 1 1s-0.448 1-1 1z\"></path>\n",
       "<path d=\"M23 22h-14c-0.552 0-1-0.448-1-1s0.448-1 1-1h14c0.552 0 1 0.448 1 1s-0.448 1-1 1z\"></path>\n",
       "<path d=\"M23 18h-14c-0.552 0-1-0.448-1-1s0.448-1 1-1h14c0.552 0 1 0.448 1 1s-0.448 1-1 1z\"></path>\n",
       "</symbol>\n",
       "</defs>\n",
       "</svg>\n",
       "<style>/* CSS stylesheet for displaying xarray objects in jupyterlab.\n",
       " *\n",
       " */\n",
       "\n",
       ":root {\n",
       "  --xr-font-color0: var(--jp-content-font-color0, rgba(0, 0, 0, 1));\n",
       "  --xr-font-color2: var(--jp-content-font-color2, rgba(0, 0, 0, 0.54));\n",
       "  --xr-font-color3: var(--jp-content-font-color3, rgba(0, 0, 0, 0.38));\n",
       "  --xr-border-color: var(--jp-border-color2, #e0e0e0);\n",
       "  --xr-disabled-color: var(--jp-layout-color3, #bdbdbd);\n",
       "  --xr-background-color: var(--jp-layout-color0, white);\n",
       "  --xr-background-color-row-even: var(--jp-layout-color1, white);\n",
       "  --xr-background-color-row-odd: var(--jp-layout-color2, #eeeeee);\n",
       "}\n",
       "\n",
       "html[theme=\"dark\"],\n",
       "html[data-theme=\"dark\"],\n",
       "body[data-theme=\"dark\"],\n",
       "body.vscode-dark {\n",
       "  --xr-font-color0: rgba(255, 255, 255, 1);\n",
       "  --xr-font-color2: rgba(255, 255, 255, 0.54);\n",
       "  --xr-font-color3: rgba(255, 255, 255, 0.38);\n",
       "  --xr-border-color: #1f1f1f;\n",
       "  --xr-disabled-color: #515151;\n",
       "  --xr-background-color: #111111;\n",
       "  --xr-background-color-row-even: #111111;\n",
       "  --xr-background-color-row-odd: #313131;\n",
       "}\n",
       "\n",
       ".xr-wrap {\n",
       "  display: block !important;\n",
       "  min-width: 300px;\n",
       "  max-width: 700px;\n",
       "}\n",
       "\n",
       ".xr-text-repr-fallback {\n",
       "  /* fallback to plain text repr when CSS is not injected (untrusted notebook) */\n",
       "  display: none;\n",
       "}\n",
       "\n",
       ".xr-header {\n",
       "  padding-top: 6px;\n",
       "  padding-bottom: 6px;\n",
       "  margin-bottom: 4px;\n",
       "  border-bottom: solid 1px var(--xr-border-color);\n",
       "}\n",
       "\n",
       ".xr-header > div,\n",
       ".xr-header > ul {\n",
       "  display: inline;\n",
       "  margin-top: 0;\n",
       "  margin-bottom: 0;\n",
       "}\n",
       "\n",
       ".xr-obj-type,\n",
       ".xr-array-name {\n",
       "  margin-left: 2px;\n",
       "  margin-right: 10px;\n",
       "}\n",
       "\n",
       ".xr-obj-type {\n",
       "  color: var(--xr-font-color2);\n",
       "}\n",
       "\n",
       ".xr-sections {\n",
       "  padding-left: 0 !important;\n",
       "  display: grid;\n",
       "  grid-template-columns: 150px auto auto 1fr 0 20px 0 20px;\n",
       "}\n",
       "\n",
       ".xr-section-item {\n",
       "  display: contents;\n",
       "}\n",
       "\n",
       ".xr-section-item input {\n",
       "  display: inline-block;\n",
       "  opacity: 0;\n",
       "  height: 0;\n",
       "}\n",
       "\n",
       ".xr-section-item input + label {\n",
       "  color: var(--xr-disabled-color);\n",
       "}\n",
       "\n",
       ".xr-section-item input:enabled + label {\n",
       "  cursor: pointer;\n",
       "  color: var(--xr-font-color2);\n",
       "}\n",
       "\n",
       ".xr-section-item input:focus + label {\n",
       "  border: 2px solid var(--xr-font-color0);\n",
       "}\n",
       "\n",
       ".xr-section-item input:enabled + label:hover {\n",
       "  color: var(--xr-font-color0);\n",
       "}\n",
       "\n",
       ".xr-section-summary {\n",
       "  grid-column: 1;\n",
       "  color: var(--xr-font-color2);\n",
       "  font-weight: 500;\n",
       "}\n",
       "\n",
       ".xr-section-summary > span {\n",
       "  display: inline-block;\n",
       "  padding-left: 0.5em;\n",
       "}\n",
       "\n",
       ".xr-section-summary-in:disabled + label {\n",
       "  color: var(--xr-font-color2);\n",
       "}\n",
       "\n",
       ".xr-section-summary-in + label:before {\n",
       "  display: inline-block;\n",
       "  content: \"►\";\n",
       "  font-size: 11px;\n",
       "  width: 15px;\n",
       "  text-align: center;\n",
       "}\n",
       "\n",
       ".xr-section-summary-in:disabled + label:before {\n",
       "  color: var(--xr-disabled-color);\n",
       "}\n",
       "\n",
       ".xr-section-summary-in:checked + label:before {\n",
       "  content: \"▼\";\n",
       "}\n",
       "\n",
       ".xr-section-summary-in:checked + label > span {\n",
       "  display: none;\n",
       "}\n",
       "\n",
       ".xr-section-summary,\n",
       ".xr-section-inline-details {\n",
       "  padding-top: 4px;\n",
       "  padding-bottom: 4px;\n",
       "}\n",
       "\n",
       ".xr-section-inline-details {\n",
       "  grid-column: 2 / -1;\n",
       "}\n",
       "\n",
       ".xr-section-details {\n",
       "  display: none;\n",
       "  grid-column: 1 / -1;\n",
       "  margin-bottom: 5px;\n",
       "}\n",
       "\n",
       ".xr-section-summary-in:checked ~ .xr-section-details {\n",
       "  display: contents;\n",
       "}\n",
       "\n",
       ".xr-array-wrap {\n",
       "  grid-column: 1 / -1;\n",
       "  display: grid;\n",
       "  grid-template-columns: 20px auto;\n",
       "}\n",
       "\n",
       ".xr-array-wrap > label {\n",
       "  grid-column: 1;\n",
       "  vertical-align: top;\n",
       "}\n",
       "\n",
       ".xr-preview {\n",
       "  color: var(--xr-font-color3);\n",
       "}\n",
       "\n",
       ".xr-array-preview,\n",
       ".xr-array-data {\n",
       "  padding: 0 5px !important;\n",
       "  grid-column: 2;\n",
       "}\n",
       "\n",
       ".xr-array-data,\n",
       ".xr-array-in:checked ~ .xr-array-preview {\n",
       "  display: none;\n",
       "}\n",
       "\n",
       ".xr-array-in:checked ~ .xr-array-data,\n",
       ".xr-array-preview {\n",
       "  display: inline-block;\n",
       "}\n",
       "\n",
       ".xr-dim-list {\n",
       "  display: inline-block !important;\n",
       "  list-style: none;\n",
       "  padding: 0 !important;\n",
       "  margin: 0;\n",
       "}\n",
       "\n",
       ".xr-dim-list li {\n",
       "  display: inline-block;\n",
       "  padding: 0;\n",
       "  margin: 0;\n",
       "}\n",
       "\n",
       ".xr-dim-list:before {\n",
       "  content: \"(\";\n",
       "}\n",
       "\n",
       ".xr-dim-list:after {\n",
       "  content: \")\";\n",
       "}\n",
       "\n",
       ".xr-dim-list li:not(:last-child):after {\n",
       "  content: \",\";\n",
       "  padding-right: 5px;\n",
       "}\n",
       "\n",
       ".xr-has-index {\n",
       "  font-weight: bold;\n",
       "}\n",
       "\n",
       ".xr-var-list,\n",
       ".xr-var-item {\n",
       "  display: contents;\n",
       "}\n",
       "\n",
       ".xr-var-item > div,\n",
       ".xr-var-item label,\n",
       ".xr-var-item > .xr-var-name span {\n",
       "  background-color: var(--xr-background-color-row-even);\n",
       "  margin-bottom: 0;\n",
       "}\n",
       "\n",
       ".xr-var-item > .xr-var-name:hover span {\n",
       "  padding-right: 5px;\n",
       "}\n",
       "\n",
       ".xr-var-list > li:nth-child(odd) > div,\n",
       ".xr-var-list > li:nth-child(odd) > label,\n",
       ".xr-var-list > li:nth-child(odd) > .xr-var-name span {\n",
       "  background-color: var(--xr-background-color-row-odd);\n",
       "}\n",
       "\n",
       ".xr-var-name {\n",
       "  grid-column: 1;\n",
       "}\n",
       "\n",
       ".xr-var-dims {\n",
       "  grid-column: 2;\n",
       "}\n",
       "\n",
       ".xr-var-dtype {\n",
       "  grid-column: 3;\n",
       "  text-align: right;\n",
       "  color: var(--xr-font-color2);\n",
       "}\n",
       "\n",
       ".xr-var-preview {\n",
       "  grid-column: 4;\n",
       "}\n",
       "\n",
       ".xr-index-preview {\n",
       "  grid-column: 2 / 5;\n",
       "  color: var(--xr-font-color2);\n",
       "}\n",
       "\n",
       ".xr-var-name,\n",
       ".xr-var-dims,\n",
       ".xr-var-dtype,\n",
       ".xr-preview,\n",
       ".xr-attrs dt {\n",
       "  white-space: nowrap;\n",
       "  overflow: hidden;\n",
       "  text-overflow: ellipsis;\n",
       "  padding-right: 10px;\n",
       "}\n",
       "\n",
       ".xr-var-name:hover,\n",
       ".xr-var-dims:hover,\n",
       ".xr-var-dtype:hover,\n",
       ".xr-attrs dt:hover {\n",
       "  overflow: visible;\n",
       "  width: auto;\n",
       "  z-index: 1;\n",
       "}\n",
       "\n",
       ".xr-var-attrs,\n",
       ".xr-var-data,\n",
       ".xr-index-data {\n",
       "  display: none;\n",
       "  background-color: var(--xr-background-color) !important;\n",
       "  padding-bottom: 5px !important;\n",
       "}\n",
       "\n",
       ".xr-var-attrs-in:checked ~ .xr-var-attrs,\n",
       ".xr-var-data-in:checked ~ .xr-var-data,\n",
       ".xr-index-data-in:checked ~ .xr-index-data {\n",
       "  display: block;\n",
       "}\n",
       "\n",
       ".xr-var-data > table {\n",
       "  float: right;\n",
       "}\n",
       "\n",
       ".xr-var-name span,\n",
       ".xr-var-data,\n",
       ".xr-index-name div,\n",
       ".xr-index-data,\n",
       ".xr-attrs {\n",
       "  padding-left: 25px !important;\n",
       "}\n",
       "\n",
       ".xr-attrs,\n",
       ".xr-var-attrs,\n",
       ".xr-var-data,\n",
       ".xr-index-data {\n",
       "  grid-column: 1 / -1;\n",
       "}\n",
       "\n",
       "dl.xr-attrs {\n",
       "  padding: 0;\n",
       "  margin: 0;\n",
       "  display: grid;\n",
       "  grid-template-columns: 125px auto;\n",
       "}\n",
       "\n",
       ".xr-attrs dt,\n",
       ".xr-attrs dd {\n",
       "  padding: 0;\n",
       "  margin: 0;\n",
       "  float: left;\n",
       "  padding-right: 10px;\n",
       "  width: auto;\n",
       "}\n",
       "\n",
       ".xr-attrs dt {\n",
       "  font-weight: normal;\n",
       "  grid-column: 1;\n",
       "}\n",
       "\n",
       ".xr-attrs dt:hover span {\n",
       "  display: inline-block;\n",
       "  background: var(--xr-background-color);\n",
       "  padding-right: 10px;\n",
       "}\n",
       "\n",
       ".xr-attrs dd {\n",
       "  grid-column: 2;\n",
       "  white-space: pre-wrap;\n",
       "  word-break: break-all;\n",
       "}\n",
       "\n",
       ".xr-icon-database,\n",
       ".xr-icon-file-text2,\n",
       ".xr-no-icon {\n",
       "  display: inline-block;\n",
       "  vertical-align: middle;\n",
       "  width: 1em;\n",
       "  height: 1.5em !important;\n",
       "  stroke-width: 0;\n",
       "  stroke: currentColor;\n",
       "  fill: currentColor;\n",
       "}\n",
       "</style><pre class='xr-text-repr-fallback'>&lt;xarray.DataArray &#x27;band_data&#x27; (coords: 11434272)&gt; Size: 46MB\n",
       "array([2., 1., 3., ..., 6., 6., 0.], dtype=float32)\n",
       "Coordinates:\n",
       "    band         int64 8B 1\n",
       "    spatial_ref  int64 8B ...\n",
       "  * coords       (coords) object 91MB MultiIndex\n",
       "  * y            (coords) float64 91MB 4.4e+06 4.4e+06 ... 4.058e+06 4.058e+06\n",
       "  * x            (coords) float64 91MB 4.537e+05 4.537e+05 ... 4.188e+05\n",
       "Attributes:\n",
       "    DataType:                Generic\n",
       "    AREA_OR_POINT:           Area\n",
       "    RepresentationType:      THEMATIC\n",
       "    STATISTICS_COVARIANCES:  2.598902592411322\n",
       "    STATISTICS_MAXIMUM:      6\n",
       "    STATISTICS_MEAN:         2.881873459019\n",
       "    STATISTICS_MINIMUM:      0\n",
       "    STATISTICS_SKIPFACTORX:  1\n",
       "    STATISTICS_SKIPFACTORY:  1\n",
       "    STATISTICS_STDDEV:       1.6121112220971</pre><div class='xr-wrap' style='display:none'><div class='xr-header'><div class='xr-obj-type'>xarray.DataArray</div><div class='xr-array-name'>'band_data'</div><ul class='xr-dim-list'><li><span class='xr-has-index'>coords</span>: 11434272</li></ul></div><ul class='xr-sections'><li class='xr-section-item'><div class='xr-array-wrap'><input id='section-c4505a82-70b8-4f27-aa22-112c59176d7a' class='xr-array-in' type='checkbox' checked><label for='section-c4505a82-70b8-4f27-aa22-112c59176d7a' title='Show/hide data repr'><svg class='icon xr-icon-database'><use xlink:href='#icon-database'></use></svg></label><div class='xr-array-preview xr-preview'><span>2.0 1.0 3.0 0.0 5.0 2.0 2.0 2.0 ... 6.0 0.0 6.0 6.0 6.0 6.0 6.0 0.0</span></div><div class='xr-array-data'><pre>array([2., 1., 3., ..., 6., 6., 0.], dtype=float32)</pre></div></div></li><li class='xr-section-item'><input id='section-5d8fbc08-dd94-4c83-afd4-f3e2adc6bcbd' class='xr-section-summary-in' type='checkbox'  checked><label for='section-5d8fbc08-dd94-4c83-afd4-f3e2adc6bcbd' class='xr-section-summary' >Coordinates: <span>(5)</span></label><div class='xr-section-inline-details'></div><div class='xr-section-details'><ul class='xr-var-list'><li class='xr-var-item'><div class='xr-var-name'><span>band</span></div><div class='xr-var-dims'>()</div><div class='xr-var-dtype'>int64</div><div class='xr-var-preview xr-preview'>1</div><input id='attrs-3610c49d-9f74-48fa-b84a-20685ce88e21' class='xr-var-attrs-in' type='checkbox' disabled><label for='attrs-3610c49d-9f74-48fa-b84a-20685ce88e21' title='Show/Hide attributes'><svg class='icon xr-icon-file-text2'><use xlink:href='#icon-file-text2'></use></svg></label><input id='data-f363df93-3437-49b3-8336-cb6f5e41f5dc' class='xr-var-data-in' type='checkbox'><label for='data-f363df93-3437-49b3-8336-cb6f5e41f5dc' title='Show/Hide data repr'><svg class='icon xr-icon-database'><use xlink:href='#icon-database'></use></svg></label><div class='xr-var-attrs'><dl class='xr-attrs'></dl></div><div class='xr-var-data'><pre>array(1)</pre></div></li><li class='xr-var-item'><div class='xr-var-name'><span>spatial_ref</span></div><div class='xr-var-dims'>()</div><div class='xr-var-dtype'>int64</div><div class='xr-var-preview xr-preview'>...</div><input id='attrs-719c4362-25d4-4af3-94d1-6abb38ff0b2c' class='xr-var-attrs-in' type='checkbox' ><label for='attrs-719c4362-25d4-4af3-94d1-6abb38ff0b2c' title='Show/Hide attributes'><svg class='icon xr-icon-file-text2'><use xlink:href='#icon-file-text2'></use></svg></label><input id='data-1038bf3d-5b1c-42d0-896a-4099e1712dac' class='xr-var-data-in' type='checkbox'><label for='data-1038bf3d-5b1c-42d0-896a-4099e1712dac' title='Show/Hide data repr'><svg class='icon xr-icon-database'><use xlink:href='#icon-database'></use></svg></label><div class='xr-var-attrs'><dl class='xr-attrs'><dt><span>crs_wkt :</span></dt><dd>PROJCS[&quot;WGS 84 / UTM zone 18N&quot;,GEOGCS[&quot;WGS 84&quot;,DATUM[&quot;WGS_1984&quot;,SPHEROID[&quot;WGS 84&quot;,6378137,298.257223563,AUTHORITY[&quot;EPSG&quot;,&quot;7030&quot;]],AUTHORITY[&quot;EPSG&quot;,&quot;6326&quot;]],PRIMEM[&quot;Greenwich&quot;,0],UNIT[&quot;degree&quot;,0.0174532925199433,AUTHORITY[&quot;EPSG&quot;,&quot;9122&quot;]],AUTHORITY[&quot;EPSG&quot;,&quot;4326&quot;]],PROJECTION[&quot;Transverse_Mercator&quot;],PARAMETER[&quot;latitude_of_origin&quot;,0],PARAMETER[&quot;central_meridian&quot;,-75],PARAMETER[&quot;scale_factor&quot;,0.9996],PARAMETER[&quot;false_easting&quot;,500000],PARAMETER[&quot;false_northing&quot;,0],UNIT[&quot;metre&quot;,1,AUTHORITY[&quot;EPSG&quot;,&quot;9001&quot;]],AXIS[&quot;Easting&quot;,EAST],AXIS[&quot;Northing&quot;,NORTH],AUTHORITY[&quot;EPSG&quot;,&quot;32618&quot;]]</dd><dt><span>semi_major_axis :</span></dt><dd>6378137.0</dd><dt><span>semi_minor_axis :</span></dt><dd>6356752.314245179</dd><dt><span>inverse_flattening :</span></dt><dd>298.257223563</dd><dt><span>reference_ellipsoid_name :</span></dt><dd>WGS 84</dd><dt><span>longitude_of_prime_meridian :</span></dt><dd>0.0</dd><dt><span>prime_meridian_name :</span></dt><dd>Greenwich</dd><dt><span>geographic_crs_name :</span></dt><dd>WGS 84</dd><dt><span>horizontal_datum_name :</span></dt><dd>World Geodetic System 1984</dd><dt><span>projected_crs_name :</span></dt><dd>WGS 84 / UTM zone 18N</dd><dt><span>grid_mapping_name :</span></dt><dd>transverse_mercator</dd><dt><span>latitude_of_projection_origin :</span></dt><dd>0.0</dd><dt><span>longitude_of_central_meridian :</span></dt><dd>-75.0</dd><dt><span>false_easting :</span></dt><dd>500000.0</dd><dt><span>false_northing :</span></dt><dd>0.0</dd><dt><span>scale_factor_at_central_meridian :</span></dt><dd>0.9996</dd><dt><span>spatial_ref :</span></dt><dd>PROJCS[&quot;WGS 84 / UTM zone 18N&quot;,GEOGCS[&quot;WGS 84&quot;,DATUM[&quot;WGS_1984&quot;,SPHEROID[&quot;WGS 84&quot;,6378137,298.257223563,AUTHORITY[&quot;EPSG&quot;,&quot;7030&quot;]],AUTHORITY[&quot;EPSG&quot;,&quot;6326&quot;]],PRIMEM[&quot;Greenwich&quot;,0],UNIT[&quot;degree&quot;,0.0174532925199433,AUTHORITY[&quot;EPSG&quot;,&quot;9122&quot;]],AUTHORITY[&quot;EPSG&quot;,&quot;4326&quot;]],PROJECTION[&quot;Transverse_Mercator&quot;],PARAMETER[&quot;latitude_of_origin&quot;,0],PARAMETER[&quot;central_meridian&quot;,-75],PARAMETER[&quot;scale_factor&quot;,0.9996],PARAMETER[&quot;false_easting&quot;,500000],PARAMETER[&quot;false_northing&quot;,0],UNIT[&quot;metre&quot;,1,AUTHORITY[&quot;EPSG&quot;,&quot;9001&quot;]],AXIS[&quot;Easting&quot;,EAST],AXIS[&quot;Northing&quot;,NORTH],AUTHORITY[&quot;EPSG&quot;,&quot;32618&quot;]]</dd><dt><span>GeoTransform :</span></dt><dd>246794.999999999 30.000000000000007 0.0 4417544.999999996 0.0 -30.0</dd></dl></div><div class='xr-var-data'><pre>[1 values with dtype=int64]</pre></div></li><li class='xr-var-item'><div class='xr-var-name'><span class='xr-has-index'>coords</span></div><div class='xr-var-dims'>(coords)</div><div class='xr-var-dtype'>object</div><div class='xr-var-preview xr-preview'>MultiIndex</div><input id='attrs-9c226a59-ba4e-4014-a551-f9245d98ae7f' class='xr-var-attrs-in' type='checkbox' disabled><label for='attrs-9c226a59-ba4e-4014-a551-f9245d98ae7f' title='Show/Hide attributes'><svg class='icon xr-icon-file-text2'><use xlink:href='#icon-file-text2'></use></svg></label><input id='data-bc8ce863-f0ff-4029-add8-4de85b2883e1' class='xr-var-data-in' type='checkbox'><label for='data-bc8ce863-f0ff-4029-add8-4de85b2883e1' title='Show/Hide data repr'><svg class='icon xr-icon-database'><use xlink:href='#icon-database'></use></svg></label><div class='xr-var-attrs'><dl class='xr-attrs'></dl></div><div class='xr-var-data'><pre>array([(4399619.999999996, 453719.99999999907),\n",
       "       (4399619.999999996, 453749.99999999907),\n",
       "       (4399619.999999996, 453779.99999999907), ...,\n",
       "       (4058369.9999999963, 418769.99999999907),\n",
       "       (4058339.9999999963, 418769.99999999907),\n",
       "       (4058339.9999999963, 418799.99999999907)], dtype=object)</pre></div></li><li class='xr-var-item'><div class='xr-var-name'><span class='xr-has-index'>y</span></div><div class='xr-var-dims'>(coords)</div><div class='xr-var-dtype'>float64</div><div class='xr-var-preview xr-preview'>4.4e+06 4.4e+06 ... 4.058e+06</div><input id='attrs-1746305d-89cb-4d79-ba06-a81663550fab' class='xr-var-attrs-in' type='checkbox' disabled><label for='attrs-1746305d-89cb-4d79-ba06-a81663550fab' title='Show/Hide attributes'><svg class='icon xr-icon-file-text2'><use xlink:href='#icon-file-text2'></use></svg></label><input id='data-a1ac6a93-7965-41dd-bd72-3c495140cbc6' class='xr-var-data-in' type='checkbox'><label for='data-a1ac6a93-7965-41dd-bd72-3c495140cbc6' title='Show/Hide data repr'><svg class='icon xr-icon-database'><use xlink:href='#icon-database'></use></svg></label><div class='xr-var-attrs'><dl class='xr-attrs'></dl></div><div class='xr-var-data'><pre>array([4399620., 4399620., 4399620., ..., 4058370., 4058340., 4058340.])</pre></div></li><li class='xr-var-item'><div class='xr-var-name'><span class='xr-has-index'>x</span></div><div class='xr-var-dims'>(coords)</div><div class='xr-var-dtype'>float64</div><div class='xr-var-preview xr-preview'>4.537e+05 4.537e+05 ... 4.188e+05</div><input id='attrs-3a838ecc-04e0-433a-a1b3-f8cc4bb861de' class='xr-var-attrs-in' type='checkbox' disabled><label for='attrs-3a838ecc-04e0-433a-a1b3-f8cc4bb861de' title='Show/Hide attributes'><svg class='icon xr-icon-file-text2'><use xlink:href='#icon-file-text2'></use></svg></label><input id='data-7d51dda5-9b61-4313-a984-9df9be5c06d3' class='xr-var-data-in' type='checkbox'><label for='data-7d51dda5-9b61-4313-a984-9df9be5c06d3' title='Show/Hide data repr'><svg class='icon xr-icon-database'><use xlink:href='#icon-database'></use></svg></label><div class='xr-var-attrs'><dl class='xr-attrs'></dl></div><div class='xr-var-data'><pre>array([453720., 453750., 453780., ..., 418770., 418770., 418800.])</pre></div></li></ul></div></li><li class='xr-section-item'><input id='section-07748a60-804c-4949-a840-aae7bbf49639' class='xr-section-summary-in' type='checkbox'  ><label for='section-07748a60-804c-4949-a840-aae7bbf49639' class='xr-section-summary' >Indexes: <span>(1)</span></label><div class='xr-section-inline-details'></div><div class='xr-section-details'><ul class='xr-var-list'><li class='xr-var-item'><div class='xr-index-name'><div>coords<br>y<br>x</div></div><div class='xr-index-preview'>PandasMultiIndex</div><input type='checkbox' disabled/><label></label><input id='index-c473b646-11da-4411-acc3-f54e37ae449f' class='xr-index-data-in' type='checkbox'/><label for='index-c473b646-11da-4411-acc3-f54e37ae449f' title='Show/Hide index repr'><svg class='icon xr-icon-database'><use xlink:href='#icon-database'></use></svg></label><div class='xr-index-data'><pre>PandasIndex(MultiIndex([( 4399619.999999996, 453719.99999999907),\n",
       "            ( 4399619.999999996, 453749.99999999907),\n",
       "            ( 4399619.999999996, 453779.99999999907),\n",
       "            ( 4399619.999999996, 453809.99999999907),\n",
       "            ( 4399619.999999996, 453869.99999999907),\n",
       "            ( 4399619.999999996, 453899.99999999907),\n",
       "            ( 4399619.999999996, 453929.99999999907),\n",
       "            ( 4399619.999999996, 453959.99999999907),\n",
       "            ( 4399619.999999996, 453989.99999999907),\n",
       "            ( 4399619.999999996, 454019.99999999907),\n",
       "            ...\n",
       "            (4058399.9999999963, 418619.99999999907),\n",
       "            (4058399.9999999963, 418649.99999999907),\n",
       "            (4058399.9999999963, 418739.99999999907),\n",
       "            (4058399.9999999963, 418769.99999999907),\n",
       "            (4058369.9999999963, 418649.99999999907),\n",
       "            (4058369.9999999963, 418679.99999999907),\n",
       "            (4058369.9999999963, 418739.99999999907),\n",
       "            (4058369.9999999963, 418769.99999999907),\n",
       "            (4058339.9999999963, 418769.99999999907),\n",
       "            (4058339.9999999963, 418799.99999999907)],\n",
       "           name=&#x27;coords&#x27;, length=11434272))</pre></div></li></ul></div></li><li class='xr-section-item'><input id='section-c651beb0-b660-4a7f-8c4b-43b8645e4c66' class='xr-section-summary-in' type='checkbox'  ><label for='section-c651beb0-b660-4a7f-8c4b-43b8645e4c66' class='xr-section-summary' >Attributes: <span>(10)</span></label><div class='xr-section-inline-details'></div><div class='xr-section-details'><dl class='xr-attrs'><dt><span>DataType :</span></dt><dd>Generic</dd><dt><span>AREA_OR_POINT :</span></dt><dd>Area</dd><dt><span>RepresentationType :</span></dt><dd>THEMATIC</dd><dt><span>STATISTICS_COVARIANCES :</span></dt><dd>2.598902592411322</dd><dt><span>STATISTICS_MAXIMUM :</span></dt><dd>6</dd><dt><span>STATISTICS_MEAN :</span></dt><dd>2.881873459019</dd><dt><span>STATISTICS_MINIMUM :</span></dt><dd>0</dd><dt><span>STATISTICS_SKIPFACTORX :</span></dt><dd>1</dd><dt><span>STATISTICS_SKIPFACTORY :</span></dt><dd>1</dd><dt><span>STATISTICS_STDDEV :</span></dt><dd>1.6121112220971</dd></dl></div></li></ul></div></div>"
      ],
      "text/plain": [
       "<xarray.DataArray 'band_data' (coords: 11434272)> Size: 46MB\n",
       "array([2., 1., 3., ..., 6., 6., 0.], dtype=float32)\n",
       "Coordinates:\n",
       "    band         int64 8B 1\n",
       "    spatial_ref  int64 8B ...\n",
       "  * coords       (coords) object 91MB MultiIndex\n",
       "  * y            (coords) float64 91MB 4.4e+06 4.4e+06 ... 4.058e+06 4.058e+06\n",
       "  * x            (coords) float64 91MB 4.537e+05 4.537e+05 ... 4.188e+05\n",
       "Attributes:\n",
       "    DataType:                Generic\n",
       "    AREA_OR_POINT:           Area\n",
       "    RepresentationType:      THEMATIC\n",
       "    STATISTICS_COVARIANCES:  2.598902592411322\n",
       "    STATISTICS_MAXIMUM:      6\n",
       "    STATISTICS_MEAN:         2.881873459019\n",
       "    STATISTICS_MINIMUM:      0\n",
       "    STATISTICS_SKIPFACTORX:  1\n",
       "    STATISTICS_SKIPFACTORY:  1\n",
       "    STATISTICS_STDDEV:       1.6121112220971"
      ]
     },
     "execution_count": 92,
     "metadata": {},
     "output_type": "execute_result"
    }
   ],
   "source": [
    "subset = flattened.dropna(dim=\"coords\")\n",
    "#print(subset.values[-5:])\n",
    "subset[0]"
   ]
  },
  {
   "cell_type": "code",
   "execution_count": 12,
   "id": "8d981671-d662-4323-a436-b89d6dc17a25",
   "metadata": {},
   "outputs": [],
   "source": [
    "# Get the MultiIndex from the 'coords' dimension\n",
    "multiindex = subset.coords['coords'].values  # each element is (y, x)\n",
    "\n",
    "# Unpack to get x and y values separately\n",
    "y_values, x_values = zip(*multiindex)\n",
    "\n",
    "# Convert to NumPy arrays (optional)\n",
    "x_values = np.array(x_values)\n",
    "y_values = np.array(y_values)\n",
    "\n",
    "\n",
    "s = GeoSeries(map(Point, zip(x_values, y_values)))"
   ]
  },
  {
   "cell_type": "code",
   "execution_count": 28,
   "id": "1ba02356-8586-423b-bf66-86d1fac4b9c0",
   "metadata": {},
   "outputs": [
    {
     "name": "stdout",
     "output_type": "stream",
     "text": [
      "11434272\n"
     ]
    }
   ],
   "source": [
    "print(len(s))"
   ]
  },
  {
   "cell_type": "code",
   "execution_count": 33,
   "id": "dc75924b-636d-4178-8ce7-9f10869c7990",
   "metadata": {},
   "outputs": [
    {
     "name": "stdout",
     "output_type": "stream",
     "text": [
      "11434267    POINT (418680 4058370)\n",
      "11434268    POINT (418740 4058370)\n",
      "11434269    POINT (418770 4058370)\n",
      "11434270    POINT (418770 4058340)\n",
      "11434271    POINT (418800 4058340)\n",
      "dtype: geometry\n"
     ]
    }
   ],
   "source": [
    "#Define a 5 point array of \"s\" to troubleshoot\n",
    "s_short = s[-5:]\n",
    "#print(s_short)"
   ]
  },
  {
   "cell_type": "markdown",
   "id": "1d44ea93-2053-47e6-89ac-c3174b42165d",
   "metadata": {
    "tags": [],
    "user_expressions": []
   },
   "source": [
    "Create a list for the coordinates in the subset. Tranform the coordinate with the previously defined tranformation (t)"
   ]
  },
  {
   "cell_type": "code",
   "execution_count": 23,
   "id": "1cbbcf92-00b8-43c4-9e35-2b050079f2d0",
   "metadata": {},
   "outputs": [
    {
     "name": "stdout",
     "output_type": "stream",
     "text": [
      "11434272\n"
     ]
    },
    {
     "name": "stderr",
     "output_type": "stream",
     "text": [
      "IOPub data rate exceeded.\n",
      "The Jupyter server will temporarily stop sending output\n",
      "to the client in order to avoid crashing it.\n",
      "To change this limit, set the config variable\n",
      "`--ServerApp.iopub_data_rate_limit`.\n",
      "\n",
      "Current values:\n",
      "ServerApp.iopub_data_rate_limit=1000000.0 (bytes/sec)\n",
      "ServerApp.rate_limit_window=3.0 (secs)\n",
      "\n"
     ]
    }
   ],
   "source": [
    "coords_utm = []\n",
    "for point in s:\n",
    "    transformed_point = transform(t, point)\n",
    "    coords_utm.append(transformed_point)\n",
    "#print(len(coords_utm))\n",
    "#print(coords_utm)"
   ]
  },
  {
   "cell_type": "code",
   "execution_count": 36,
   "id": "2cf3fff7-7bab-4a97-ad6d-f35e3bb0e418",
   "metadata": {},
   "outputs": [
    {
     "name": "stdout",
     "output_type": "stream",
     "text": [
      "11434272\n",
      "[<POINT (-75.54 39.745)>, <POINT (-75.54 39.745)>, <POINT (-75.539 39.745)>, <POINT (-75.539 39.745)>, <POINT (-75.538 39.745)>]\n"
     ]
    }
   ],
   "source": [
    "print(len(coords_utm))\n",
    "print(coords_utm[:5])"
   ]
  },
  {
   "cell_type": "code",
   "execution_count": 50,
   "id": "940c821f-c277-4afd-aaa4-2404ecfbb47f",
   "metadata": {},
   "outputs": [],
   "source": [
    "gdf = gpd.GeoDataFrame(geometry=coords_utm)"
   ]
  },
  {
   "cell_type": "code",
   "execution_count": 51,
   "id": "88cc7135-e41f-409c-b026-5b9fb0b443d5",
   "metadata": {},
   "outputs": [
    {
     "data": {
      "text/html": [
       "<div>\n",
       "<style scoped>\n",
       "    .dataframe tbody tr th:only-of-type {\n",
       "        vertical-align: middle;\n",
       "    }\n",
       "\n",
       "    .dataframe tbody tr th {\n",
       "        vertical-align: top;\n",
       "    }\n",
       "\n",
       "    .dataframe thead th {\n",
       "        text-align: right;\n",
       "    }\n",
       "</style>\n",
       "<table border=\"1\" class=\"dataframe\">\n",
       "  <thead>\n",
       "    <tr style=\"text-align: right;\">\n",
       "      <th></th>\n",
       "      <th>geometry</th>\n",
       "    </tr>\n",
       "  </thead>\n",
       "  <tbody>\n",
       "    <tr>\n",
       "      <th>0</th>\n",
       "      <td>POINT (-75.54017 39.74523)</td>\n",
       "    </tr>\n",
       "    <tr>\n",
       "      <th>1</th>\n",
       "      <td>POINT (-75.53982 39.74523)</td>\n",
       "    </tr>\n",
       "    <tr>\n",
       "      <th>2</th>\n",
       "      <td>POINT (-75.53947 39.74523)</td>\n",
       "    </tr>\n",
       "    <tr>\n",
       "      <th>3</th>\n",
       "      <td>POINT (-75.53912 39.74523)</td>\n",
       "    </tr>\n",
       "    <tr>\n",
       "      <th>4</th>\n",
       "      <td>POINT (-75.53842 39.74523)</td>\n",
       "    </tr>\n",
       "  </tbody>\n",
       "</table>\n",
       "</div>"
      ],
      "text/plain": [
       "                     geometry\n",
       "0  POINT (-75.54017 39.74523)\n",
       "1  POINT (-75.53982 39.74523)\n",
       "2  POINT (-75.53947 39.74523)\n",
       "3  POINT (-75.53912 39.74523)\n",
       "4  POINT (-75.53842 39.74523)"
      ]
     },
     "execution_count": 51,
     "metadata": {},
     "output_type": "execute_result"
    }
   ],
   "source": [
    "gdf[:5]"
   ]
  },
  {
   "cell_type": "code",
   "execution_count": 52,
   "id": "95f4ccd8-3b58-43e4-9af0-e099eb239da1",
   "metadata": {},
   "outputs": [
    {
     "data": {
      "text/plain": [
       "0          -75.540173\n",
       "1          -75.539822\n",
       "2          -75.539472\n",
       "3          -75.539122\n",
       "4          -75.538422\n",
       "              ...    \n",
       "11434267   -75.909995\n",
       "11434268   -75.909324\n",
       "11434269   -75.908988\n",
       "11434270   -75.908985\n",
       "11434271   -75.908649\n",
       "Length: 11434272, dtype: float64"
      ]
     },
     "execution_count": 52,
     "metadata": {},
     "output_type": "execute_result"
    }
   ],
   "source": [
    "gdf.geometry.x"
   ]
  },
  {
   "cell_type": "code",
   "execution_count": 26,
   "id": "994a3d7e-1fd5-42db-9d4a-92c76425779b",
   "metadata": {},
   "outputs": [],
   "source": [
    "all_subset_values = subset.values.flatten()\n",
    "short_subset_values = subset_values[-5:]\n",
    "#print(short_subset_values)"
   ]
  },
  {
   "cell_type": "code",
   "execution_count": 1,
   "id": "316965aa-7158-4945-baf2-b2c37519caf2",
   "metadata": {},
   "outputs": [
    {
     "ename": "NameError",
     "evalue": "name 'subset' is not defined",
     "output_type": "error",
     "traceback": [
      "\u001b[0;31m---------------------------------------------------------------------------\u001b[0m",
      "\u001b[0;31mNameError\u001b[0m                                 Traceback (most recent call last)",
      "Cell \u001b[0;32mIn[1], line 1\u001b[0m\n\u001b[0;32m----> 1\u001b[0m \u001b[43msubset\u001b[49m[\u001b[38;5;241m0\u001b[39m]\n",
      "\u001b[0;31mNameError\u001b[0m: name 'subset' is not defined"
     ]
    }
   ],
   "source": [
    "subset[0]"
   ]
  },
  {
   "cell_type": "code",
   "execution_count": 125,
   "id": "4978fed6-6c56-4495-9956-b8d11203ae44",
   "metadata": {},
   "outputs": [],
   "source": [
    "lon = gdf.geometry.x\n",
    "lat = gdf.geometry.y\n",
    "\n",
    "coords_utm_da = xr.DataArray(\n",
    "    data=subset[0],  # if subset is [[...]]\n",
    "    dims=['points'],\n",
    "    coords={\n",
    "        'longitude': ('points', lon),\n",
    "        'latitude': ('points', lat)\n",
    "    }\n",
    ")"
   ]
  },
  {
   "cell_type": "markdown",
   "id": "6ce3e9d9-1b8f-494a-9d47-762070950af2",
   "metadata": {},
   "source": [
    "### Select subset of the coordinates in Blackwater River Refuge."
   ]
  },
  {
   "cell_type": "code",
   "execution_count": 128,
   "id": "d64dbd96-263d-4707-9ec9-d41bc2a9542d",
   "metadata": {},
   "outputs": [],
   "source": [
    "coords_utm_subset = coords_utm_da.where(\n",
    "    (coords_utm_da.longitude >= -76.35156992998947) &\n",
    "    (coords_utm_da.longitude <= -75.68415049639572) &\n",
    "    (coords_utm_da.latitude >= 38.19934796579719) &\n",
    "    (coords_utm_da.latitude <= 38.67479854331683),\n",
    "    drop=True\n",
    ")"
   ]
  },
  {
   "cell_type": "code",
   "execution_count": 130,
   "id": "55e23f45-7afe-497b-9cb5-3e27fe46f5f7",
   "metadata": {},
   "outputs": [
    {
     "data": {
      "text/plain": [
       "array([2., 5., 5., ..., 2., 1., 3.], dtype=float32)"
      ]
     },
     "execution_count": 130,
     "metadata": {},
     "output_type": "execute_result"
    }
   ],
   "source": [
    "coords_utm_subset.values"
   ]
  },
  {
   "cell_type": "code",
   "execution_count": 131,
   "id": "0937a752-02a2-46b9-a9d0-9647669141e2",
   "metadata": {},
   "outputs": [],
   "source": [
    "subset_values = coords_utm_subset.values"
   ]
  },
  {
   "cell_type": "markdown",
   "id": "bd0aa46f-0382-4d7a-bc3a-82c083571851",
   "metadata": {
    "tags": [],
    "user_expressions": []
   },
   "source": [
    "## 4. Organize Data Based on Classification"
   ]
  },
  {
   "cell_type": "markdown",
   "id": "29529cef-88f6-4204-9985-4f095b259ff4",
   "metadata": {
    "tags": [],
    "user_expressions": []
   },
   "source": [
    "Values attatched to classification are as follows: water (0), farmland (1), urban area(2), upland forest (3), transition forest (4), marsh (5) and sandbar (6)"
   ]
  },
  {
   "cell_type": "code",
   "execution_count": 132,
   "id": "0730ffb6-173d-4cdd-b2c5-cf4883df1c98",
   "metadata": {},
   "outputs": [
    {
     "data": {
      "text/plain": [
       "['farmland', 'farmland', 'urban area', 'farmland', 'upland forest']"
      ]
     },
     "execution_count": 132,
     "metadata": {},
     "output_type": "execute_result"
    }
   ],
   "source": [
    "type_list = []\n",
    "\n",
    "for i in range(len(subset_values)):\n",
    "    if subset_values[i] == 0:\n",
    "        type_list.append('water')\n",
    "    elif subset_values[i] == 1:\n",
    "        type_list.append('farmland')\n",
    "    elif subset_values[i] == 2:\n",
    "        type_list.append('urban area')\n",
    "    elif subset_values[i] == 3:\n",
    "        type_list.append('upland forest')\n",
    "    elif subset_values[i] == 4:\n",
    "        type_list.append('transition forest')\n",
    "    elif subset_values[i] == 5:\n",
    "        type_list.append('marsh')\n",
    "    elif subset_values[i] == 6:\n",
    "        type_list.append('sandbar')\n",
    "\n",
    "#We should expect the same type list to contain all the same landcover types\n",
    "type_list[-5:]"
   ]
  },
  {
   "cell_type": "code",
   "execution_count": 140,
   "id": "44f2d020-92b2-4e4d-93f3-978c18023c86",
   "metadata": {},
   "outputs": [
    {
     "data": {
      "text/plain": [
       "1607424"
      ]
     },
     "execution_count": 140,
     "metadata": {},
     "output_type": "execute_result"
    }
   ],
   "source": [
    "len(coords_utm_subset.values)"
   ]
  },
  {
   "cell_type": "code",
   "execution_count": 144,
   "id": "30f822c8-855b-408f-8d71-f6c744209ee7",
   "metadata": {},
   "outputs": [
    {
     "data": {
      "text/plain": [
       "1607424"
      ]
     },
     "execution_count": 144,
     "metadata": {},
     "output_type": "execute_result"
    }
   ],
   "source": [
    "len(coords_utm_subset)"
   ]
  },
  {
   "cell_type": "code",
   "execution_count": 151,
   "id": "b150c1a4-76ce-489a-8bdd-aa43f84343da",
   "metadata": {},
   "outputs": [],
   "source": [
    "lat = (coords_utm_subset.points.latitude)\n",
    "lon =  (coords_utm_subset.points.longitude)"
   ]
  },
  {
   "cell_type": "code",
   "execution_count": 1,
   "id": "6e6fac3a-93cd-4d25-bce4-14b15d5959a9",
   "metadata": {},
   "outputs": [
    {
     "ename": "NameError",
     "evalue": "name 'lon' is not defined",
     "output_type": "error",
     "traceback": [
      "\u001b[0;31m---------------------------------------------------------------------------\u001b[0m",
      "\u001b[0;31mNameError\u001b[0m                                 Traceback (most recent call last)",
      "Cell \u001b[0;32mIn[1], line 1\u001b[0m\n\u001b[0;32m----> 1\u001b[0m points \u001b[38;5;241m=\u001b[39m [Point(x, y) \u001b[38;5;28;01mfor\u001b[39;00m x, y \u001b[38;5;129;01min\u001b[39;00m \u001b[38;5;28mzip\u001b[39m(\u001b[43mlon\u001b[49m, lat)]\n\u001b[1;32m      2\u001b[0m \u001b[38;5;66;03m#points[:5]\u001b[39;00m\n",
      "\u001b[0;31mNameError\u001b[0m: name 'lon' is not defined"
     ]
    }
   ],
   "source": [
    "points = [Point(x, y) for x, y in zip(lon, lat)]\n",
    "#points[:5]"
   ]
  },
  {
   "cell_type": "markdown",
   "id": "9f705e84-83c7-46df-b2c3-f46e3851b7f5",
   "metadata": {
    "tags": [],
    "user_expressions": []
   },
   "source": [
    "Create dataframe that has coordinates, type value, and type."
   ]
  },
  {
   "cell_type": "code",
   "execution_count": 156,
   "id": "e0f8d71f-4b53-47ca-801e-8308b0cae514",
   "metadata": {},
   "outputs": [],
   "source": [
    "xyz_utm = pd.DataFrame({\n",
    "    'point': points,  # list of (x, y) tuples\n",
    "    'type_value': coords_utm_subset.values,\n",
    "    'type': type_list\n",
    "})"
   ]
  },
  {
   "cell_type": "code",
   "execution_count": 157,
   "id": "04e11d14-8b16-4822-b965-f4a16c8e00f4",
   "metadata": {},
   "outputs": [
    {
     "name": "stdout",
     "output_type": "stream",
     "text": [
      "1607424\n",
      "                                                point  type_value  \\\n",
      "1607419  POINT (-75.68581957282105 38.19947664347827)         1.0   \n",
      "1607420   POINT (-75.6854769712009 38.19947864430668)         1.0   \n",
      "1607421  POINT (-75.6851343695468 38.199480644135456)         2.0   \n",
      "1607422  POINT (-75.68479176785877 38.19948264296461)         1.0   \n",
      "1607423  POINT (-75.68444916613683 38.19948464079413)         3.0   \n",
      "\n",
      "                  type  \n",
      "1607419       farmland  \n",
      "1607420       farmland  \n",
      "1607421     urban area  \n",
      "1607422       farmland  \n",
      "1607423  upland forest  \n"
     ]
    }
   ],
   "source": [
    "print(len(xyz_utm))\n",
    "print(xyz_utm[-5:])"
   ]
  },
  {
   "cell_type": "markdown",
   "id": "2ded4535-9d29-46e1-89ed-79f2c8c8a95c",
   "metadata": {
    "tags": [],
    "user_expressions": []
   },
   "source": [
    "Generate separate coordinate dataframes for each landcover type."
   ]
  },
  {
   "cell_type": "code",
   "execution_count": 158,
   "id": "6d6ca9d5-1a03-47d6-9805-8811c2784254",
   "metadata": {},
   "outputs": [],
   "source": [
    "water_list = xyz_utm[xyz_utm['type'] == 'water']\n",
    "farmland_list = xyz_utm[xyz_utm['type'] == 'farmland']\n",
    "urban_list = xyz_utm[xyz_utm['type'] == 'urban area']\n",
    "upland_forest_list = xyz_utm[xyz_utm['type'] == 'upland forest']\n",
    "transition_forest_list = xyz_utm[xyz_utm['type'] == 'transition forest']\n",
    "marsh_list = xyz_utm[xyz_utm['type'] == 'marsh']\n",
    "sandbar_list = xyz_utm[xyz_utm['type'] == 'sandbar']"
   ]
  },
  {
   "cell_type": "markdown",
   "id": "14ca77e1-15ea-424f-aa28-87237682ff9b",
   "metadata": {
    "tags": [],
    "user_expressions": []
   },
   "source": [
    "## 5. Downloading Files as csv"
   ]
  },
  {
   "cell_type": "markdown",
   "id": "3962ccd7-c292-4661-9e43-5ea03ee24550",
   "metadata": {
    "tags": [],
    "user_expressions": []
   },
   "source": [
    "Code for downloading upland forest dataframe as csv:"
   ]
  },
  {
   "cell_type": "code",
   "execution_count": 162,
   "id": "b73a9c38-86ee-41c3-a46e-ce4921d2ea47",
   "metadata": {},
   "outputs": [],
   "source": [
    "upland_forest_list.to_csv('upland_forest_list_subset.csv', index=False)"
   ]
  },
  {
   "cell_type": "code",
   "execution_count": 159,
   "id": "1046f104-c50c-4bc3-bca5-fdaadd2dc44b",
   "metadata": {},
   "outputs": [
    {
     "data": {
      "text/plain": [
       "583995"
      ]
     },
     "execution_count": 159,
     "metadata": {},
     "output_type": "execute_result"
    }
   ],
   "source": [
    "len(upland_forest_list)"
   ]
  },
  {
   "cell_type": "markdown",
   "id": "812a6735-f89a-4bfc-b6e2-3695375662ce",
   "metadata": {
    "tags": [],
    "user_expressions": []
   },
   "source": [
    "Code for downloading upland forest datadrame as multiple files:"
   ]
  },
  {
   "cell_type": "code",
   "execution_count": 46,
   "id": "5a0ee2c2-2d61-4ce7-9b37-2ef862c4ab9e",
   "metadata": {},
   "outputs": [
    {
     "name": "stderr",
     "output_type": "stream",
     "text": [
      "/srv/conda/envs/notebook/lib/python3.11/site-packages/numpy/core/fromnumeric.py:59: FutureWarning: 'DataFrame.swapaxes' is deprecated and will be removed in a future version. Please use 'DataFrame.transpose' instead.\n",
      "  return bound(*args, **kwds)\n"
     ]
    }
   ],
   "source": [
    "# Parameters\n",
    "chunk_size = 5000\n",
    "output_dir = \"/home/jovyan/sara_typrin/landcover/data/upland_forest_list_5000\"\n",
    "\n",
    "# Create output folder if it doesn't exist\n",
    "os.makedirs(output_dir, exist_ok=True)\n",
    "\n",
    "# Split the list into chunks\n",
    "num_chunks = len(upland_forest_list) // chunk_size + 1\n",
    "chunks = np.array_split(upland_forest_list, num_chunks)\n",
    "\n",
    "# Save each chunk as a CSV\n",
    "for i, chunk in enumerate(chunks):\n",
    "    df = pd.DataFrame(chunk)  # Convert list chunk to DataFrame\n",
    "    output_path = os.path.join(output_dir, f\"output_chunk_{i}.csv\")\n",
    "    df.to_csv(output_path, index=False)"
   ]
  },
  {
   "cell_type": "markdown",
   "id": "f2edd02f-ed7c-4286-9dda-703c8f0aa6b9",
   "metadata": {
    "tags": [],
    "user_expressions": []
   },
   "source": [
    "Path for saving files:"
   ]
  },
  {
   "cell_type": "code",
   "execution_count": 49,
   "id": "b3ac0c8c-77f2-4284-a71f-562b5f497e7f",
   "metadata": {},
   "outputs": [
    {
     "name": "stdout",
     "output_type": "stream",
     "text": [
      "Number of files in '/home/jovyan/sara_typrin/landcover/data/upland_forest_list_5000': 811\n"
     ]
    }
   ],
   "source": [
    "directory_path =  \"/home/jovyan/sara_typrin/landcover/data/upland_forest_list_5000\"\n",
    "file_count = 0\n",
    "# Iterate through the contents of the directory\n",
    "for item in os.listdir(directory_path):\n",
    "    # Construct the full path to the item\n",
    "    item_path = os.path.join(directory_path, item)\n",
    "    # Check if the item is a file (and not a directory)\n",
    "    if os.path.isfile(item_path):\n",
    "        file_count += 1\n",
    "print(f\"Number of files in '{directory_path}': {file_count}\")"
   ]
  }
 ],
 "metadata": {
  "kernelspec": {
   "display_name": "Python 3 (ipykernel)",
   "language": "python",
   "name": "python3"
  },
  "language_info": {
   "codemirror_mode": {
    "name": "ipython",
    "version": 3
   },
   "file_extension": ".py",
   "mimetype": "text/x-python",
   "name": "python",
   "nbconvert_exporter": "python",
   "pygments_lexer": "ipython3",
   "version": "3.11.11"
  }
 },
 "nbformat": 4,
 "nbformat_minor": 5
}
