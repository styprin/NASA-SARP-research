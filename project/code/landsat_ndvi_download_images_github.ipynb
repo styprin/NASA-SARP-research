{
 "cells": [
  {
   "cell_type": "markdown",
   "id": "c37fd76c-a2de-4d84-bee2-645afd89d4cf",
   "metadata": {},
   "source": [
    "# Readme\n",
    "1. Define point features for plotting: upland forest coordinates, and polyogon\n",
    "2. Filtering functions for Landsat images\n",
    "3. Filtered dataset function\n",
    "4. Download NDVI image to google drive\n",
    "5. Map features\n",
    "\n",
    "The final pr"
   ]
  },
  {
   "cell_type": "markdown",
   "id": "e8ebf491-4b11-4e00-a959-1871350defe5",
   "metadata": {},
   "source": [
    "# Import Libraries and Initiate Project"
   ]
  },
  {
   "cell_type": "code",
   "execution_count": 40,
   "id": "98a7d7d6-7c21-4a3c-b55b-640d095e6a2f",
   "metadata": {},
   "outputs": [
    {
     "data": {
      "text/html": [
       "\n",
       "            <style>\n",
       "                .geemap-dark {\n",
       "                    --jp-widgets-color: white;\n",
       "                    --jp-widgets-label-color: white;\n",
       "                    --jp-ui-font-color1: white;\n",
       "                    --jp-layout-color2: #454545;\n",
       "                    background-color: #383838;\n",
       "                }\n",
       "\n",
       "                .geemap-dark .jupyter-button {\n",
       "                    --jp-layout-color3: #383838;\n",
       "                }\n",
       "\n",
       "                .geemap-colab {\n",
       "                    background-color: var(--colab-primary-surface-color, white);\n",
       "                }\n",
       "\n",
       "                .geemap-colab .jupyter-button {\n",
       "                    --jp-layout-color3: var(--colab-primary-surface-color, white);\n",
       "                }\n",
       "            </style>\n",
       "            "
      ],
      "text/plain": [
       "<IPython.core.display.HTML object>"
      ]
     },
     "metadata": {},
     "output_type": "display_data"
    }
   ],
   "source": [
    "import ee\n",
    "import geemap\n",
    "import csv\n",
    "import geopandas as gpd\n",
    "from shapely import wkt\n",
    "import pandas as pd\n",
    "from tqdm import tqdm  # Optional: for progress bar \n",
    "from geopandas import GeoSeries\n",
    "from shapely.geometry import Point\n",
    "\n",
    "\n",
    "ee.Authenticate()\n",
    "ee.Initialize(project='ee-typrins')"
   ]
  },
  {
   "cell_type": "markdown",
   "id": "0a023327-173f-4c02-abeb-4e0253a0c349",
   "metadata": {},
   "source": [
    "Loading Data"
   ]
  },
  {
   "cell_type": "markdown",
   "id": "b7d3a51c-dd99-4d47-8e1c-0d9c701d2892",
   "metadata": {},
   "source": [
    "## 1. Define features "
   ]
  },
  {
   "cell_type": "code",
   "execution_count": 41,
   "id": "5f3fa00a-2f9f-4b1a-933c-6d7f7cf8b8a7",
   "metadata": {},
   "outputs": [
    {
     "data": {
      "text/html": [
       "\n",
       "            <style>\n",
       "                .geemap-dark {\n",
       "                    --jp-widgets-color: white;\n",
       "                    --jp-widgets-label-color: white;\n",
       "                    --jp-ui-font-color1: white;\n",
       "                    --jp-layout-color2: #454545;\n",
       "                    background-color: #383838;\n",
       "                }\n",
       "\n",
       "                .geemap-dark .jupyter-button {\n",
       "                    --jp-layout-color3: #383838;\n",
       "                }\n",
       "\n",
       "                .geemap-colab {\n",
       "                    background-color: var(--colab-primary-surface-color, white);\n",
       "                }\n",
       "\n",
       "                .geemap-colab .jupyter-button {\n",
       "                    --jp-layout-color3: var(--colab-primary-surface-color, white);\n",
       "                }\n",
       "            </style>\n",
       "            "
      ],
      "text/plain": [
       "<IPython.core.display.HTML object>"
      ]
     },
     "metadata": {},
     "output_type": "display_data"
    }
   ],
   "source": [
    "abrupt_file = '/home/jovyan/sara_typrin/ndvi_landsat/data/forest_pathway/abrupt.csv'\n",
    "gradual_file = '/home/jovyan/sara_typrin/ndvi_landsat/data/forest_pathway/gradual.csv'\n",
    "recovery_file = '/home/jovyan/sara_typrin/ndvi_landsat/data/forest_pathway/recovery.csv'\n",
    "stable_file = '/home/jovyan/sara_typrin/ndvi_landsat/data/forest_pathway/stable.csv'\n",
    "\n",
    "\n",
    "# Read each CSV into a list of DataFrames\n",
    "abrupt = pd.read_csv(abrupt_file) \n",
    "gradual = pd.read_csv(gradual_file) \n",
    "recovery = pd.read_csv(recovery_file)\n",
    "stable = pd.read_csv(stable_file)\n",
    "\n",
    "forest_pathway_list = [abrupt, gradual, recovery, stable]\n",
    "\n",
    "coords_df = '/home/jovyan/sara_typrin/landcover/data/coords_df.csv'\n",
    "coords_df = pd.read_csv(coords_df)  # coords_df is a file path (e.g., 'data/coords.csv')"
   ]
  },
  {
   "cell_type": "code",
   "execution_count": 42,
   "id": "3053659b-00ca-405b-9c7a-2c80c534e031",
   "metadata": {},
   "outputs": [
    {
     "data": {
      "text/html": [
       "\n",
       "            <style>\n",
       "                .geemap-dark {\n",
       "                    --jp-widgets-color: white;\n",
       "                    --jp-widgets-label-color: white;\n",
       "                    --jp-ui-font-color1: white;\n",
       "                    --jp-layout-color2: #454545;\n",
       "                    background-color: #383838;\n",
       "                }\n",
       "\n",
       "                .geemap-dark .jupyter-button {\n",
       "                    --jp-layout-color3: #383838;\n",
       "                }\n",
       "\n",
       "                .geemap-colab {\n",
       "                    background-color: var(--colab-primary-surface-color, white);\n",
       "                }\n",
       "\n",
       "                .geemap-colab .jupyter-button {\n",
       "                    --jp-layout-color3: var(--colab-primary-surface-color, white);\n",
       "                }\n",
       "            </style>\n",
       "            "
      ],
      "text/plain": [
       "<IPython.core.display.HTML object>"
      ]
     },
     "metadata": {},
     "output_type": "display_data"
    },
    {
     "data": {
      "text/html": [
       "<div>\n",
       "<style scoped>\n",
       "    .dataframe tbody tr th:only-of-type {\n",
       "        vertical-align: middle;\n",
       "    }\n",
       "\n",
       "    .dataframe tbody tr th {\n",
       "        vertical-align: top;\n",
       "    }\n",
       "\n",
       "    .dataframe thead th {\n",
       "        text-align: right;\n",
       "    }\n",
       "</style>\n",
       "<table border=\"1\" class=\"dataframe\">\n",
       "  <thead>\n",
       "    <tr style=\"text-align: right;\">\n",
       "      <th></th>\n",
       "      <th>lat</th>\n",
       "      <th>lon</th>\n",
       "      <th>geometry</th>\n",
       "    </tr>\n",
       "  </thead>\n",
       "  <tbody>\n",
       "    <tr>\n",
       "      <th>0</th>\n",
       "      <td>38.673966</td>\n",
       "      <td>-76.340737</td>\n",
       "      <td>POINT (-76.34074 38.67397)</td>\n",
       "    </tr>\n",
       "    <tr>\n",
       "      <th>1</th>\n",
       "      <td>38.673699</td>\n",
       "      <td>-76.340387</td>\n",
       "      <td>POINT (-76.34039 38.6737)</td>\n",
       "    </tr>\n",
       "    <tr>\n",
       "      <th>2</th>\n",
       "      <td>38.673163</td>\n",
       "      <td>-76.340032</td>\n",
       "      <td>POINT (-76.34003 38.67316)</td>\n",
       "    </tr>\n",
       "    <tr>\n",
       "      <th>3</th>\n",
       "      <td>38.674662</td>\n",
       "      <td>-76.202116</td>\n",
       "      <td>POINT (-76.20212 38.67466)</td>\n",
       "    </tr>\n",
       "    <tr>\n",
       "      <th>4</th>\n",
       "      <td>38.674665</td>\n",
       "      <td>-76.201771</td>\n",
       "      <td>POINT (-76.20177 38.67467)</td>\n",
       "    </tr>\n",
       "    <tr>\n",
       "      <th>...</th>\n",
       "      <td>...</td>\n",
       "      <td>...</td>\n",
       "      <td>...</td>\n",
       "    </tr>\n",
       "    <tr>\n",
       "      <th>583990</th>\n",
       "      <td>38.199449</td>\n",
       "      <td>-75.690616</td>\n",
       "      <td>POINT (-75.69062 38.19945)</td>\n",
       "    </tr>\n",
       "    <tr>\n",
       "      <th>583991</th>\n",
       "      <td>38.199455</td>\n",
       "      <td>-75.689588</td>\n",
       "      <td>POINT (-75.68959 38.19945)</td>\n",
       "    </tr>\n",
       "    <tr>\n",
       "      <th>583992</th>\n",
       "      <td>38.199461</td>\n",
       "      <td>-75.688560</td>\n",
       "      <td>POINT (-75.68856 38.19946)</td>\n",
       "    </tr>\n",
       "    <tr>\n",
       "      <th>583993</th>\n",
       "      <td>38.199463</td>\n",
       "      <td>-75.688218</td>\n",
       "      <td>POINT (-75.68822 38.19946)</td>\n",
       "    </tr>\n",
       "    <tr>\n",
       "      <th>583994</th>\n",
       "      <td>38.199485</td>\n",
       "      <td>-75.684449</td>\n",
       "      <td>POINT (-75.68445 38.19948)</td>\n",
       "    </tr>\n",
       "  </tbody>\n",
       "</table>\n",
       "<p>583995 rows × 3 columns</p>\n",
       "</div>"
      ],
      "text/plain": [
       "              lat        lon                    geometry\n",
       "0       38.673966 -76.340737  POINT (-76.34074 38.67397)\n",
       "1       38.673699 -76.340387   POINT (-76.34039 38.6737)\n",
       "2       38.673163 -76.340032  POINT (-76.34003 38.67316)\n",
       "3       38.674662 -76.202116  POINT (-76.20212 38.67466)\n",
       "4       38.674665 -76.201771  POINT (-76.20177 38.67467)\n",
       "...           ...        ...                         ...\n",
       "583990  38.199449 -75.690616  POINT (-75.69062 38.19945)\n",
       "583991  38.199455 -75.689588  POINT (-75.68959 38.19945)\n",
       "583992  38.199461 -75.688560  POINT (-75.68856 38.19946)\n",
       "583993  38.199463 -75.688218  POINT (-75.68822 38.19946)\n",
       "583994  38.199485 -75.684449  POINT (-75.68445 38.19948)\n",
       "\n",
       "[583995 rows x 3 columns]"
      ]
     },
     "execution_count": 42,
     "metadata": {},
     "output_type": "execute_result"
    }
   ],
   "source": [
    "\n",
    "# Create Point geometry from longitude and latitude columns\n",
    "geometry = [Point(xy) for xy in zip(coords_df['lon'], coords_df['lat'])]\n",
    "\n",
    "# Convert to GeoDataFrame with point geometry\n",
    "coords_gdf = gpd.GeoDataFrame(coords_df, geometry=geometry)\n",
    "\n",
    "# Set coordinate reference system to WGS84 (lat/lon)\n",
    "coords_gdf.set_crs(epsg=4326, inplace=True)"
   ]
  },
  {
   "cell_type": "code",
   "execution_count": 43,
   "id": "d17442bd-b4ea-440a-a097-f4c54cc9e142",
   "metadata": {},
   "outputs": [
    {
     "data": {
      "text/html": [
       "\n",
       "            <style>\n",
       "                .geemap-dark {\n",
       "                    --jp-widgets-color: white;\n",
       "                    --jp-widgets-label-color: white;\n",
       "                    --jp-ui-font-color1: white;\n",
       "                    --jp-layout-color2: #454545;\n",
       "                    background-color: #383838;\n",
       "                }\n",
       "\n",
       "                .geemap-dark .jupyter-button {\n",
       "                    --jp-layout-color3: #383838;\n",
       "                }\n",
       "\n",
       "                .geemap-colab {\n",
       "                    background-color: var(--colab-primary-surface-color, white);\n",
       "                }\n",
       "\n",
       "                .geemap-colab .jupyter-button {\n",
       "                    --jp-layout-color3: var(--colab-primary-surface-color, white);\n",
       "                }\n",
       "            </style>\n",
       "            "
      ],
      "text/plain": [
       "<IPython.core.display.HTML object>"
      ]
     },
     "metadata": {},
     "output_type": "display_data"
    }
   ],
   "source": [
    "# # Extract WKT strings from the 'point' column\n",
    "# wkt_list = coords.point.tolist()\n",
    "\n",
    "# # Convert WKT strings to Shapely geometries\n",
    "# geoms = [wkt.loads(w) for w in wkt_list]\n",
    "\n",
    "# # Create GeoDataFrame\n",
    "# gdf = gpd.GeoDataFrame(coords_df.drop(columns=['point']), geometry=geoms, crs=\"EPSG:4326\")\n",
    "\n",
    "# # Export as GeoJSON\n",
    "# gdf.to_file(\"points.geojson\", driver=\"GeoJSON\")\n",
    "# print(\"Saved as points.geojson ✅\")"
   ]
  },
  {
   "cell_type": "code",
   "execution_count": null,
   "id": "df6fc8de-e6cd-4e40-888e-85c7d6bef52a",
   "metadata": {},
   "outputs": [],
   "source": []
  },
  {
   "cell_type": "markdown",
   "id": "8a0b317c-ecf9-4a20-85e5-2dcf3e7189ef",
   "metadata": {},
   "source": [
    "### Add geojason points to Earth Engine Feature Collection."
   ]
  },
  {
   "cell_type": "code",
   "execution_count": 44,
   "id": "7f756d9c-425b-4db5-8897-a301dbfccfb7",
   "metadata": {},
   "outputs": [
    {
     "data": {
      "text/html": [
       "\n",
       "            <style>\n",
       "                .geemap-dark {\n",
       "                    --jp-widgets-color: white;\n",
       "                    --jp-widgets-label-color: white;\n",
       "                    --jp-ui-font-color1: white;\n",
       "                    --jp-layout-color2: #454545;\n",
       "                    background-color: #383838;\n",
       "                }\n",
       "\n",
       "                .geemap-dark .jupyter-button {\n",
       "                    --jp-layout-color3: #383838;\n",
       "                }\n",
       "\n",
       "                .geemap-colab {\n",
       "                    background-color: var(--colab-primary-surface-color, white);\n",
       "                }\n",
       "\n",
       "                .geemap-colab .jupyter-button {\n",
       "                    --jp-layout-color3: var(--colab-primary-surface-color, white);\n",
       "                }\n",
       "            </style>\n",
       "            "
      ],
      "text/plain": [
       "<IPython.core.display.HTML object>"
      ]
     },
     "metadata": {},
     "output_type": "display_data"
    }
   ],
   "source": [
    "# #put gdf into geometry form\n",
    "# ee_points = [\n",
    "#     ee.Feature(ee.Geometry.Point(p.x, p.y), {\n",
    "#         \"type_value\": row.type_value,\n",
    "#         \"type\": row.type\n",
    "#     })\n",
    "#     for p, row in zip(gdf.geometry, gdf.itertuples(index=False))\n",
    "# ]\n",
    "# points = ee.FeatureCollection(ee_points)"
   ]
  },
  {
   "cell_type": "code",
   "execution_count": 45,
   "id": "3b14f150-83db-4df7-b52b-ddbd7ef5d0f3",
   "metadata": {},
   "outputs": [
    {
     "data": {
      "text/html": [
       "\n",
       "            <style>\n",
       "                .geemap-dark {\n",
       "                    --jp-widgets-color: white;\n",
       "                    --jp-widgets-label-color: white;\n",
       "                    --jp-ui-font-color1: white;\n",
       "                    --jp-layout-color2: #454545;\n",
       "                    background-color: #383838;\n",
       "                }\n",
       "\n",
       "                .geemap-dark .jupyter-button {\n",
       "                    --jp-layout-color3: #383838;\n",
       "                }\n",
       "\n",
       "                .geemap-colab {\n",
       "                    background-color: var(--colab-primary-surface-color, white);\n",
       "                }\n",
       "\n",
       "                .geemap-colab .jupyter-button {\n",
       "                    --jp-layout-color3: var(--colab-primary-surface-color, white);\n",
       "                }\n",
       "            </style>\n",
       "            "
      ],
      "text/plain": [
       "<IPython.core.display.HTML object>"
      ]
     },
     "metadata": {},
     "output_type": "display_data"
    }
   ],
   "source": [
    "polygon = ee.Geometry.Polygon([\n",
    "    [-76.35156992998947, 38.19934796579719],\n",
    "    [-75.68415049639572, 38.19934796579719],\n",
    "    [-75.68415049639572, 38.67479854331683],\n",
    "    [-76.35156992998947, 38.67479854331683],\n",
    "    [-76.35156992998947, 38.19934796579719], \n",
    "])"
   ]
  },
  {
   "cell_type": "markdown",
   "id": "97504e85-4acd-4f24-a2d4-5dbd712539d5",
   "metadata": {},
   "source": [
    "## 2. Filtering Functions"
   ]
  },
  {
   "cell_type": "code",
   "execution_count": 46,
   "id": "96962ae8-5a5b-4fbc-b4ef-7e531fe75377",
   "metadata": {},
   "outputs": [
    {
     "data": {
      "text/html": [
       "\n",
       "            <style>\n",
       "                .geemap-dark {\n",
       "                    --jp-widgets-color: white;\n",
       "                    --jp-widgets-label-color: white;\n",
       "                    --jp-ui-font-color1: white;\n",
       "                    --jp-layout-color2: #454545;\n",
       "                    background-color: #383838;\n",
       "                }\n",
       "\n",
       "                .geemap-dark .jupyter-button {\n",
       "                    --jp-layout-color3: #383838;\n",
       "                }\n",
       "\n",
       "                .geemap-colab {\n",
       "                    background-color: var(--colab-primary-surface-color, white);\n",
       "                }\n",
       "\n",
       "                .geemap-colab .jupyter-button {\n",
       "                    --jp-layout-color3: var(--colab-primary-surface-color, white);\n",
       "                }\n",
       "            </style>\n",
       "            "
      ],
      "text/plain": [
       "<IPython.core.display.HTML object>"
      ]
     },
     "metadata": {},
     "output_type": "display_data"
    }
   ],
   "source": [
    "def clp(image):\n",
    "    '''Clips a single Image to a region of interest'''\n",
    "    return image.clip(polygon)"
   ]
  },
  {
   "cell_type": "code",
   "execution_count": 47,
   "id": "8e5df64e-8ff2-41bd-93ef-a869f49953d0",
   "metadata": {},
   "outputs": [
    {
     "data": {
      "text/html": [
       "\n",
       "            <style>\n",
       "                .geemap-dark {\n",
       "                    --jp-widgets-color: white;\n",
       "                    --jp-widgets-label-color: white;\n",
       "                    --jp-ui-font-color1: white;\n",
       "                    --jp-layout-color2: #454545;\n",
       "                    background-color: #383838;\n",
       "                }\n",
       "\n",
       "                .geemap-dark .jupyter-button {\n",
       "                    --jp-layout-color3: #383838;\n",
       "                }\n",
       "\n",
       "                .geemap-colab {\n",
       "                    background-color: var(--colab-primary-surface-color, white);\n",
       "                }\n",
       "\n",
       "                .geemap-colab .jupyter-button {\n",
       "                    --jp-layout-color3: var(--colab-primary-surface-color, white);\n",
       "                }\n",
       "            </style>\n",
       "            "
      ],
      "text/plain": [
       "<IPython.core.display.HTML object>"
      ]
     },
     "metadata": {},
     "output_type": "display_data"
    }
   ],
   "source": [
    "# Applies scaling factors.\n",
    "def apply_scale_factors(image):\n",
    "  optical_bands = image.select('SR_B.').multiply(0.0000275).add(-0.2)\n",
    "  thermal_bands = image.select('ST_B.*').multiply(0.00341802).add(149.0)\n",
    "  return image.addBands(optical_bands, None, True).addBands(\n",
    "      thermal_bands, None, True\n",
    "  )"
   ]
  },
  {
   "cell_type": "code",
   "execution_count": 48,
   "id": "69ec44e7-1022-486d-b9e1-18b01a8f4db9",
   "metadata": {},
   "outputs": [
    {
     "data": {
      "text/html": [
       "\n",
       "            <style>\n",
       "                .geemap-dark {\n",
       "                    --jp-widgets-color: white;\n",
       "                    --jp-widgets-label-color: white;\n",
       "                    --jp-ui-font-color1: white;\n",
       "                    --jp-layout-color2: #454545;\n",
       "                    background-color: #383838;\n",
       "                }\n",
       "\n",
       "                .geemap-dark .jupyter-button {\n",
       "                    --jp-layout-color3: #383838;\n",
       "                }\n",
       "\n",
       "                .geemap-colab {\n",
       "                    background-color: var(--colab-primary-surface-color, white);\n",
       "                }\n",
       "\n",
       "                .geemap-colab .jupyter-button {\n",
       "                    --jp-layout-color3: var(--colab-primary-surface-color, white);\n",
       "                }\n",
       "            </style>\n",
       "            "
      ],
      "text/plain": [
       "<IPython.core.display.HTML object>"
      ]
     },
     "metadata": {},
     "output_type": "display_data"
    }
   ],
   "source": [
    "def maskS2clouds(image):\n",
    "    qa = image.select('QA_PIXEL')\n",
    "\n",
    "    # Bits 10 and 11 are clouds and cirrus, respectively.\n",
    "    cloudBitMask = 1 << 3\n",
    "    cirrusBitMask = 1 << 4\n",
    "\n",
    "    # Both flags should be set to zero, indicating clear conditions.\n",
    "    mask = qa.bitwiseAnd(cloudBitMask).eq(0) \\\n",
    "        .And(qa.bitwiseAnd(cirrusBitMask).eq(0))\n",
    "\n",
    "    return image.updateMask(mask) \\\n",
    "        .copyProperties(image, ['system:time_start'])  # this guy is important!"
   ]
  },
  {
   "cell_type": "code",
   "execution_count": 49,
   "id": "6a7946b9-a8db-4662-936c-556596ebda72",
   "metadata": {},
   "outputs": [
    {
     "data": {
      "text/html": [
       "\n",
       "            <style>\n",
       "                .geemap-dark {\n",
       "                    --jp-widgets-color: white;\n",
       "                    --jp-widgets-label-color: white;\n",
       "                    --jp-ui-font-color1: white;\n",
       "                    --jp-layout-color2: #454545;\n",
       "                    background-color: #383838;\n",
       "                }\n",
       "\n",
       "                .geemap-dark .jupyter-button {\n",
       "                    --jp-layout-color3: #383838;\n",
       "                }\n",
       "\n",
       "                .geemap-colab {\n",
       "                    background-color: var(--colab-primary-surface-color, white);\n",
       "                }\n",
       "\n",
       "                .geemap-colab .jupyter-button {\n",
       "                    --jp-layout-color3: var(--colab-primary-surface-color, white);\n",
       "                }\n",
       "            </style>\n",
       "            "
      ],
      "text/plain": [
       "<IPython.core.display.HTML object>"
      ]
     },
     "metadata": {},
     "output_type": "display_data"
    }
   ],
   "source": [
    "# Make an NDVI band\n",
    "def addNDVI(image):\n",
    "    ndvi = image.normalizedDifference(['SR_B5', 'SR_B4']).rename('NDVI')\n",
    "    #ndvi=np.where(\n",
    "    #(nir+red)==0., \n",
    "    #0, \n",
    "    #(nir-red)/(nir+red))\n",
    "    return image.addBands(ndvi).copyProperties(image, ['system:time_start'])"
   ]
  },
  {
   "cell_type": "code",
   "execution_count": 50,
   "id": "9ceb8260-6833-48a1-88a3-ae71cbdbbb67",
   "metadata": {},
   "outputs": [
    {
     "data": {
      "text/html": [
       "\n",
       "            <style>\n",
       "                .geemap-dark {\n",
       "                    --jp-widgets-color: white;\n",
       "                    --jp-widgets-label-color: white;\n",
       "                    --jp-ui-font-color1: white;\n",
       "                    --jp-layout-color2: #454545;\n",
       "                    background-color: #383838;\n",
       "                }\n",
       "\n",
       "                .geemap-dark .jupyter-button {\n",
       "                    --jp-layout-color3: #383838;\n",
       "                }\n",
       "\n",
       "                .geemap-colab {\n",
       "                    background-color: var(--colab-primary-surface-color, white);\n",
       "                }\n",
       "\n",
       "                .geemap-colab .jupyter-button {\n",
       "                    --jp-layout-color3: var(--colab-primary-surface-color, white);\n",
       "                }\n",
       "            </style>\n",
       "            "
      ],
      "text/plain": [
       "<IPython.core.display.HTML object>"
      ]
     },
     "metadata": {},
     "output_type": "display_data"
    }
   ],
   "source": [
    "# Function to sample NDVI at all points for each image\n",
    "def sample_image(image):\n",
    "    # Sample NDVI at points\n",
    "    samples = image.select('NDVI').sampleRegions(\n",
    "        points,\n",
    "        scale=30,\n",
    "        geometries=True  # Keep the geometry in output\n",
    "    )\n",
    "    # Add image date property to each sample\n",
    "    date_str = image.date().format('YYYY-MM-dd')\n",
    "    samples = samples.map(lambda f: f.set('date', date_str))\n",
    "    return samples"
   ]
  },
  {
   "cell_type": "markdown",
   "id": "67475db9-836d-455b-a2cf-4cff34602e0b",
   "metadata": {},
   "source": [
    "# 3. Filtering Dataset"
   ]
  },
  {
   "cell_type": "code",
   "execution_count": 2,
   "id": "0927e0e2-8d3e-474d-a225-f21c576c05c5",
   "metadata": {},
   "outputs": [
    {
     "ename": "NameError",
     "evalue": "name 'ee' is not defined",
     "output_type": "error",
     "traceback": [
      "\u001b[0;31m---------------------------------------------------------------------------\u001b[0m",
      "\u001b[0;31mNameError\u001b[0m                                 Traceback (most recent call last)",
      "Cell \u001b[0;32mIn[2], line 2\u001b[0m\n\u001b[1;32m      1\u001b[0m filtered_dataset \u001b[38;5;241m=\u001b[39m (\n\u001b[0;32m----> 2\u001b[0m     \u001b[43mee\u001b[49m\u001b[38;5;241m.\u001b[39mImageCollection(\u001b[38;5;124m\"\u001b[39m\u001b[38;5;124mLANDSAT/LC08/C02/T1_L2\u001b[39m\u001b[38;5;124m\"\u001b[39m)  \n\u001b[1;32m      3\u001b[0m                 \u001b[38;5;66;03m#   // Sentinel 2 harmonized data only available for certain time\u001b[39;00m\n\u001b[1;32m      4\u001b[0m                 \u001b[38;5;241m.\u001b[39mfilter(ee\u001b[38;5;241m.\u001b[39mFilter\u001b[38;5;241m.\u001b[39mcalendarRange(\u001b[38;5;241m2024\u001b[39m, \u001b[38;5;241m2024\u001b[39m, \u001b[38;5;124m'\u001b[39m\u001b[38;5;124myear\u001b[39m\u001b[38;5;124m'\u001b[39m)) \u001b[38;5;66;03m#choose range for desire image to download\u001b[39;00m\n\u001b[1;32m      5\u001b[0m                 \u001b[38;5;66;03m#   // Filter by month. Be mindful of snow! \u001b[39;00m\n\u001b[1;32m      6\u001b[0m                 \u001b[38;5;241m.\u001b[39mfilter(ee\u001b[38;5;241m.\u001b[39mFilter\u001b[38;5;241m.\u001b[39mcalendarRange(\u001b[38;5;241m6\u001b[39m,\u001b[38;5;241m8\u001b[39m,\u001b[38;5;124m'\u001b[39m\u001b[38;5;124mmonth\u001b[39m\u001b[38;5;124m'\u001b[39m)) \u001b[38;5;66;03m#choose 6-8 for growing season\u001b[39;00m\n\u001b[1;32m      7\u001b[0m                 \u001b[38;5;66;03m#.filterDate('2014-02-01','2020-05-30')\u001b[39;00m\n\u001b[1;32m      8\u001b[0m                 \u001b[38;5;241m.\u001b[39mfilterBounds(polygon)\n\u001b[1;32m      9\u001b[0m                 \u001b[38;5;241m.\u001b[39mmap(clp)\n\u001b[1;32m     10\u001b[0m                 \u001b[38;5;241m.\u001b[39mmap(apply_scale_factors)\n\u001b[1;32m     11\u001b[0m                 \u001b[38;5;241m.\u001b[39mfilterMetadata(\u001b[38;5;124m'\u001b[39m\u001b[38;5;124mCLOUD_COVER\u001b[39m\u001b[38;5;124m'\u001b[39m, \u001b[38;5;124m'\u001b[39m\u001b[38;5;124mless_than\u001b[39m\u001b[38;5;124m'\u001b[39m, \u001b[38;5;241m20\u001b[39m)\n\u001b[1;32m     12\u001b[0m                 \u001b[38;5;241m.\u001b[39mmap(maskS2clouds)\n\u001b[1;32m     13\u001b[0m                 \u001b[38;5;241m.\u001b[39mmap(addNDVI)\n\u001b[1;32m     14\u001b[0m                 \u001b[38;5;241m.\u001b[39mselect(\u001b[38;5;124m'\u001b[39m\u001b[38;5;124mNDVI\u001b[39m\u001b[38;5;124m'\u001b[39m)\n\u001b[1;32m     15\u001b[0m )\n",
      "\u001b[0;31mNameError\u001b[0m: name 'ee' is not defined"
     ]
    }
   ],
   "source": [
    "filtered_dataset = (\n",
    "    ee.ImageCollection(\"LANDSAT/LC08/C02/T1_L2\")  \n",
    "                #   // Sentinel 2 harmonized data only available for certain time\n",
    "                .filter(ee.Filter.calendarRange(2024, 2024, 'year')) #choose range for desire image to download\n",
    "                #   // Filter by month. Be mindful of snow! \n",
    "                .filter(ee.Filter.calendarRange(6,8,'month')) #choose 6-8 for growing season\n",
    "                #.filterDate('2014-02-01','2020-05-30')\n",
    "                .filterBounds(polygon)\n",
    "                .map(clp)\n",
    "                .map(apply_scale_factors)\n",
    "                .filterMetadata('CLOUD_COVER', 'less_than', 20)\n",
    "                .map(maskS2clouds)\n",
    "                .map(addNDVI)\n",
    "                .select('NDVI')\n",
    ")"
   ]
  },
  {
   "cell_type": "code",
   "execution_count": 52,
   "id": "95e1d445-6138-403d-bb60-f9d54f6741dc",
   "metadata": {},
   "outputs": [
    {
     "data": {
      "text/html": [
       "\n",
       "            <style>\n",
       "                .geemap-dark {\n",
       "                    --jp-widgets-color: white;\n",
       "                    --jp-widgets-label-color: white;\n",
       "                    --jp-ui-font-color1: white;\n",
       "                    --jp-layout-color2: #454545;\n",
       "                    background-color: #383838;\n",
       "                }\n",
       "\n",
       "                .geemap-dark .jupyter-button {\n",
       "                    --jp-layout-color3: #383838;\n",
       "                }\n",
       "\n",
       "                .geemap-colab {\n",
       "                    background-color: var(--colab-primary-surface-color, white);\n",
       "                }\n",
       "\n",
       "                .geemap-colab .jupyter-button {\n",
       "                    --jp-layout-color3: var(--colab-primary-surface-color, white);\n",
       "                }\n",
       "            </style>\n",
       "            "
      ],
      "text/plain": [
       "<IPython.core.display.HTML object>"
      ]
     },
     "metadata": {},
     "output_type": "display_data"
    },
    {
     "name": "stdout",
     "output_type": "stream",
     "text": [
      "2024: 2 images\n"
     ]
    }
   ],
   "source": [
    "def get_year(image):\n",
    "    date = ee.Date(image.get('system:time_start'))\n",
    "    year = date.get('year')\n",
    "    return image.set('year', year)\n",
    "\n",
    "# Add 'year' metadata to each image\n",
    "dataset_with_years = filtered_dataset.map(get_year)\n",
    "\n",
    "# Group and count images by year\n",
    "years = (dataset_with_years.aggregate_histogram('year').getInfo())\n",
    "\n",
    "# Print results\n",
    "for year, count in sorted(years.items()):\n",
    "    print(f\"{year}: {count} images\")"
   ]
  },
  {
   "cell_type": "code",
   "execution_count": 53,
   "id": "5f4cb382-cf03-4dae-8021-e1ff79e4c1be",
   "metadata": {},
   "outputs": [
    {
     "data": {
      "text/html": [
       "\n",
       "            <style>\n",
       "                .geemap-dark {\n",
       "                    --jp-widgets-color: white;\n",
       "                    --jp-widgets-label-color: white;\n",
       "                    --jp-ui-font-color1: white;\n",
       "                    --jp-layout-color2: #454545;\n",
       "                    background-color: #383838;\n",
       "                }\n",
       "\n",
       "                .geemap-dark .jupyter-button {\n",
       "                    --jp-layout-color3: #383838;\n",
       "                }\n",
       "\n",
       "                .geemap-colab {\n",
       "                    background-color: var(--colab-primary-surface-color, white);\n",
       "                }\n",
       "\n",
       "                .geemap-colab .jupyter-button {\n",
       "                    --jp-layout-color3: var(--colab-primary-surface-color, white);\n",
       "                }\n",
       "            </style>\n",
       "            "
      ],
      "text/plain": [
       "<IPython.core.display.HTML object>"
      ]
     },
     "metadata": {},
     "output_type": "display_data"
    },
    {
     "name": "stdout",
     "output_type": "stream",
     "text": [
      "Number of images: 2\n"
     ]
    }
   ],
   "source": [
    "\n",
    "# Count the number of images\n",
    "image_count = filtered_dataset.size().getInfo()\n",
    "\n",
    "print(f\"Number of images: {image_count}\")"
   ]
  },
  {
   "cell_type": "markdown",
   "id": "e9ca3ea4-0b46-4b66-86f7-ace8353d912d",
   "metadata": {},
   "source": [
    "Define dataset as image collection with filters applied"
   ]
  },
  {
   "cell_type": "code",
   "execution_count": 54,
   "id": "9e6c9329-969e-4d1c-a3b4-a0b2243dbd19",
   "metadata": {},
   "outputs": [
    {
     "data": {
      "text/html": [
       "\n",
       "            <style>\n",
       "                .geemap-dark {\n",
       "                    --jp-widgets-color: white;\n",
       "                    --jp-widgets-label-color: white;\n",
       "                    --jp-ui-font-color1: white;\n",
       "                    --jp-layout-color2: #454545;\n",
       "                    background-color: #383838;\n",
       "                }\n",
       "\n",
       "                .geemap-dark .jupyter-button {\n",
       "                    --jp-layout-color3: #383838;\n",
       "                }\n",
       "\n",
       "                .geemap-colab {\n",
       "                    background-color: var(--colab-primary-surface-color, white);\n",
       "                }\n",
       "\n",
       "                .geemap-colab .jupyter-button {\n",
       "                    --jp-layout-color3: var(--colab-primary-surface-color, white);\n",
       "                }\n",
       "            </style>\n",
       "            "
      ],
      "text/plain": [
       "<IPython.core.display.HTML object>"
      ]
     },
     "metadata": {},
     "output_type": "display_data"
    }
   ],
   "source": [
    "image = filtered_dataset.max()"
   ]
  },
  {
   "cell_type": "markdown",
   "id": "967c49c3-0e59-423c-8aa9-1e5cd4e6844a",
   "metadata": {},
   "source": [
    "# 4. Download NDVI Image \n",
    "#### For each image downloaded, make sure the date range in the dataset function matches the year you want the image."
   ]
  },
  {
   "cell_type": "code",
   "execution_count": 55,
   "id": "3f9248c8-1e1f-429e-994b-86b445e43256",
   "metadata": {},
   "outputs": [
    {
     "data": {
      "text/html": [
       "\n",
       "            <style>\n",
       "                .geemap-dark {\n",
       "                    --jp-widgets-color: white;\n",
       "                    --jp-widgets-label-color: white;\n",
       "                    --jp-ui-font-color1: white;\n",
       "                    --jp-layout-color2: #454545;\n",
       "                    background-color: #383838;\n",
       "                }\n",
       "\n",
       "                .geemap-dark .jupyter-button {\n",
       "                    --jp-layout-color3: #383838;\n",
       "                }\n",
       "\n",
       "                .geemap-colab {\n",
       "                    background-color: var(--colab-primary-surface-color, white);\n",
       "                }\n",
       "\n",
       "                .geemap-colab .jupyter-button {\n",
       "                    --jp-layout-color3: var(--colab-primary-surface-color, white);\n",
       "                }\n",
       "            </style>\n",
       "            "
      ],
      "text/plain": [
       "<IPython.core.display.HTML object>"
      ]
     },
     "metadata": {},
     "output_type": "display_data"
    }
   ],
   "source": [
    "# Export the image, specifying the CRS, transform, and region.\n",
    "task = ee.batch.Export.image.toDrive(\n",
    "    image=image,\n",
    "    description='ndvi_landsat_2024',\n",
    "    region=polygon,\n",
    "    folder='ndvi_landsat', \n",
    "    scale=30,\n",
    "    maxPixels=1e13\n",
    ")\n",
    "task.start()"
   ]
  },
  {
   "cell_type": "code",
   "execution_count": 3,
   "id": "5082082d-5e41-43ef-a421-62cc5d7d6e37",
   "metadata": {},
   "outputs": [
    {
     "ename": "NameError",
     "evalue": "name 'task' is not defined",
     "output_type": "error",
     "traceback": [
      "\u001b[0;31m---------------------------------------------------------------------------\u001b[0m",
      "\u001b[0;31mNameError\u001b[0m                                 Traceback (most recent call last)",
      "Cell \u001b[0;32mIn[3], line 1\u001b[0m\n\u001b[0;32m----> 1\u001b[0m \u001b[43mtask\u001b[49m\u001b[38;5;241m.\u001b[39mstatus() \u001b[38;5;66;03m#Refresh this line to see current status\u001b[39;00m\n",
      "\u001b[0;31mNameError\u001b[0m: name 'task' is not defined"
     ]
    }
   ],
   "source": [
    "task.status() #Refresh this line to see current status"
   ]
  },
  {
   "cell_type": "markdown",
   "id": "63954f76-7bc6-400a-a60a-ef4446478dc9",
   "metadata": {},
   "source": [
    "Global Variables Defined"
   ]
  },
  {
   "cell_type": "markdown",
   "id": "d26e11c1-f88b-4f60-a19d-0bb380979d22",
   "metadata": {},
   "source": [
    "Export NDVI Images"
   ]
  },
  {
   "cell_type": "code",
   "execution_count": 1,
   "id": "5cdd91e5-09e6-4145-9d4f-84860cf25d7b",
   "metadata": {},
   "outputs": [
    {
     "ename": "NameError",
     "evalue": "name 'filtered_dataset' is not defined",
     "output_type": "error",
     "traceback": [
      "\u001b[0;31m---------------------------------------------------------------------------\u001b[0m",
      "\u001b[0;31mNameError\u001b[0m                                 Traceback (most recent call last)",
      "Cell \u001b[0;32mIn[1], line 1\u001b[0m\n\u001b[0;32m----> 1\u001b[0m \u001b[38;5;28mprint\u001b[39m(\u001b[43mfiltered_dataset\u001b[49m\u001b[38;5;241m.\u001b[39mfirst()\u001b[38;5;241m.\u001b[39mbandNames()\u001b[38;5;241m.\u001b[39mgetInfo())\n",
      "\u001b[0;31mNameError\u001b[0m: name 'filtered_dataset' is not defined"
     ]
    }
   ],
   "source": [
    "print(filtered_dataset.first().bandNames().getInfo())"
   ]
  },
  {
   "cell_type": "markdown",
   "id": "c424ba8c-0bc7-4878-b8bc-091c053db495",
   "metadata": {},
   "source": [
    "# 5. Map"
   ]
  },
  {
   "cell_type": "code",
   "execution_count": null,
   "id": "d93bbea6-5090-4598-8373-72dcebe94079",
   "metadata": {
    "scrolled": true
   },
   "outputs": [],
   "source": [
    "visParams = {'bands': ['SR_B2', 'SR_B4', 'SR_B3'], 'min': 1, 'max': 65455} # RGB\n",
    "image_visParams = {\n",
    "    'bands': ['SR_B4', 'SR_B3', 'SR_B2'],  # RGB\n",
    "    'min': 0,\n",
    "    'max': 0.3,\n",
    "}\n",
    "#point_style = aoi.style(\n",
    "#    color='071aff',    # blue color\n",
    "#    width=3,           # point outline width\n",
    " #   fillColor='071aff' # fill color\n",
    "#)\n",
    "\n",
    "# Create a FeatureCollection from the geometry\n",
    "fc = ee.FeatureCollection([ee.Feature(polygon)])\n",
    "\n",
    "point_style = points.style(\n",
    "    color='071aff',    # blue color\n",
    "    width=3,           # point outline width\n",
    "    fillColor='071aff' # fill color\n",
    ")\n",
    "\n",
    "# Style the FeatureCollection with transparent fill and red outline\n",
    "style_params = {\n",
    "    'fillColor': '00000000',  # Transparent fill\n",
    "    'color': 'FF0000',        # Red outline\n",
    "    'width': 2,               # Line width\n",
    "    'lineType': 'solid'       # Solid line\n",
    "}\n",
    "styled_image = fc.style(**style_params)\n",
    "\n",
    "#'pallete'\n",
    "m = geemap.Map(center= [37.8, -76.2], zoom=5)\n",
    "\n",
    "# Add styled point layer to map\n",
    "m.addLayer(point_style, {}, 'Points')\n",
    "#m.addLayer(dataset, visParams, 'true color composite')\n",
    "#m.addLayer(image1, image_visParams, 'Image')\n",
    "#m\n",
    "#m.addLayer(styled_image, {}, 'Styled Polygon')\n",
    "#m.addLayer(image2024, {}, 'ndvi2024')\n",
    "m"
   ]
  }
 ],
 "metadata": {
  "kernelspec": {
   "display_name": "Python 3 (ipykernel)",
   "language": "python",
   "name": "python3"
  },
  "language_info": {
   "codemirror_mode": {
    "name": "ipython",
    "version": 3
   },
   "file_extension": ".py",
   "mimetype": "text/x-python",
   "name": "python",
   "nbconvert_exporter": "python",
   "pygments_lexer": "ipython3",
   "version": "3.11.11"
  }
 },
 "nbformat": 4,
 "nbformat_minor": 5
}
